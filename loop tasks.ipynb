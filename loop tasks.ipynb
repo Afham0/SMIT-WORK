{
 "cells": [
  {
   "cell_type": "code",
   "execution_count": 3,
   "id": "7ce8d5b4-dff1-46c5-92d9-8cd046b738fd",
   "metadata": {},
   "outputs": [
    {
     "name": "stdout",
     "output_type": "stream",
     "text": [
      "55\n",
      "66\n",
      "77\n",
      "555\n",
      "999\n",
      "67\n"
     ]
    }
   ],
   "source": [
    "a=[44,55,66,77,33,555,999,22,49,67]\n",
    "for x in range(len(a)):\n",
    "    if(a[x]>50):\n",
    "        print(a[x])\n",
    "else:\n",
    "    pass"
   ]
  },
  {
   "cell_type": "code",
   "execution_count": 9,
   "id": "0de082d8-e667-4dd2-8c01-c0e160564125",
   "metadata": {},
   "outputs": [],
   "source": [
    "a=[-44,55,66,77,-33,555,-999,-22,-49,-67]\n",
    "for x in range(len(a)):\n",
    "    if(a[x]<0):\n",
    "        a[x]=0\n",
    "    else:\n",
    "        pass"
   ]
  },
  {
   "cell_type": "code",
   "execution_count": 6,
   "id": "f5cee38d-ae2a-47f2-8d86-b44f0fc765fd",
   "metadata": {},
   "outputs": [
    {
     "data": {
      "text/plain": [
       "[0, 55, 66, 77, 0, 555, 0, 0, 0, 0]"
      ]
     },
     "execution_count": 6,
     "metadata": {},
     "output_type": "execute_result"
    }
   ],
   "source": [
    "a"
   ]
  },
  {
   "cell_type": "code",
   "execution_count": 10,
   "id": "279bb695-1012-4f0f-bd11-46a4a4bb2911",
   "metadata": {},
   "outputs": [
    {
     "name": "stdout",
     "output_type": "stream",
     "text": [
      "18\n",
      "67\n",
      "19\n",
      "22\n",
      "24\n",
      "34\n",
      "45\n"
     ]
    }
   ],
   "source": [
    "a=(18,67,19,22,24,34,45)\n",
    "for x in range(len(a)):\n",
    "    if(a[x]>=18):\n",
    "        print(a[x])\n",
    "else:\n",
    "    pass"
   ]
  },
  {
   "cell_type": "code",
   "execution_count": 17,
   "id": "cf480322-5d1d-4ffc-bcc8-e1ae6fff68ec",
   "metadata": {},
   "outputs": [
    {
     "name": "stdout",
     "output_type": "stream",
     "text": [
      "hi\n",
      "shaikh\n",
      "affu\n",
      "afmali\n"
     ]
    }
   ],
   "source": [
    "a=[\"afham\",\"hi\",\"afham\",\"shaikh\",\"affu\",\"afm\"\"ali\"]\n",
    "for x in range(len(a)):\n",
    "    if(a.count(a[x])==1):\n",
    "        print(a[x])\n",
    "    else:\n",
    "        pass"
   ]
  },
  {
   "cell_type": "code",
   "execution_count": 17,
   "id": "c78ca5c0-4f71-4d14-a0ac-c3cce51a9f76",
   "metadata": {},
   "outputs": [
    {
     "name": "stdout",
     "output_type": "stream",
     "text": [
      "afham 77\n",
      "shaikh 89\n"
     ]
    }
   ],
   "source": [
    "dict={\n",
    "    \"name\":[\"ali\",\"afham\",\"shaikh\"],\n",
    "    \"score\":[66,77,89],\n",
    " }\n",
    "for x in range(len(dict[\"score\"])):\n",
    "    if(dict[\"score\"][x]>=75):\n",
    "        print(dict[\"name\"][x],dict[\"score\"][x])\n",
    "    else:\n",
    "        pass"
   ]
  },
  {
   "cell_type": "code",
   "execution_count": 19,
   "id": "c18a6025-f4ff-4239-a85c-2f0786a0ac82",
   "metadata": {},
   "outputs": [
    {
     "name": "stdout",
     "output_type": "stream",
     "text": [
      "afham 2022 77\n",
      "shaikh 2024 89\n"
     ]
    }
   ],
   "source": [
    "dict={\n",
    "    \"name\":[\"ali\",\"afham\",\"shaikh\"],\n",
    "    \"year\":[2020,2022,2024],\n",
    "    \"score\":[66,77,89],\n",
    " }\n",
    "for x in range(len(dict[\"score\"])):\n",
    "    if(dict[\"score\"][x]>=75):\n",
    "        print(dict[\"name\"][x],dict[\"year\"][x],dict[\"score\"][x])\n",
    "    else:\n",
    "        pass"
   ]
  },
  {
   "cell_type": "code",
   "execution_count": 4,
   "id": "06e6022a-20b8-4cf0-9189-39f3292d15c9",
   "metadata": {},
   "outputs": [
    {
     "ename": "TypeError",
     "evalue": "list indices must be integers or slices, not str",
     "output_type": "error",
     "traceback": [
      "\u001b[31m---------------------------------------------------------------------------\u001b[39m",
      "\u001b[31mTypeError\u001b[39m                                 Traceback (most recent call last)",
      "\u001b[36mCell\u001b[39m\u001b[36m \u001b[39m\u001b[32mIn[4]\u001b[39m\u001b[32m, line 4\u001b[39m\n\u001b[32m      2\u001b[39m b=[]\n\u001b[32m      3\u001b[39m \u001b[38;5;28;01mfor\u001b[39;00m x \u001b[38;5;129;01min\u001b[39;00m a:\n\u001b[32m----> \u001b[39m\u001b[32m4\u001b[39m     \u001b[43mb\u001b[49m\u001b[43m[\u001b[49m\u001b[43mx\u001b[49m\u001b[43m]\u001b[49m=\u001b[38;5;28mlen\u001b[39m(a)\n\u001b[32m      5\u001b[39m \u001b[38;5;28mprint\u001b[39m(b)    \n",
      "\u001b[31mTypeError\u001b[39m: list indices must be integers or slices, not str"
     ]
    }
   ],
   "source": [
    "a=[\"ali\",\"afham\",\"shaikh\"]\n",
    "b=[]\n",
    "for x in a:\n",
    "    b[x]=len(a)\n",
    "print(b)    "
   ]
  },
  {
   "cell_type": "code",
   "execution_count": null,
   "id": "f36e39c2-e571-49c8-be1a-1cc2e9f7cc1f",
   "metadata": {},
   "outputs": [],
   "source": []
  }
 ],
 "metadata": {
  "kernelspec": {
   "display_name": "Python 3 (ipykernel)",
   "language": "python",
   "name": "python3"
  },
  "language_info": {
   "codemirror_mode": {
    "name": "ipython",
    "version": 3
   },
   "file_extension": ".py",
   "mimetype": "text/x-python",
   "name": "python",
   "nbconvert_exporter": "python",
   "pygments_lexer": "ipython3",
   "version": "3.13.3"
  }
 },
 "nbformat": 4,
 "nbformat_minor": 5
}
