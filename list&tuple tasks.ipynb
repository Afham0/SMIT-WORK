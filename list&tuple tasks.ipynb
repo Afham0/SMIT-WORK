{
 "cells": [
  {
   "cell_type": "code",
   "execution_count": 3,
   "id": "620cfbd7-81cb-47f4-af76-0b9ddb6cad07",
   "metadata": {},
   "outputs": [
    {
     "name": "stdout",
     "output_type": "stream",
     "text": [
      "//////////////////sign up///////////////\n"
     ]
    },
    {
     "name": "stdin",
     "output_type": "stream",
     "text": [
      "enter Email afham@gmail.com\n",
      "enter your password afham90\n"
     ]
    }
   ],
   "source": [
    "print(\"//////////////////sign up///////////////\")\n",
    "list=[]\n",
    "a=input(\"enter Email\")\n",
    "list.append(a)\n",
    "b=input(\"enter your password\")\n",
    "list.append(b)\n"
   ]
  },
  {
   "cell_type": "code",
   "execution_count": 4,
   "id": "e0f61103-203e-4351-a015-64a33890062e",
   "metadata": {},
   "outputs": [
    {
     "data": {
      "text/plain": [
       "['afham@gmail.com', 'afham90']"
      ]
     },
     "execution_count": 4,
     "metadata": {},
     "output_type": "execute_result"
    }
   ],
   "source": [
    "list\n"
   ]
  },
  {
   "cell_type": "code",
   "execution_count": 6,
   "id": "e25aa37f-56b4-49ad-803a-62a70c815495",
   "metadata": {},
   "outputs": [
    {
     "name": "stdout",
     "output_type": "stream",
     "text": [
      "//////////login///////////\n"
     ]
    },
    {
     "name": "stdin",
     "output_type": "stream",
     "text": [
      "enter your email afham@gmail.com\n"
     ]
    },
    {
     "name": "stdout",
     "output_type": "stream",
     "text": [
      "email verify\n"
     ]
    },
    {
     "name": "stdin",
     "output_type": "stream",
     "text": [
      "enter your password afham90\n"
     ]
    },
    {
     "name": "stdout",
     "output_type": "stream",
     "text": [
      "login sucssesfull\n"
     ]
    }
   ],
   "source": [
    "print(\"//////////login///////////\")\n",
    "email=input(\"enter your email\")\n",
    "if(email==list[0]):\n",
    "    print(\"email verify\")\n",
    "    password=input(\"enter your password\")\n",
    "    if(password==list[1]):\n",
    "        print(\"login sucssesfull\")\n",
    "    else:\n",
    "        print(\"wrong password\")\n",
    "else:\n",
    "    print(\"Invalid email\")\n",
    "    "
   ]
  },
  {
   "cell_type": "code",
   "execution_count": 14,
   "id": "46d264f6-9e3c-49f5-88f2-f6d2b03f7e0e",
   "metadata": {},
   "outputs": [
    {
     "name": "stdout",
     "output_type": "stream",
     "text": [
      "value is same\n"
     ]
    }
   ],
   "source": [
    "list=[1,2,3,4,5,6,7,8,9,1]\n",
    "\n",
    "if(list[0]==list[9]):\n",
    "    print('value is same')\n",
    "\n",
    "else:\n",
    "    print(\"Not same\")"
   ]
  },
  {
   "cell_type": "code",
   "execution_count": null,
   "id": "1078db61-8816-4bb8-aac1-cd81b9cd3a62",
   "metadata": {},
   "outputs": [],
   "source": [
    "\n",
    "list=[1,2,3,4,5,6,7,8,9]\n",
    "if(10 in list):\n",
    "\n",
    "    print(\"found\")"
   ]
  },
  {
   "cell_type": "code",
   "execution_count": 1,
   "id": "c04f5533-1a6e-4f52-ac95-a98e828f65d0",
   "metadata": {},
   "outputs": [
    {
     "name": "stdout",
     "output_type": "stream",
     "text": [
      "['bannana', 'mango', 'apple']\n"
     ]
    }
   ],
   "source": [
    "a=['bannana','mango','apple' ]\n",
    "print(a)"
   ]
  },
  {
   "cell_type": "code",
   "execution_count": 2,
   "id": "db5d53d8-a36f-4040-9246-e7046c80d966",
   "metadata": {},
   "outputs": [],
   "source": [
    "a.append('orange')"
   ]
  },
  {
   "cell_type": "code",
   "execution_count": 3,
   "id": "0d853a67-6cf8-4740-b8b1-3f1fa34a653f",
   "metadata": {},
   "outputs": [
    {
     "data": {
      "text/plain": [
       "['bannana', 'mango', 'apple', 'orange']"
      ]
     },
     "execution_count": 3,
     "metadata": {},
     "output_type": "execute_result"
    }
   ],
   "source": [
    "a"
   ]
  },
  {
   "cell_type": "code",
   "execution_count": 6,
   "id": "8aa552cd-14ee-44eb-af55-8aa0a0837169",
   "metadata": {},
   "outputs": [
    {
     "data": {
      "text/plain": [
       "[1, 22, 77]"
      ]
     },
     "execution_count": 6,
     "metadata": {},
     "output_type": "execute_result"
    }
   ],
   "source": [
    "a=[1,22,77]\n",
    "a"
   ]
  },
  {
   "cell_type": "code",
   "execution_count": 7,
   "id": "8068ec6e-1820-49f3-bf67-c7d5ea878505",
   "metadata": {},
   "outputs": [
    {
     "data": {
      "text/plain": [
       "22"
      ]
     },
     "execution_count": 7,
     "metadata": {},
     "output_type": "execute_result"
    }
   ],
   "source": [
    "a[1]"
   ]
  },
  {
   "cell_type": "code",
   "execution_count": 8,
   "id": "24672f0e-717b-40c3-b343-0502f3027e62",
   "metadata": {},
   "outputs": [
    {
     "data": {
      "text/plain": [
       "[1, 22, 77]"
      ]
     },
     "execution_count": 8,
     "metadata": {},
     "output_type": "execute_result"
    }
   ],
   "source": [
    "a=[1,22,77]\n",
    "a"
   ]
  },
  {
   "cell_type": "code",
   "execution_count": 9,
   "id": "f7682a4e-4638-47a0-bb53-3a13eeea88c4",
   "metadata": {},
   "outputs": [],
   "source": [
    "a[1]=33"
   ]
  },
  {
   "cell_type": "code",
   "execution_count": 10,
   "id": "87aaa618-f5ee-4e69-ab46-9370c5909b2a",
   "metadata": {},
   "outputs": [
    {
     "data": {
      "text/plain": [
       "[1, 33, 77]"
      ]
     },
     "execution_count": 10,
     "metadata": {},
     "output_type": "execute_result"
    }
   ],
   "source": [
    "a"
   ]
  },
  {
   "cell_type": "code",
   "execution_count": 11,
   "id": "f1a5e1ff-759e-4758-bd48-d1ecfdc9fa2f",
   "metadata": {},
   "outputs": [
    {
     "data": {
      "text/plain": [
       "[1, 2, 3, 4, 55, 6, 7, 8, 8]"
      ]
     },
     "execution_count": 11,
     "metadata": {},
     "output_type": "execute_result"
    }
   ],
   "source": [
    "a=[1,2,3,4,55,6,7,8,8]\n",
    "a"
   ]
  },
  {
   "cell_type": "code",
   "execution_count": 19,
   "id": "006b440b-f6f5-425e-953f-e08c1b50e4b7",
   "metadata": {},
   "outputs": [
    {
     "name": "stdin",
     "output_type": "stream",
     "text": [
      "value 50\n"
     ]
    },
    {
     "name": "stdout",
     "output_type": "stream",
     "text": [
      "found\n"
     ]
    }
   ],
   "source": [
    "a=[50,100,150,200]\n",
    "value=int(input(\"value\"))\n",
    "if(value in a):\n",
    "    print(\"found\")\n",
    "else:\n",
    "    print(\"not found\")"
   ]
  },
  {
   "cell_type": "code",
   "execution_count": 7,
   "id": "fd90b31b-844b-49be-af45-6b4641f67aaf",
   "metadata": {},
   "outputs": [
    {
     "data": {
      "text/plain": [
       "('hyd', 'karachi', 'islamabad')"
      ]
     },
     "execution_count": 7,
     "metadata": {},
     "output_type": "execute_result"
    }
   ],
   "source": [
    "a=('hyd','karachi','islamabad')\n",
    "a"
   ]
  },
  {
   "cell_type": "code",
   "execution_count": 8,
   "id": "32b7ff41-2d4b-4b8c-9e23-e35757d13604",
   "metadata": {},
   "outputs": [
    {
     "data": {
      "text/plain": [
       "tuple"
      ]
     },
     "execution_count": 8,
     "metadata": {},
     "output_type": "execute_result"
    }
   ],
   "source": [
    "type(a)"
   ]
  },
  {
   "cell_type": "code",
   "execution_count": 35,
   "id": "bfb65100-e38f-4169-9699-f5fec0880110",
   "metadata": {},
   "outputs": [
    {
     "data": {
      "text/plain": [
       "3"
      ]
     },
     "execution_count": 35,
     "metadata": {},
     "output_type": "execute_result"
    }
   ],
   "source": [
    "a=(1,2,3,4)\n",
    "a[2]"
   ]
  },
  {
   "cell_type": "code",
   "execution_count": 33,
   "id": "a684c0f4-26aa-4394-8f78-218e0911e84f",
   "metadata": {},
   "outputs": [
    {
     "data": {
      "text/plain": [
       "(1, 2, 3, 4, 5)"
      ]
     },
     "execution_count": 33,
     "metadata": {},
     "output_type": "execute_result"
    }
   ],
   "source": [
    "a=(1,2,3,4,5)\n",
    "a\n"
   ]
  },
  {
   "cell_type": "code",
   "execution_count": 34,
   "id": "cceac35b-0603-46a4-aa09-2024bbe21405",
   "metadata": {},
   "outputs": [
    {
     "data": {
      "text/plain": [
       "(2, 3)"
      ]
     },
     "execution_count": 34,
     "metadata": {},
     "output_type": "execute_result"
    }
   ],
   "source": [
    "a[1:3]"
   ]
  },
  {
   "cell_type": "code",
   "execution_count": 1,
   "id": "a2eda094-1bab-42ce-8bd0-3ac60420215e",
   "metadata": {},
   "outputs": [
    {
     "data": {
      "text/plain": [
       "(1, 1, 2, 3, 4, 4, 6)"
      ]
     },
     "execution_count": 1,
     "metadata": {},
     "output_type": "execute_result"
    }
   ],
   "source": [
    "a=(1,1,2,3,4,4,6,)\n",
    "a"
   ]
  },
  {
   "cell_type": "code",
   "execution_count": 2,
   "id": "31874ed7-808a-46e6-b006-bb897096ef56",
   "metadata": {},
   "outputs": [
    {
     "data": {
      "text/plain": [
       "2"
      ]
     },
     "execution_count": 2,
     "metadata": {},
     "output_type": "execute_result"
    }
   ],
   "source": [
    "a.count(4)"
   ]
  },
  {
   "cell_type": "code",
   "execution_count": 27,
   "id": "0aa20d8a-7d96-452b-af62-931737f25235",
   "metadata": {},
   "outputs": [],
   "source": [
    "a=[]\n"
   ]
  },
  {
   "cell_type": "code",
   "execution_count": 35,
   "id": "9b704214-3fe7-4b29-8c1a-08a5dfd9bbee",
   "metadata": {},
   "outputs": [],
   "source": [
    "a.append(90,)"
   ]
  },
  {
   "cell_type": "code",
   "execution_count": 38,
   "id": "7b6da757-f9c9-4fb0-97ce-d6fa42c1ddfb",
   "metadata": {},
   "outputs": [
    {
     "data": {
      "text/plain": [
       "[90]"
      ]
     },
     "execution_count": 38,
     "metadata": {},
     "output_type": "execute_result"
    }
   ],
   "source": [
    "a\n"
   ]
  },
  {
   "cell_type": "code",
   "execution_count": 37,
   "id": "51e15a5d-eb97-41a5-8c7e-e67f959fef47",
   "metadata": {},
   "outputs": [],
   "source": [
    "a.remove(90)"
   ]
  },
  {
   "cell_type": "code",
   "execution_count": 42,
   "id": "95765208-61b3-4c8b-8456-d67359adb43f",
   "metadata": {},
   "outputs": [
    {
     "data": {
      "text/plain": [
       "90"
      ]
     },
     "execution_count": 42,
     "metadata": {},
     "output_type": "execute_result"
    }
   ],
   "source": [
    "a[0]"
   ]
  },
  {
   "cell_type": "code",
   "execution_count": null,
   "id": "d9272b78-c8c0-433e-a7d0-d76167222e81",
   "metadata": {},
   "outputs": [],
   "source": []
  },
  {
   "cell_type": "code",
   "execution_count": null,
   "id": "514f1f07-2881-4426-84c1-8098ec980d12",
   "metadata": {},
   "outputs": [],
   "source": []
  }
 ],
 "metadata": {
  "kernelspec": {
   "display_name": "Python 3 (ipykernel)",
   "language": "python",
   "name": "python3"
  },
  "language_info": {
   "codemirror_mode": {
    "name": "ipython",
    "version": 3
   },
   "file_extension": ".py",
   "mimetype": "text/x-python",
   "name": "python",
   "nbconvert_exporter": "python",
   "pygments_lexer": "ipython3",
   "version": "3.13.3"
  }
 },
 "nbformat": 4,
 "nbformat_minor": 5
}
