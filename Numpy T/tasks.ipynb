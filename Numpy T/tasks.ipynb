{
 "cells": [
  {
   "cell_type": "code",
   "execution_count": 28,
   "id": "012907e3-4d49-4cbe-9b29-da81cb7da06f",
   "metadata": {},
   "outputs": [],
   "source": [
    "import numpy as np\n",
    "from numpy import genfromtxt"
   ]
  },
  {
   "cell_type": "code",
   "execution_count": 68,
   "id": "d4ff76b2-9c4f-41d6-b6b6-76e0de4ac3a0",
   "metadata": {},
   "outputs": [],
   "source": [
    "data_s = genfromtxt(\"invest.csv\",delimiter=',',dtype='str')"
   ]
  },
  {
   "cell_type": "code",
   "execution_count": 69,
   "id": "9592d356-fa02-4930-8414-6306d176e304",
   "metadata": {},
   "outputs": [
    {
     "data": {
      "text/plain": [
       "array([['Year', 'Profit Percentage', 'Additional Investment',\n",
       "        'Total Amount'],\n",
       "       ['1', '25%', '0', '6250.00'],\n",
       "       ['2', '-30%', '0', '4375.00'],\n",
       "       ['3', '22%', '0', '5337.50'],\n",
       "       ['4', '28%', '0', '6832.00'],\n",
       "       ['5', '25%', '2000', '10840.00'],\n",
       "       ['6', '5%', '0', '11382.00'],\n",
       "       ['7', '-25%', '0', '8536.50'],\n",
       "       ['8', '30%', '0', '11097.45'],\n",
       "       ['9', '-22%', '0', '8656.01'],\n",
       "       ['10', '28%', '0', '11079.69']], dtype='<U21')"
      ]
     },
     "execution_count": 69,
     "metadata": {},
     "output_type": "execute_result"
    }
   ],
   "source": [
    "data_s"
   ]
  },
  {
   "cell_type": "code",
   "execution_count": 70,
   "id": "03ffd93c-1859-4abe-b70f-bfb17c9815d0",
   "metadata": {},
   "outputs": [],
   "source": [
    "data_s=np.delete(data_s,0,axis=0)\n",
    "\n"
   ]
  },
  {
   "cell_type": "code",
   "execution_count": 71,
   "id": "927f091e-e603-4689-8ca8-bd7011db15cb",
   "metadata": {},
   "outputs": [
    {
     "data": {
      "text/plain": [
       "array([['1', '25%', '0', '6250.00'],\n",
       "       ['2', '-30%', '0', '4375.00'],\n",
       "       ['3', '22%', '0', '5337.50'],\n",
       "       ['4', '28%', '0', '6832.00'],\n",
       "       ['5', '25%', '2000', '10840.00'],\n",
       "       ['6', '5%', '0', '11382.00'],\n",
       "       ['7', '-25%', '0', '8536.50'],\n",
       "       ['8', '30%', '0', '11097.45'],\n",
       "       ['9', '-22%', '0', '8656.01'],\n",
       "       ['10', '28%', '0', '11079.69']], dtype='<U21')"
      ]
     },
     "execution_count": 71,
     "metadata": {},
     "output_type": "execute_result"
    }
   ],
   "source": [
    "data_s"
   ]
  },
  {
   "cell_type": "code",
   "execution_count": 88,
   "id": "3efef43c-3e1f-41da-b8db-8457a278e710",
   "metadata": {},
   "outputs": [],
   "source": [
    "data_s[data_s == \"%\"]\n",
    "data_s = np.where(data_s == \"%\",\"0\",data_s)\n",
    "perc=data_s[:,1]\n"
   ]
  },
  {
   "cell_type": "code",
   "execution_count": 90,
   "id": "271de6cc-38d7-4f6a-a60f-eb6820ea8595",
   "metadata": {},
   "outputs": [
    {
     "data": {
      "text/plain": [
       "array(['25%', '-30%', '22%', '28%', '25%', '5%', '-25%', '30%', '-22%',\n",
       "       '28%'], dtype='<U21')"
      ]
     },
     "execution_count": 90,
     "metadata": {},
     "output_type": "execute_result"
    }
   ],
   "source": [
    "perc"
   ]
  },
  {
   "cell_type": "code",
   "execution_count": null,
   "id": "b6317192-a12f-443f-8c45-4df4c15f8d80",
   "metadata": {},
   "outputs": [],
   "source": []
  },
  {
   "cell_type": "code",
   "execution_count": null,
   "id": "0f7df984-bab9-4f92-bc69-b432fd0326cb",
   "metadata": {},
   "outputs": [],
   "source": []
  }
 ],
 "metadata": {
  "kernelspec": {
   "display_name": "Python 3 (ipykernel)",
   "language": "python",
   "name": "python3"
  },
  "language_info": {
   "codemirror_mode": {
    "name": "ipython",
    "version": 3
   },
   "file_extension": ".py",
   "mimetype": "text/x-python",
   "name": "python",
   "nbconvert_exporter": "python",
   "pygments_lexer": "ipython3",
   "version": "3.13.3"
  }
 },
 "nbformat": 4,
 "nbformat_minor": 5
}
