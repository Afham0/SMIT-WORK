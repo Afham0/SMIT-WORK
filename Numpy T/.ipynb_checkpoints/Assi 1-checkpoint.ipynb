{
 "cells": [
  {
   "cell_type": "markdown",
   "id": "6bd92ad5-b8eb-49ef-bab6-0dc3065a4a59",
   "metadata": {},
   "source": [
    "Task 2. \n",
    "Student_data = {\"st-1\":{\"Maths\":85,\"Urdu\":70,\"Sindhi\":40,\"Chemistry\":90,\"Physics\":60},\n",
    "               \"st-2\":{\"Maths\":70,\"Urdu\":75,\"Sindhi\":40,\"Chemistry\":90,\"Physics\":60},\n",
    "               \"st-3\":{\"Maths\":80,\"Urdu\":70,\"Sindhi\":95,\"Chemistry\":90,\"Physics\":60},\n",
    "               \"st-4\":{\"Maths\":80,\"Urdu\":70,\"Sindhi\":50,\"Chemistry\":85,\"Physics\":60},\n",
    "               \"st-5\":{\"Maths\":80,\"Urdu\":75,\"Sindhi\":40,\"Chemistry\":90,\"Physics\":60}}\n",
    "1. Find Max and Min marks in every subject with StudentID.\n",
    "2. Find Max and Min marks of every student with subject name.\n",
    "3. Rank students on their total marks."
   ]
  },
  {
   "cell_type": "code",
   "execution_count": 3,
   "id": "c6332e00-a6c0-4343-aed2-e5f73cb6c3f0",
   "metadata": {},
   "outputs": [],
   "source": [
    "import numpy as np"
   ]
  },
  {
   "cell_type": "code",
   "execution_count": 52,
   "id": "b56021ab-1d48-4246-a5cd-d3ff02929eeb",
   "metadata": {},
   "outputs": [
    {
     "name": "stdout",
     "output_type": "stream",
     "text": [
      "Rank: 1\n",
      "Student_ID: st-3\n",
      "Max subject: Sindhi\n",
      "Max Marks: 95\n",
      "__________\n",
      "Rank: 2\n",
      "Student_ID: st-5\n",
      "Max subject: Chemistry\n",
      "Max Marks: 90\n",
      "__________\n",
      "Rank: 3\n",
      "Student_ID: st-4\n",
      "Max subject: Chemistry\n",
      "Max Marks: 85\n",
      "__________\n",
      "Rank: 4\n",
      "Student_ID: st-1\n",
      "Max subject: Chemistry\n",
      "Max Marks: 90\n",
      "__________\n",
      "Rank: 5\n",
      "Student_ID: st-2\n",
      "Max subject: Chemistry\n",
      "Max Marks: 90\n",
      "__________\n"
     ]
    }
   ],
   "source": [
    "Student_data = {\"st-1\":{\"Maths\":85,\"Urdu\":70,\"Sindhi\":40,\"Chemistry\":90,\"Physics\":60},\n",
    "                \"st-2\":{\"Maths\":70,\"Urdu\":75,\"Sindhi\":40,\"Chemistry\":90,\"Physics\":60},\n",
    "                \"st-3\":{\"Maths\":80,\"Urdu\":70,\"Sindhi\":95,\"Chemistry\":90,\"Physics\":60},\n",
    "                \"st-4\":{\"Maths\":80,\"Urdu\":70,\"Sindhi\":50,\"Chemistry\":85,\"Physics\":60},\n",
    "                \"st-5\":{\"Maths\":80,\"Urdu\":75,\"Sindhi\":40,\"Chemistry\":90,\"Physics\":60}}\n",
    "Student_array=np.array([list(marks.values())for marks in Student_data.values()])\n",
    "Student_ids=np.array([ids for ids in Student_data])\n",
    "Subjects=np.array(list(Student_data[\"st-1\"].keys()))\n",
    "total_marks = Student_array.sum(axis = 1)\n",
    "ranking = total_marks.argsort()[::-1]\n",
    "max_sub_student = Student_array.argmax(axis = 1)\n",
    "for rank, index in enumerate(ranking, start=1):\n",
    "    student = Student_array[index]\n",
    "    print(f\"Rank: {rank}\")\n",
    "    print(f\"Student_ID: {Student_ids[index]}\")\n",
    "    max_sub = max_sub_student[index]\n",
    "    print(f\"Max subject: {Subjects[max_sub]}\\nMax Marks: {student[max_sub]}\")\n",
    "    print(\"_\"*10)"
   ]
  },
  {
   "cell_type": "code",
   "execution_count": 39,
   "id": "c4476f69-5232-4cc4-b1c4-90d5fa7019bf",
   "metadata": {},
   "outputs": [
    {
     "name": "stdout",
     "output_type": "stream",
     "text": [
      "[345 335 395 345 345]\n",
      "[[85 70 40 90 60]\n",
      " [70 75 40 90 60]\n",
      " [80 70 95 90 60]\n",
      " [80 70 50 85 60]\n",
      " [80 75 40 90 60]]\n",
      "['st-1' 'st-2' 'st-3' 'st-4' 'st-5']\n",
      "[2 4 3 0 1]\n",
      "['Maths' 'Urdu' 'Sindhi' 'Chemistry' 'Physics']\n",
      "[3 3 2 3 3]\n",
      "[[2 4 1 0 3]\n",
      " [2 4 0 1 3]\n",
      " [4 1 0 3 2]\n",
      " [2 4 1 0 3]\n",
      " [2 4 1 0 3]]\n"
     ]
    }
   ],
   "source": [
    "print(total_marks)\n",
    "print(Student_array)\n",
    "print(Student_ids)\n",
    "print(ranking)\n",
    "print(Subjects)\n",
    "print(Student_array.argmax(axis = 1))\n",
    "print(Student_array.argsort())"
   ]
  },
  {
   "cell_type": "code",
   "execution_count": null,
   "id": "f75a91b2-b729-4355-9171-398f3afe47ae",
   "metadata": {},
   "outputs": [],
   "source": [
    "\n"
   ]
  }
 ],
 "metadata": {
  "kernelspec": {
   "display_name": "Python 3 (ipykernel)",
   "language": "python",
   "name": "python3"
  },
  "language_info": {
   "codemirror_mode": {
    "name": "ipython",
    "version": 3
   },
   "file_extension": ".py",
   "mimetype": "text/x-python",
   "name": "python",
   "nbconvert_exporter": "python",
   "pygments_lexer": "ipython3",
   "version": "3.13.3"
  }
 },
 "nbformat": 4,
 "nbformat_minor": 5
}
