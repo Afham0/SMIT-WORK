{
 "cells": [
  {
   "cell_type": "code",
   "execution_count": 2,
   "id": "1d1ab356-2e7d-42ec-b41e-f7fd6b3d1e90",
   "metadata": {},
   "outputs": [],
   "source": [
    "import numpy as np"
   ]
  },
  {
   "cell_type": "code",
   "execution_count": 4,
   "id": "708bcdf5-28dc-4b0d-928b-f9fbfa71e6e3",
   "metadata": {},
   "outputs": [
    {
     "name": "stdout",
     "output_type": "stream",
     "text": [
      "[ 2  4  6  7  8  7 45  3  2 12 33]\n"
     ]
    }
   ],
   "source": [
    "my_array = np.array([2,4,6,7,8,7,45,3,2,12,33])\n",
    "\n",
    "print(my_array)"
   ]
  },
  {
   "cell_type": "code",
   "execution_count": 4,
   "id": "138597fc-ceca-42b3-a60e-e4f3f166aec5",
   "metadata": {},
   "outputs": [],
   "source": [
    "list_1 = [1,2,3,4,5]\n",
    "list_1 = np.array(list_1,dtype = np.float64)"
   ]
  },
  {
   "cell_type": "code",
   "execution_count": 5,
   "id": "163a0a34-25aa-4a45-a19a-49dc8dc67f87",
   "metadata": {},
   "outputs": [
    {
     "data": {
      "text/plain": [
       "array([1., 2., 3., 4., 5.])"
      ]
     },
     "execution_count": 5,
     "metadata": {},
     "output_type": "execute_result"
    }
   ],
   "source": [
    "list_1"
   ]
  },
  {
   "cell_type": "code",
   "execution_count": 7,
   "id": "2334fa65-9f25-473c-af9f-a69d9687e29a",
   "metadata": {},
   "outputs": [
    {
     "data": {
      "text/plain": [
       "array([1, 2, 3, 4, 5], dtype=int8)"
      ]
     },
     "execution_count": 7,
     "metadata": {},
     "output_type": "execute_result"
    }
   ],
   "source": [
    "list_2 = [1,2,3,4,5]\n",
    "list_2 = np.array(list_1,dtype = np.int8)\n",
    "list_2"
   ]
  },
  {
   "cell_type": "code",
   "execution_count": 10,
   "id": "ecadc4d6-8fe4-4c57-8c1d-0f6762703b43",
   "metadata": {},
   "outputs": [
    {
     "data": {
      "text/plain": [
       "array([['1', '2', '3'],\n",
       "       ['a', 'b', 'c'],\n",
       "       ['True', 'False', 'True']], dtype='<U21')"
      ]
     },
     "execution_count": 10,
     "metadata": {},
     "output_type": "execute_result"
    }
   ],
   "source": [
    "my_multi_array = np.array([[1,2,3],['a','b','c'],[True,False,True]])\n",
    "my_multi_array"
   ]
  },
  {
   "cell_type": "code",
   "execution_count": 12,
   "id": "0cd33af9-a145-4754-bffd-a819040c61ed",
   "metadata": {},
   "outputs": [
    {
     "data": {
      "text/plain": [
       "array([0.        , 0.07142857, 0.14285714, 0.21428571, 0.28571429,\n",
       "       0.35714286, 0.42857143, 0.5       , 0.57142857, 0.64285714,\n",
       "       0.71428571, 0.78571429, 0.85714286, 0.92857143, 1.        ])"
      ]
     },
     "execution_count": 12,
     "metadata": {},
     "output_type": "execute_result"
    }
   ],
   "source": [
    "np.linspace(0,1,15)"
   ]
  },
  {
   "cell_type": "code",
   "execution_count": 13,
   "id": "30b2ee48-9266-4723-af89-c4e7ca3a1c2a",
   "metadata": {},
   "outputs": [
    {
     "data": {
      "text/plain": [
       "array([0., 0., 0., 0., 0.])"
      ]
     },
     "execution_count": 13,
     "metadata": {},
     "output_type": "execute_result"
    }
   ],
   "source": [
    "np.zeros(5)"
   ]
  },
  {
   "cell_type": "code",
   "execution_count": 21,
   "id": "2661c7ee-b91c-4c0c-af27-035c645e9580",
   "metadata": {},
   "outputs": [
    {
     "name": "stdout",
     "output_type": "stream",
     "text": [
      "[1 2 3 4 5 6 7 8 9]\n"
     ]
    },
    {
     "data": {
      "text/plain": [
       "array([ 2,  4,  6,  8, 10, 12, 14, 16, 18])"
      ]
     },
     "execution_count": 21,
     "metadata": {},
     "output_type": "execute_result"
    }
   ],
   "source": [
    "print(np.arange(1,10))\n",
    "np.arange(2,20,2)"
   ]
  },
  {
   "cell_type": "code",
   "execution_count": 20,
   "id": "c946dc38-06f4-4f9b-9d7f-79bf05c84c12",
   "metadata": {},
   "outputs": [
    {
     "data": {
      "text/plain": [
       "array([[1., 1., 1.],\n",
       "       [1., 1., 1.],\n",
       "       [1., 1., 1.]])"
      ]
     },
     "execution_count": 20,
     "metadata": {},
     "output_type": "execute_result"
    }
   ],
   "source": [
    "np.ones((3,3))"
   ]
  },
  {
   "cell_type": "code",
   "execution_count": 25,
   "id": "bb5fb7c0-6fb4-4138-9737-bc28d6555430",
   "metadata": {},
   "outputs": [
    {
     "data": {
      "text/plain": [
       "array([ 1,  2,  3,  4,  5,  6,  7,  8,  9, 10, 11, 12, 13, 14, 15, 16, 17,\n",
       "       18, 19, 20, 21, 22, 23, 24, 25, 26, 27, 28, 29, 30, 31, 32, 33, 34,\n",
       "       35, 36, 37, 38, 39, 40, 41, 42, 43, 44, 45, 46, 47, 48, 49, 50, 51,\n",
       "       52, 53, 54, 55, 56, 57, 58, 59, 60, 61, 62, 63, 64, 65, 66, 67, 68,\n",
       "       69, 70, 71, 72, 73, 74, 75, 76, 77, 78, 79, 80, 81, 82, 83, 84, 85,\n",
       "       86, 87, 88, 89, 90, 91, 92, 93, 94, 95, 96, 97, 98, 99])"
      ]
     },
     "execution_count": 25,
     "metadata": {},
     "output_type": "execute_result"
    }
   ],
   "source": [
    "myarray = np.arange(1,100)\n",
    "myarray"
   ]
  },
  {
   "cell_type": "code",
   "execution_count": 17,
   "id": "8332d086-fbf9-434c-b535-bb4f8a4299ff",
   "metadata": {},
   "outputs": [
    {
     "data": {
      "text/plain": [
       "99"
      ]
     },
     "execution_count": 17,
     "metadata": {},
     "output_type": "execute_result"
    }
   ],
   "source": [
    "myarray.size"
   ]
  },
  {
   "cell_type": "code",
   "execution_count": 18,
   "id": "830d70f1-fabc-465c-91cd-4ca888f42cc8",
   "metadata": {},
   "outputs": [
    {
     "data": {
      "text/plain": [
       "99"
      ]
     },
     "execution_count": 18,
     "metadata": {},
     "output_type": "execute_result"
    }
   ],
   "source": [
    "len(myarray)"
   ]
  },
  {
   "cell_type": "code",
   "execution_count": 27,
   "id": "f5bcac1c-c265-4625-930b-4719fe2dde74",
   "metadata": {},
   "outputs": [
    {
     "data": {
      "text/plain": [
       "dtype('int64')"
      ]
     },
     "execution_count": 27,
     "metadata": {},
     "output_type": "execute_result"
    }
   ],
   "source": [
    "myarray.dtype"
   ]
  },
  {
   "cell_type": "code",
   "execution_count": 31,
   "id": "39358914-ebaa-44b4-92fa-785dc6c6167e",
   "metadata": {},
   "outputs": [
    {
     "data": {
      "text/plain": [
       "array([43, 33, 25, 19, 19, 42,  9, 21,  7, 48], dtype=int32)"
      ]
     },
     "execution_count": 31,
     "metadata": {},
     "output_type": "execute_result"
    }
   ],
   "source": [
    "np.random.randint(1,50, size=10)"
   ]
  },
  {
   "cell_type": "code",
   "execution_count": 33,
   "id": "ea0ae8cc-3ea7-47ec-bb4f-2c6ca5272158",
   "metadata": {},
   "outputs": [
    {
     "data": {
      "text/plain": [
       "np.str_('TAIL')"
      ]
     },
     "execution_count": 33,
     "metadata": {},
     "output_type": "execute_result"
    }
   ],
   "source": [
    "np.random.choice(['HEAD','TAIL'])"
   ]
  },
  {
   "cell_type": "code",
   "execution_count": 35,
   "id": "d0651ae4-c54d-4e77-8395-9e8d04816405",
   "metadata": {},
   "outputs": [
    {
     "data": {
      "text/plain": [
       "array(['TAIL', 'TAIL', 'TAIL', 'HEAD', 'TAIL', 'TAIL', 'HEAD', 'HEAD',\n",
       "       'HEAD', 'HEAD', 'HEAD', 'TAIL', 'HEAD', 'TAIL', 'HEAD', 'TAIL',\n",
       "       'HEAD', 'TAIL', 'TAIL', 'TAIL'], dtype='<U4')"
      ]
     },
     "execution_count": 35,
     "metadata": {},
     "output_type": "execute_result"
    }
   ],
   "source": [
    "np.random.choice(['HEAD','TAIL'],size = 20)"
   ]
  },
  {
   "cell_type": "code",
   "execution_count": 11,
   "id": "c1104065-2a4b-4c77-831d-fbe89883333e",
   "metadata": {},
   "outputs": [
    {
     "data": {
      "text/plain": [
       "array([ 1, 23,  6,  6,  7, 89,  9,  5,  4, 44, 90])"
      ]
     },
     "execution_count": 11,
     "metadata": {},
     "output_type": "execute_result"
    }
   ],
   "source": [
    "np.array([1,23,6,6,7,89,9,5,4,44,90])"
   ]
  },
  {
   "cell_type": "code",
   "execution_count": 15,
   "id": "5484a524-7e39-49e1-9648-a77e75eaad06",
   "metadata": {},
   "outputs": [
    {
     "data": {
      "text/plain": [
       "np.int64(1)"
      ]
     },
     "execution_count": 15,
     "metadata": {},
     "output_type": "execute_result"
    }
   ],
   "source": [
    "np.random.choice([1,10])"
   ]
  },
  {
   "cell_type": "code",
   "execution_count": 7,
   "id": "f9d1b20c-d0bc-4975-8ffa-db5e68fec902",
   "metadata": {},
   "outputs": [],
   "source": [
    "np.arange(1,5).dtype = np.int8"
   ]
  },
  {
   "cell_type": "code",
   "execution_count": null,
   "id": "63c49e67-da63-4156-86dc-52fa1b536c65",
   "metadata": {},
   "outputs": [],
   "source": [
    "list= [[1,3,5],[4,8,4,],[3,8,2]]\n"
   ]
  },
  {
   "cell_type": "code",
   "execution_count": 13,
   "id": "cda51138-7042-4f58-a820-d40461ca449b",
   "metadata": {},
   "outputs": [
    {
     "name": "stdout",
     "output_type": "stream",
     "text": [
      "[3 1 1 4 2]\n",
      "[3 2 4 0 3]\n",
      "MAth: Max marks: ([90, 40, 80, 60, 50], 0)\n",
      "science: Max marks: ([30, 70, 80, 40, 50], 1)\n",
      "english: Max marks: ([30, 70, 80, 40, 50], 2)\n",
      "urdu: Max marks: ([70, 50, 30, 90, 20], 3)\n",
      "sindhi: Max marks: ([20, 60, 40, 70, 90], 4)\n"
     ]
    }
   ],
   "source": [
    "studentdata = [[\"MAth\",\"science\",\"english\",\"urdu\",\"sindhi\"],\n",
    "               [50,60,70,80,40],\n",
    "               [30,70,80,40,50],\n",
    "               [20,60,40,70,90],\n",
    "               [90,40,80,60,50],\n",
    "               [70,50,30,90,20]]\n",
    "subjects = studentdata.pop(0)\n",
    "array1=np.array(studentdata)\n",
    "\n",
    "max_subject = array1.argmax(axis=0)\n",
    "print(max_subject)\n",
    "max_student = array1.argmax(axis=1)\n",
    "print(max_student)\n",
    "\n",
    "for i in range (0, len(subjects)):\n",
    "    print (f\"{subjects[i]}: Max marks: {studentdata[max_subject[i]],i}\")\n",
    "\n"
   ]
  },
  {
   "cell_type": "code",
   "execution_count": 3,
   "id": "d3e217e9-82e9-4925-b084-29721dc66de0",
   "metadata": {},
   "outputs": [
    {
     "name": "stdout",
     "output_type": "stream",
     "text": [
      "13205.812838400001\n",
      "profit is 4205.812838400001\n",
      "Amean:  0.10\n"
     ]
    }
   ],
   "source": [
    "initial_a=9000\n",
    "profit = np.array([-0.10,0.20,0.80,-0.30,-0.40,-0.20,0.30,0.60,-0.10,0.20])\n",
    "factor = profit + 1\n",
    "#print(factor)\n",
    "p_o_f = factor.prod()\n",
    "amount = 9000*p_o_f\n",
    "print(amount)\n",
    "print(f\"profit is {amount-initial_a}\")\n",
    "print(f\"Amean: {profit.mean(): .2f}\")"
   ]
  },
  {
   "cell_type": "code",
   "execution_count": 4,
   "id": "0f6284e2-3795-4034-84f9-f3f047d4312e",
   "metadata": {},
   "outputs": [
    {
     "name": "stderr",
     "output_type": "stream",
     "text": [
      "C:\\Users\\afham\\AppData\\Local\\Temp\\ipykernel_16012\\1492145057.py:1: RuntimeWarning: invalid value encountered in power\n",
      "  gmean=np.pow(profit.prod(),1/len(factor))-1\n"
     ]
    }
   ],
   "source": [
    "gmean=np.pow(profit.prod(),1/len(factor))-1"
   ]
  },
  {
   "cell_type": "code",
   "execution_count": 22,
   "id": "dfb3a004-af2e-4a59-9db3-4506c7a184fe",
   "metadata": {},
   "outputs": [
    {
     "data": {
      "text/plain": [
       "np.float64(-1.3824000000000007e-06)"
      ]
     },
     "execution_count": 22,
     "metadata": {},
     "output_type": "execute_result"
    }
   ],
   "source": [
    "profit.prod()"
   ]
  },
  {
   "cell_type": "code",
   "execution_count": 30,
   "id": "d7b82fe0-cc3c-407f-b5bb-291324f6b319",
   "metadata": {},
   "outputs": [
    {
     "name": "stdout",
     "output_type": "stream",
     "text": [
      "Amean:  0.10\n"
     ]
    }
   ],
   "source": []
  },
  {
   "cell_type": "code",
   "execution_count": 3,
   "id": "cd10361e-c391-43f3-a9fc-6b7be9edaacd",
   "metadata": {},
   "outputs": [
    {
     "name": "stdout",
     "output_type": "stream",
     "text": [
      "[1, 2, 3, 4, 5]\n"
     ]
    }
   ],
   "source": [
    "python_list = [1,2,3,4,5]\n",
    "print(python_list)"
   ]
  },
  {
   "cell_type": "code",
   "execution_count": 37,
   "id": "469df831-5299-4516-8ba5-7ac2343346a0",
   "metadata": {},
   "outputs": [
    {
     "name": "stdout",
     "output_type": "stream",
     "text": [
      "(3, 3)\n",
      "9\n",
      "2\n",
      "int64\n"
     ]
    },
    {
     "data": {
      "text/plain": [
       "array([[1., 3., 4.],\n",
       "       [2., 4., 6.],\n",
       "       [3., 5., 7.]])"
      ]
     },
     "execution_count": 37,
     "metadata": {},
     "output_type": "execute_result"
    }
   ],
   "source": [
    "ar_r = np.array([[1,3,4],    #two dimentional array\n",
    "                 [2,4,6],\n",
    "                 [3,5,7]])\n",
    "print(ar_r.shape)\n",
    "print(ar_r.size)\n",
    "print(ar_r.ndim)\n",
    "print(ar_r.dtype)\n",
    "ar_r.astype(float)"
   ]
  },
  {
   "cell_type": "code",
   "execution_count": 38,
   "id": "07e5f25f-0145-41cb-9416-8f0396c49c29",
   "metadata": {},
   "outputs": [
    {
     "data": {
      "text/plain": [
       "array([[5., 5., 5.],\n",
       "       [5., 5., 5.],\n",
       "       [5., 5., 5.]])"
      ]
     },
     "execution_count": 38,
     "metadata": {},
     "output_type": "execute_result"
    }
   ],
   "source": [
    "zero=np.zeros((3,3))\n",
    "zero+5\n"
   ]
  },
  {
   "cell_type": "code",
   "execution_count": 18,
   "id": "880173b2-5da6-4290-b061-9d75bc96aad9",
   "metadata": {},
   "outputs": [
    {
     "data": {
      "text/plain": [
       "array([[1., 1.],\n",
       "       [1., 1.],\n",
       "       [1., 1.]])"
      ]
     },
     "execution_count": 18,
     "metadata": {},
     "output_type": "execute_result"
    }
   ],
   "source": [
    "one=np.ones((3,2))\n",
    "one"
   ]
  },
  {
   "cell_type": "code",
   "execution_count": 19,
   "id": "389a1296-2336-4fe4-849c-a7da344292fd",
   "metadata": {},
   "outputs": [
    {
     "name": "stdout",
     "output_type": "stream",
     "text": [
      "[[5 5]\n",
      " [5 5]]\n"
     ]
    }
   ],
   "source": [
    "filled_a = np.full((2,2),5)\n",
    "print(filled_a)"
   ]
  },
  {
   "cell_type": "code",
   "execution_count": 45,
   "id": "dba4e2c7-f5a8-4385-9c3f-112688f7be35",
   "metadata": {},
   "outputs": [
    {
     "name": "stdout",
     "output_type": "stream",
     "text": [
      "50\n"
     ]
    },
    {
     "data": {
      "text/plain": [
       "np.int64(90)"
      ]
     },
     "execution_count": 45,
     "metadata": {},
     "output_type": "execute_result"
    }
   ],
   "source": [
    "arr=np.array([90,80,70,60,50])\n",
    "print(np.min(arr))\n",
    "np.max(arr)"
   ]
  },
  {
   "cell_type": "code",
   "execution_count": 46,
   "id": "0d33c8db-5190-47e7-a8b0-875203224e47",
   "metadata": {},
   "outputs": [
    {
     "data": {
      "text/plain": [
       "np.float64(70.0)"
      ]
     },
     "execution_count": 46,
     "metadata": {},
     "output_type": "execute_result"
    }
   ],
   "source": [
    "np.mean(arr)"
   ]
  },
  {
   "cell_type": "code",
   "execution_count": 49,
   "id": "4c786a2f-07b3-4107-8594-3300de630521",
   "metadata": {},
   "outputs": [
    {
     "data": {
      "text/plain": [
       "np.int64(30)"
      ]
     },
     "execution_count": 49,
     "metadata": {},
     "output_type": "execute_result"
    }
   ],
   "source": [
    "arr1=np.array([10,90,80,30,40])\n",
    "arr1[3]  #access index number"
   ]
  },
  {
   "cell_type": "code",
   "execution_count": 10,
   "id": "7a2ba851-f32d-4d61-a6af-df53af287506",
   "metadata": {},
   "outputs": [
    {
     "name": "stdout",
     "output_type": "stream",
     "text": [
      "[90 40 50 30 50 90 80]\n",
      "[90 40 50]\n",
      "[30 50 90 80]\n",
      "[90 50 50 80]\n",
      "[80 90 50 30 50 40 90]\n"
     ]
    }
   ],
   "source": [
    "#slicing\n",
    "arr2=np.array([90,40,50,30,50,90,80])\n",
    "print(arr2[0:7])\n",
    "print(arr2[:3])\n",
    "print(arr2[3:])\n",
    "print(arr2[::2])  #every second element\n",
    "print(arr2[::-1])  #reverse a list "
   ]
  },
  {
   "cell_type": "code",
   "execution_count": 12,
   "id": "f25755ba-68db-4052-b3bc-a639f7afdae3",
   "metadata": {},
   "outputs": [
    {
     "data": {
      "text/plain": [
       "array([90, 90, 80])"
      ]
     },
     "execution_count": 12,
     "metadata": {},
     "output_type": "execute_result"
    }
   ],
   "source": [
    "arr2[arr2>50]"
   ]
  },
  {
   "cell_type": "code",
   "execution_count": null,
   "id": "a12b49c4-2613-4d6f-9e2b-1c02ab80cb10",
   "metadata": {},
   "outputs": [],
   "source": []
  }
 ],
 "metadata": {
  "kernelspec": {
   "display_name": "Python 3 (ipykernel)",
   "language": "python",
   "name": "python3"
  },
  "language_info": {
   "codemirror_mode": {
    "name": "ipython",
    "version": 3
   },
   "file_extension": ".py",
   "mimetype": "text/x-python",
   "name": "python",
   "nbconvert_exporter": "python",
   "pygments_lexer": "ipython3",
   "version": "3.13.3"
  }
 },
 "nbformat": 4,
 "nbformat_minor": 5
}
