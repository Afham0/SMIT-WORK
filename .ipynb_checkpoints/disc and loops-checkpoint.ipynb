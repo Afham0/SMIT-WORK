{
 "cells": [
  {
   "cell_type": "code",
   "execution_count": 8,
   "id": "ae85275b-8a88-429d-b9a1-7caa8240d9f4",
   "metadata": {},
   "outputs": [],
   "source": [
    "a={\n",
    "  \"name\":[\"afham\"],\n",
    "    \"age\":[18],\n",
    "   }\n"
   ]
  },
  {
   "cell_type": "code",
   "execution_count": 9,
   "id": "5c4c8c6c-b574-441d-9623-cb28551f7ef0",
   "metadata": {},
   "outputs": [
    {
     "data": {
      "text/plain": [
       "'age'"
      ]
     },
     "execution_count": 9,
     "metadata": {},
     "output_type": "execute_result"
    }
   ],
   "source": [
    "\"age\""
   ]
  },
  {
   "cell_type": "code",
   "execution_count": 12,
   "id": "8e9d5210-c945-469e-bebe-967ad0fecb47",
   "metadata": {},
   "outputs": [],
   "source": [
    "a=\"afham shaikh\""
   ]
  },
  {
   "cell_type": "code",
   "execution_count": 13,
   "id": "ed42ebe2-af93-4144-8613-df58b6b5ec75",
   "metadata": {},
   "outputs": [
    {
     "data": {
      "text/plain": [
       "'AFHAM SHAIKH'"
      ]
     },
     "execution_count": 13,
     "metadata": {},
     "output_type": "execute_result"
    }
   ],
   "source": [
    "a.upper()"
   ]
  },
  {
   "cell_type": "code",
   "execution_count": 14,
   "id": "2e398d1c-3a2f-4ce2-a9b6-1304c3825ab4",
   "metadata": {},
   "outputs": [
    {
     "data": {
      "text/plain": [
       "'afham shaikh'"
      ]
     },
     "execution_count": 14,
     "metadata": {},
     "output_type": "execute_result"
    }
   ],
   "source": [
    "a.lower()"
   ]
  },
  {
   "cell_type": "code",
   "execution_count": 15,
   "id": "9bba6fcb-1645-4a6d-9a67-32c04587af88",
   "metadata": {},
   "outputs": [
    {
     "data": {
      "text/plain": [
       "'afham_shaikh'"
      ]
     },
     "execution_count": 15,
     "metadata": {},
     "output_type": "execute_result"
    }
   ],
   "source": [
    "a.replace(\" \",\"_\")"
   ]
  },
  {
   "cell_type": "code",
   "execution_count": 16,
   "id": "4f43984d-ae88-414e-bea5-47c838ea7dff",
   "metadata": {},
   "outputs": [
    {
     "data": {
      "text/plain": [
       "'ham '"
      ]
     },
     "execution_count": 16,
     "metadata": {},
     "output_type": "execute_result"
    }
   ],
   "source": [
    "a[2:6]"
   ]
  },
  {
   "cell_type": "code",
   "execution_count": 18,
   "id": "abeabf39-32fb-4bea-86f1-6d4a6fff6000",
   "metadata": {},
   "outputs": [
    {
     "name": "stdout",
     "output_type": "stream",
     "text": [
      "0\n",
      "1\n",
      "2\n",
      "3\n",
      "4\n",
      "5\n",
      "6\n",
      "7\n",
      "8\n",
      "9\n"
     ]
    }
   ],
   "source": [
    "for x in range(10):\n",
    "    print(x)"
   ]
  },
  {
   "cell_type": "code",
   "execution_count": 1,
   "id": "db5914aa-c621-4728-bf14-fc51578a37bb",
   "metadata": {},
   "outputs": [
    {
     "name": "stdout",
     "output_type": "stream",
     "text": [
      "9\n",
      "18\n",
      "27\n",
      "36\n",
      "45\n",
      "54\n",
      "63\n",
      "72\n",
      "81\n",
      "90\n"
     ]
    }
   ],
   "source": [
    "for x in range(9,91,9):\n",
    "    print(x)"
   ]
  },
  {
   "cell_type": "code",
   "execution_count": 4,
   "id": "94d98b63-1e7b-46c9-9cb5-b8c9cad96a0e",
   "metadata": {},
   "outputs": [
    {
     "name": "stdout",
     "output_type": "stream",
     "text": [
      "1\n",
      "2\n",
      "3\n",
      "4\n",
      "5\n",
      "6\n",
      "7\n",
      "8\n",
      "9\n",
      "10\n"
     ]
    }
   ],
   "source": [
    "a=[1,2,3,4,5,6,7,8,9,10]\n",
    "for x in range(len(a)):\n",
    "    print(a[x])"
   ]
  },
  {
   "cell_type": "code",
   "execution_count": 5,
   "id": "0be56c63-4e33-4080-8b39-30e62b0f2023",
   "metadata": {},
   "outputs": [
    {
     "name": "stdout",
     "output_type": "stream",
     "text": [
      "afham_shaikh\n"
     ]
    }
   ],
   "source": [
    "a=[\"afham_shaikh\"]\n",
    "for x in range(len(a)):\n",
    "    print(a[x])"
   ]
  },
  {
   "cell_type": "code",
   "execution_count": 3,
   "id": "23483db5-c03b-45d9-bb19-21d1d2b5a915",
   "metadata": {},
   "outputs": [
    {
     "name": "stdout",
     "output_type": "stream",
     "text": [
      "afham\n",
      "afham\n",
      "ali\n",
      "ali\n"
     ]
    }
   ],
   "source": [
    "a=[\"afham\",\"afham\",\"ali\",\"affu\",\"ali\"]\n",
    "for x in range(len(a)):\n",
    "    if(a.count(a[x])>1):\n",
    "        print(a[x])\n",
    "    else:\n",
    "        pass"
   ]
  },
  {
   "cell_type": "code",
   "execution_count": 4,
   "id": "1fed1d5f-aa97-4f4e-8933-ed0a2ce56b01",
   "metadata": {},
   "outputs": [
    {
     "name": "stdout",
     "output_type": "stream",
     "text": [
      "20\n",
      "18\n",
      "16\n",
      "14\n",
      "12\n",
      "10\n",
      "8\n",
      "6\n",
      "4\n",
      "2\n"
     ]
    }
   ],
   "source": [
    "for x in range (20,1,-2):\n",
    "    print(x)"
   ]
  },
  {
   "cell_type": "code",
   "execution_count": 7,
   "id": "014b696d-598b-40b6-bd48-8ca3e84dcba2",
   "metadata": {},
   "outputs": [
    {
     "name": "stdout",
     "output_type": "stream",
     "text": [
      "2\n",
      "4\n",
      "6\n",
      "8\n",
      "10\n",
      "12\n",
      "14\n",
      "16\n",
      "18\n",
      "20\n"
     ]
    }
   ],
   "source": [
    "for x in range (2,21,2):\n",
    "    print(x)\n"
   ]
  },
  {
   "cell_type": "code",
   "execution_count": 12,
   "id": "7f76c3ae-cb63-4ab5-94d5-49d574e0e718",
   "metadata": {},
   "outputs": [
    {
     "name": "stdin",
     "output_type": "stream",
     "text": [
      "enter your number 7\n"
     ]
    },
    {
     "name": "stdout",
     "output_type": "stream",
     "text": [
      "*\n",
      "**\n",
      "***\n",
      "****\n",
      "*****\n",
      "******\n",
      "*******\n"
     ]
    }
   ],
   "source": [
    "rows=int(input(\"enter your number\"))\n",
    "for x in range (rows):\n",
    "    print(\"*\" * (x+1))"
   ]
  },
  {
   "cell_type": "code",
   "execution_count": 20,
   "id": "6bf58b8f-fbe9-4ca3-9711-68e94aeef565",
   "metadata": {},
   "outputs": [
    {
     "name": "stdin",
     "output_type": "stream",
     "text": [
      "enter your number 10\n"
     ]
    },
    {
     "name": "stdout",
     "output_type": "stream",
     "text": [
      "||||||||||\n",
      "|||||||||\n",
      "||||||||\n",
      "|||||||\n",
      "||||||\n",
      "|||||\n",
      "||||\n",
      "|||\n",
      "||\n",
      "|\n"
     ]
    }
   ],
   "source": [
    "rows=int(input(\"enter your number\"))\n",
    "for x in range (rows,0,-1):\n",
    "    print(\"|\" * (x))"
   ]
  },
  {
   "cell_type": "code",
   "execution_count": 19,
   "id": "abfdc528-6115-49d5-963b-82b362dc1112",
   "metadata": {},
   "outputs": [
    {
     "name": "stdout",
     "output_type": "stream",
     "text": [
      "^\n",
      "^^\n",
      "^^^\n",
      "^^^^\n",
      "^^^^^\n"
     ]
    }
   ],
   "source": [
    "for x in range (5):\n",
    "    print(\"^\" * (x+1))"
   ]
  },
  {
   "cell_type": "code",
   "execution_count": 18,
   "id": "47adb135-f521-4dff-8b2e-99837d3327b1",
   "metadata": {},
   "outputs": [
    {
     "name": "stdout",
     "output_type": "stream",
     "text": [
      "&&&&&\n",
      "&&&&\n",
      "&&&\n",
      "&&\n",
      "&\n"
     ]
    }
   ],
   "source": [
    "for x in range (5,0,-1):\n",
    "    print(\"&\" * (x))"
   ]
  },
  {
   "cell_type": "code",
   "execution_count": 23,
   "id": "21bea279-e1b0-4dd2-9502-48e29072b475",
   "metadata": {},
   "outputs": [
    {
     "name": "stdin",
     "output_type": "stream",
     "text": [
      "enter your value 8\n"
     ]
    },
    {
     "name": "stdout",
     "output_type": "stream",
     "text": [
      " ^  ^  ^  ^  ^  ^  ^  ^ \n",
      " ^  ^  ^  ^  ^  ^  ^  ^ \n",
      " ^  ^  ^  ^  ^  ^  ^  ^ \n",
      " ^  ^  ^  ^  ^  ^  ^  ^ \n",
      " ^  ^  ^  ^  ^  ^  ^  ^ \n",
      " ^  ^  ^  ^  ^  ^  ^  ^ \n",
      " ^  ^  ^  ^  ^  ^  ^  ^ \n",
      " ^  ^  ^  ^  ^  ^  ^  ^ \n"
     ]
    }
   ],
   "source": [
    "rows=int(input(\"enter your value\"))\n",
    "for x in range (rows):\n",
    "    print(\" ^ \" * rows)"
   ]
  },
  {
   "cell_type": "code",
   "execution_count": 29,
   "id": "288ce2c4-a715-4e41-ac4f-0786ca06277c",
   "metadata": {},
   "outputs": [
    {
     "name": "stdin",
     "output_type": "stream",
     "text": [
      "value 8\n"
     ]
    },
    {
     "name": "stdout",
     "output_type": "stream",
     "text": [
      "         ^ \n",
      "        ^ ^ \n",
      "       ^ ^ ^ \n",
      "      ^ ^ ^ ^ \n",
      "     ^ ^ ^ ^ ^ \n",
      "    ^ ^ ^ ^ ^ ^ \n",
      "   ^ ^ ^ ^ ^ ^ ^ \n",
      "  ^ ^ ^ ^ ^ ^ ^ ^ \n"
     ]
    }
   ],
   "source": [
    "rows=int(input(\"value\"))\n",
    "for x in range(rows):\n",
    "    print(\" \" * (rows-x),\"^ \" * (x+1))"
   ]
  },
  {
   "cell_type": "code",
   "execution_count": 43,
   "id": "25083398-eca9-4c39-96b3-cf9733bf56cc",
   "metadata": {},
   "outputs": [
    {
     "name": "stdin",
     "output_type": "stream",
     "text": [
      "value 8\n"
     ]
    },
    {
     "name": "stdout",
     "output_type": "stream",
     "text": [
      "         ^ \n",
      "        ^ ^ \n",
      "       ^ ^ ^ \n",
      "      ^ ^ ^ ^ \n",
      "     ^ ^ ^ ^ ^ \n",
      "    ^ ^ ^ ^ ^ ^ \n",
      "   ^ ^ ^ ^ ^ ^ ^ \n",
      "  ^ ^ ^ ^ ^ ^ ^ ^ \n",
      "   ^ ^ ^ ^ ^ ^ ^\n",
      "    ^ ^ ^ ^ ^ ^\n",
      "     ^ ^ ^ ^ ^\n",
      "      ^ ^ ^ ^\n",
      "       ^ ^ ^\n",
      "        ^ ^\n",
      "         ^\n"
     ]
    }
   ],
   "source": [
    "\n",
    "\n",
    "rows=int(input(\"value\"))\n",
    "for x in range(rows):\n",
    "    print(\" \" * (rows-x),\"^ \" * (x+1))\n",
    "for y in range(rows-1,0,-1):\n",
    "    print(\" \" * (rows-y),\" ^\" * (y))"
   ]
  },
  {
   "cell_type": "code",
   "execution_count": 44,
   "id": "0b06e131-f655-4af1-88b6-a642e2aadd2f",
   "metadata": {},
   "outputs": [
    {
     "name": "stdin",
     "output_type": "stream",
     "text": [
      "value 6\n"
     ]
    },
    {
     "name": "stdout",
     "output_type": "stream",
     "text": [
      " ^ ^ ^ ^ ^ ^ \n",
      "  ^ ^ ^ ^ ^ \n",
      "   ^ ^ ^ ^ \n",
      "    ^ ^ ^ \n",
      "     ^ ^ \n",
      "      ^ \n"
     ]
    }
   ],
   "source": [
    "rows=int(input(\"value\"))\n",
    "for x in range(rows,0,-1):\n",
    "    print(\" \" * (rows-x),\"^ \" * (x))\n",
    "\n"
   ]
  },
  {
   "cell_type": "code",
   "execution_count": null,
   "id": "dd49c000-a7e8-4663-a6d7-dff744e5c82a",
   "metadata": {},
   "outputs": [],
   "source": []
  }
 ],
 "metadata": {
  "kernelspec": {
   "display_name": "Python 3 (ipykernel)",
   "language": "python",
   "name": "python3"
  },
  "language_info": {
   "codemirror_mode": {
    "name": "ipython",
    "version": 3
   },
   "file_extension": ".py",
   "mimetype": "text/x-python",
   "name": "python",
   "nbconvert_exporter": "python",
   "pygments_lexer": "ipython3",
   "version": "3.13.3"
  }
 },
 "nbformat": 4,
 "nbformat_minor": 5
}
