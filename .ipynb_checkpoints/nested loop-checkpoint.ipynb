{
 "cells": [
  {
   "cell_type": "code",
   "execution_count": 11,
   "id": "3b4928d9-ceec-4473-9ad7-99336d501f09",
   "metadata": {},
   "outputs": [
    {
     "name": "stdout",
     "output_type": "stream",
     "text": [
      "* \n",
      "* * \n",
      "* * * \n",
      "* * * * \n",
      "* * * * * \n"
     ]
    }
   ],
   "source": [
    "for x in range(1,6,):\n",
    "    for x in range(x):\n",
    "        print(\"*\" ,end=\" \")\n",
    "    print() "
   ]
  },
  {
   "cell_type": "code",
   "execution_count": 14,
   "id": "1e8d708f-1671-4724-a340-4d3fdcc67976",
   "metadata": {},
   "outputs": [
    {
     "name": "stdout",
     "output_type": "stream",
     "text": [
      "* * * * * * \n",
      "* * * * * \n",
      "* * * * \n",
      "* * * \n",
      "* * \n",
      "* \n"
     ]
    }
   ],
   "source": [
    "for x in range(6,0,-1):\n",
    "    for x in range(x):\n",
    "        print(\"*\" ,end=\" \")\n",
    "    print() "
   ]
  },
  {
   "cell_type": "code",
   "execution_count": 16,
   "id": "4a8f3f50-7514-406e-a4a8-c2978a185ba0",
   "metadata": {},
   "outputs": [
    {
     "name": "stdout",
     "output_type": "stream",
     "text": [
      "* \n",
      "* * \n",
      "* * * \n",
      "* * * * \n",
      "* * * * * \n",
      "* \n",
      "* * \n",
      "* * * \n",
      "* * * * \n",
      "* * * * * \n"
     ]
    }
   ],
   "source": [
    "for x in range(1,6,):\n",
    "    for x in range(x):\n",
    "        print(\"*\" ,end=\" \")\n",
    "    print() \n",
    "for x in range(1,6,):\n",
    "    for x in range(x):\n",
    "        print(\"*\" ,end=\" \")\n",
    "    print() "
   ]
  },
  {
   "cell_type": "code",
   "execution_count": 17,
   "id": "18010266-75a9-4360-b5f6-a9b2c7d68a86",
   "metadata": {},
   "outputs": [
    {
     "name": "stdout",
     "output_type": "stream",
     "text": [
      "* \n",
      "* * \n",
      "* * * \n",
      "* * * * \n",
      "* * * * * \n",
      "* * * * * * \n",
      "* * * * * \n",
      "* * * * \n",
      "* * * \n",
      "* * \n",
      "* \n"
     ]
    }
   ],
   "source": [
    "for x in range(1,6,):\n",
    "    for x in range(x):\n",
    "        print(\"*\" ,end=\" \")\n",
    "    print() \n",
    "for x in range(6,0,-1):\n",
    "    for x in range(x):\n",
    "        print(\"*\" ,end=\" \")\n",
    "    print()     "
   ]
  },
  {
   "cell_type": "code",
   "execution_count": 18,
   "id": "2e84fc02-1aa1-4814-bcc1-c03c82874501",
   "metadata": {},
   "outputs": [
    {
     "name": "stdout",
     "output_type": "stream",
     "text": [
      "* * * * * * \n",
      "* * * * * \n",
      "* * * * \n",
      "* * * \n",
      "* * \n",
      "* \n",
      "* \n",
      "* * \n",
      "* * * \n",
      "* * * * \n",
      "* * * * * \n"
     ]
    }
   ],
   "source": [
    "for x in range(6,0,-1):\n",
    "    for x in range(x):\n",
    "        print(\"*\" ,end=\" \")\n",
    "    print() \n",
    "for x in range(1,6,):\n",
    "    for x in range(x):\n",
    "        print(\"*\" ,end=\" \")\n",
    "    print()     "
   ]
  },
  {
   "cell_type": "code",
   "execution_count": 27,
   "id": "06c5326a-df75-4ab6-a0f1-ac742fa76d16",
   "metadata": {},
   "outputs": [
    {
     "name": "stdout",
     "output_type": "stream",
     "text": [
      "1 66 77 4 78 56 16 0 88 "
     ]
    }
   ],
   "source": [
    "a=[[1,66,77],[4,78,56],[16,00,88]]\n",
    "for x in range (len(a)):\n",
    "    for y in range(len (a[x])):\n",
    "     print(a[x][y],end=\" \")        "
   ]
  },
  {
   "cell_type": "code",
   "execution_count": null,
   "id": "b8b034c9-d106-4add-ae6a-32b107c5d2a4",
   "metadata": {},
   "outputs": [],
   "source": [
    "a=[[[1,66,77],[4,78,56],[16,00,88]],[[10,660,777],[489,7899,506],[176,100,9988]]]\n",
    "for x in range (len(a)):\n",
    "    for y in range(len (a[x])):\n",
    "        for z in range(len())\n",
    "     print(a[x][y],end=\" \") "
   ]
  }
 ],
 "metadata": {
  "kernelspec": {
   "display_name": "Python 3 (ipykernel)",
   "language": "python",
   "name": "python3"
  },
  "language_info": {
   "codemirror_mode": {
    "name": "ipython",
    "version": 3
   },
   "file_extension": ".py",
   "mimetype": "text/x-python",
   "name": "python",
   "nbconvert_exporter": "python",
   "pygments_lexer": "ipython3",
   "version": "3.13.3"
  }
 },
 "nbformat": 4,
 "nbformat_minor": 5
}
