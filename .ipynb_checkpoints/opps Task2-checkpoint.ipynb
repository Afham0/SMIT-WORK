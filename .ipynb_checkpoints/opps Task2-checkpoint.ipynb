{
 "cells": [
  {
   "cell_type": "code",
   "execution_count": 13,
   "id": "cecdb69c-c70a-4e76-885d-ee8d2f8cd2f1",
   "metadata": {},
   "outputs": [],
   "source": [
    "##Create a Book class with title, author, and pages.\n",
    "#Implement:\n",
    "#_str_() → returns \"Title by Author\".\n",
    "#_repr_() → returns a dev-friendly string with all details.\n",
    "  # Task 1  \n",
    "class book:\n",
    "    def __init__(self,title,auther,pages):\n",
    "        self.title=title\n",
    "        self.auther=auther\n",
    "        self.pages=pages\n",
    "    def __str__(self):\n",
    "        return f\" title: {self.title}\"\n",
    "    def __repr__(self):\n",
    "        return f\"Tittle: {self.title}| Auther: {self.auther}| Pages: {self.pages}\"\n",
    "o1=book(\"Never up\",\"Shaikh\",120)"
   ]
  },
  {
   "cell_type": "code",
   "execution_count": 14,
   "id": "b43b8a28-0eb8-453f-9425-5335a38d4790",
   "metadata": {},
   "outputs": [
    {
     "name": "stdout",
     "output_type": "stream",
     "text": [
      " title: Never up\n",
      "Tittle: Never up| Auther: Shaikh| Pages: 120\n"
     ]
    }
   ],
   "source": [
    "print(str(o1))\n",
    "print(repr(o1))"
   ]
  },
  {
   "cell_type": "code",
   "execution_count": 11,
   "id": "a2ee1a03-8dbd-4017-9b97-cc9487a17517",
   "metadata": {},
   "outputs": [],
   "source": [
    "#2. Custom Addition\n",
    "#Create a Vector class with x and y coordinates.\n",
    "#Implement _add_() so two vectors can be added using +.\n",
    "#Length Override\n",
    "class vector:\n",
    "    def __init__(self,x,y):\n",
    "        self.xcoordinate= x\n",
    "        self.ycoordinate= y\n",
    "    def __add__(self,other):\n",
    "        self.ycoordinate += other\n",
    "        return f\"length is override {self.ycoordinate}\"\n",
    "o1=vector(2,1)       "
   ]
  },
  {
   "cell_type": "code",
   "execution_count": 12,
   "id": "55d6220b-b818-41af-b61a-da355b26ab8f",
   "metadata": {},
   "outputs": [
    {
     "name": "stdout",
     "output_type": "stream",
     "text": [
      "length is override 11\n"
     ]
    }
   ],
   "source": [
    "print(o1+10)"
   ]
  },
  {
   "cell_type": "code",
   "execution_count": 4,
   "id": "51d14ea9-c5f3-493c-b30b-fbf7c7bd555c",
   "metadata": {},
   "outputs": [],
   "source": [
    "# create a playlist class with a list of songs.\n",
    "#implement _len_() so\n",
    "#len(playlist) return number of songs\n",
    "class palylist:\n",
    "    a=['song1','song2','song3','song4','song5']\n",
    "    def __len__(self):\n",
    "        return len(self.a)"
   ]
  },
  {
   "cell_type": "code",
   "execution_count": 5,
   "id": "3439761f-b6f9-446d-a5a3-39024dcd8f86",
   "metadata": {},
   "outputs": [
    {
     "data": {
      "text/plain": [
       "5"
      ]
     },
     "execution_count": 5,
     "metadata": {},
     "output_type": "execute_result"
    }
   ],
   "source": [
    "p1=palylist()\n",
    "len(p1)"
   ]
  },
  {
   "cell_type": "code",
   "execution_count": null,
   "id": "9a691445-c6ef-4e11-aca1-7d6c7cd60890",
   "metadata": {},
   "outputs": [],
   "source": []
  }
 ],
 "metadata": {
  "kernelspec": {
   "display_name": "Python 3 (ipykernel)",
   "language": "python",
   "name": "python3"
  },
  "language_info": {
   "codemirror_mode": {
    "name": "ipython",
    "version": 3
   },
   "file_extension": ".py",
   "mimetype": "text/x-python",
   "name": "python",
   "nbconvert_exporter": "python",
   "pygments_lexer": "ipython3",
   "version": "3.13.3"
  }
 },
 "nbformat": 4,
 "nbformat_minor": 5
}
