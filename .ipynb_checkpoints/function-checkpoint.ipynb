{
 "cells": [
  {
   "cell_type": "code",
   "execution_count": 12,
   "id": "70e89afc-005a-492b-b7c6-aae1c9d14788",
   "metadata": {},
   "outputs": [],
   "source": [
    "def table():\n",
    "    for x in range(1,6,):\n",
    "        for x in range(x):\n",
    "            print(\"*\" ,end=\" \")\n",
    "        print() "
   ]
  },
  {
   "cell_type": "code",
   "execution_count": 13,
   "id": "bac606a0-4cd2-48a4-9dcc-e732daca2cd4",
   "metadata": {},
   "outputs": [
    {
     "name": "stdout",
     "output_type": "stream",
     "text": [
      "* \n",
      "* * \n",
      "* * * \n",
      "* * * * \n",
      "* * * * * \n"
     ]
    }
   ],
   "source": [
    "table()"
   ]
  },
  {
   "cell_type": "code",
   "execution_count": 16,
   "id": "8704cca2-7314-48a3-9e0c-cdcbe9bc5011",
   "metadata": {},
   "outputs": [],
   "source": [
    "def table(num):\n",
    "    for x in range(10,0,-1):\n",
    "        print(num*x)"
   ]
  },
  {
   "cell_type": "code",
   "execution_count": 17,
   "id": "9b336ced-3a29-41d5-b9a1-baa209149a76",
   "metadata": {},
   "outputs": [
    {
     "name": "stdout",
     "output_type": "stream",
     "text": [
      "40\n",
      "36\n",
      "32\n",
      "28\n",
      "24\n",
      "20\n",
      "16\n",
      "12\n",
      "8\n",
      "4\n"
     ]
    }
   ],
   "source": [
    "table(4)\n"
   ]
  },
  {
   "cell_type": "code",
   "execution_count": 18,
   "id": "9ce1549d-ce80-4890-ac5f-2bcb5c3b6221",
   "metadata": {},
   "outputs": [],
   "source": [
    "def calculater(num1,num2):\n",
    "    user=int(input(\"enter your value\"))\n",
    "    \n",
    "    print(num1-num2)\n",
    "    print(num1-num2)\n",
    "    print(num1-num2)\n",
    "    print(num1/num2)"
   ]
  },
  {
   "cell_type": "code",
   "execution_count": 19,
   "id": "a77644ae-2ebd-45a3-b63b-4ee5a3ebf52f",
   "metadata": {},
   "outputs": [],
   "source": [
    "def authenticator():\n",
    "    pin=5690\n",
    "    user=int(input(\"enter your pin\"))\n",
    "    if(user==pin):\n",
    "        print(\"1.current\")\n",
    "        print(\"2.Saving\")\n",
    "        user1=int(input(\"choose option\"))\n",
    "        if(user1==1):\n",
    "            current()\n",
    "        elif(user1=2):\n",
    "            saving()\n",
    "    else:\n",
    "        print(\"envalid pin\")\n",
    " def current()"
   ]
  }
 ],
 "metadata": {
  "kernelspec": {
   "display_name": "Python 3 (ipykernel)",
   "language": "python",
   "name": "python3"
  },
  "language_info": {
   "codemirror_mode": {
    "name": "ipython",
    "version": 3
   },
   "file_extension": ".py",
   "mimetype": "text/x-python",
   "name": "python",
   "nbconvert_exporter": "python",
   "pygments_lexer": "ipython3",
   "version": "3.13.3"
  }
 },
 "nbformat": 4,
 "nbformat_minor": 5
}
