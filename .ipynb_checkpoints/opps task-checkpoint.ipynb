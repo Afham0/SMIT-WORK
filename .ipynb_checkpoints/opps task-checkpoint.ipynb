{
 "cells": [
  {
   "cell_type": "code",
   "execution_count": 44,
   "id": "9bbf0afb-392e-414b-9d8b-6fe9e4070261",
   "metadata": {},
   "outputs": [],
   "source": [
    "class Student:\n",
    "    def __init__(self,roll_no,name,subj):\n",
    "        self.roll_no=roll_no\n",
    "        self.name=name\n",
    "        self.subject=subj\n",
    "class university:\n",
    "    students = []\n",
    "    def add_student(self,student):\n",
    "        self.students.append(student)\n",
    "    def display(self):\n",
    "        for student in self.students:\n",
    "            print(f\"Roll_no: {student.roll_no}, Name: {student.name}, subject: {student.subject} \")\n",
    "    def remove_student(self,roll):\n",
    "        for index, student in enumerate(self.students):\n",
    "            if student.roll_no == roll:\n",
    "                self.students.pop()\n",
    "            \n",
    "               \n",
    "        \n",
    "s1=Student(1211,\"afham\",\"CS\")\n",
    "s2=Student(1212,\"ali\",\"PE\")\n",
    "uni=university()"
   ]
  },
  {
   "cell_type": "code",
   "execution_count": 48,
   "id": "a9bf9fb8-ae0e-475b-a894-c9df38a97eb0",
   "metadata": {},
   "outputs": [],
   "source": [
    "uni.add_student(s1)\n",
    "uni.add_student(s2)"
   ]
  },
  {
   "cell_type": "code",
   "execution_count": 53,
   "id": "9e993d0c-ec43-49d1-b7c1-e27081ed5155",
   "metadata": {},
   "outputs": [
    {
     "name": "stdout",
     "output_type": "stream",
     "text": [
      "Roll_no: 1211, Name: afham, subject: CS \n"
     ]
    }
   ],
   "source": [
    "uni.display()"
   ]
  },
  {
   "cell_type": "code",
   "execution_count": 52,
   "id": "d725a2d4-bdf3-4fb0-ae63-d64668d9f428",
   "metadata": {},
   "outputs": [],
   "source": [
    "uni.remove_student(12122)"
   ]
  },
  {
   "cell_type": "code",
   "execution_count": 65,
   "id": "6bf17823-9775-4fbd-be73-03150d9c5440",
   "metadata": {},
   "outputs": [
    {
     "ename": "SyntaxError",
     "evalue": "invalid syntax (1088425834.py, line 6)",
     "output_type": "error",
     "traceback": [
      "  \u001b[36mCell\u001b[39m\u001b[36m \u001b[39m\u001b[32mIn[65]\u001b[39m\u001b[32m, line 6\u001b[39m\n\u001b[31m    \u001b[39m\u001b[31msuper().(name,age)\u001b[39m\n            ^\n\u001b[31mSyntaxError\u001b[39m\u001b[31m:\u001b[39m invalid syntax\n"
     ]
    }
   ],
   "source": [
    "class person:\n",
    "    name=None\n",
    "    age=None\n",
    "class student(person):\n",
    "    def __init__(self,name,age,grade):\n",
    "        super().(name,age)\n",
    "        self.grade=grade"
   ]
  },
  {
   "cell_type": "code",
   "execution_count": 1,
   "id": "dc9e1e65-34a4-4df9-82e0-255c34ae8cd4",
   "metadata": {},
   "outputs": [],
   "source": [
    "#o1=student(\"afham\",24,\"A\")"
   ]
  },
  {
   "cell_type": "code",
   "execution_count": 62,
   "id": "a3482aaa-ba15-40d6-bc8d-e25d7d972e40",
   "metadata": {},
   "outputs": [
    {
     "name": "stdout",
     "output_type": "stream",
     "text": [
      "A\n"
     ]
    }
   ],
   "source": [
    "print(o1.grade)"
   ]
  },
  {
   "cell_type": "code",
   "execution_count": 61,
   "id": "0b87eaaf-ee8e-4191-b66e-2eea2a6dae30",
   "metadata": {},
   "outputs": [],
   "source": [
    "amount=10000\n",
    "holder_name=\"Afham\"\n",
    "def my_decorator(func):\n",
    "    def wrapper(*args,**kwargs):\n",
    "        print(\"Welcome to Allied bank\")\n",
    "        user=input(f\"Do you want to continue {func.__name__}\")\n",
    "        if user==\"yes\":\n",
    "            result = func(*args,**kwargs)\n",
    "        else:\n",
    "            result=None\n",
    "            print(f\"Failed {func.__name__}\")\n",
    "        print(\"Thank You...\")\n",
    "        return result\n",
    "    return wrapper\n",
    "\n",
    "@my_decorator\n",
    "def withdraw(Amount):\n",
    "    global amount\n",
    "    amount-=Amount\n",
    "    print(f\"your {Amount} Withdraw Sucssecfull\")\n",
    "    print(f\"your avalaible balance {amount}\")\n",
    "@my_decorator\n",
    "def deposite(Amount):\n",
    "    global amount\n",
    "    amount+=Amount\n",
    "    print(f\"your {Amount} Amount is sucssesful deposite\")"
   ]
  },
  {
   "cell_type": "code",
   "execution_count": 62,
   "id": "78170dac-afe8-4bbf-ba6d-c009d2a44d44",
   "metadata": {},
   "outputs": [
    {
     "name": "stdout",
     "output_type": "stream",
     "text": [
      "Welcome to Allied bank\n"
     ]
    },
    {
     "name": "stdin",
     "output_type": "stream",
     "text": [
      "Do you want to continue withdraw yes\n"
     ]
    },
    {
     "name": "stdout",
     "output_type": "stream",
     "text": [
      "your 1000 Withdraw Sucssecfull\n",
      "your avalaible balance 9000\n",
      "Thank You...\n"
     ]
    }
   ],
   "source": [
    "withdraw(1000)"
   ]
  },
  {
   "cell_type": "code",
   "execution_count": 63,
   "id": "241c01ad-b8f4-4fea-a473-262cd5aa3207",
   "metadata": {},
   "outputs": [
    {
     "name": "stdout",
     "output_type": "stream",
     "text": [
      "Welcome to Allied bank\n"
     ]
    },
    {
     "name": "stdin",
     "output_type": "stream",
     "text": [
      "Do you want to continue deposite yes\n"
     ]
    },
    {
     "name": "stdout",
     "output_type": "stream",
     "text": [
      "your 2000 Amount is sucssesful deposite\n",
      "Thank You...\n"
     ]
    }
   ],
   "source": [
    "deposite(2000)"
   ]
  },
  {
   "cell_type": "code",
   "execution_count": null,
   "id": "da8840f6-88d8-4921-9bcf-81d6945ea2c6",
   "metadata": {},
   "outputs": [],
   "source": []
  }
 ],
 "metadata": {
  "kernelspec": {
   "display_name": "Python 3 (ipykernel)",
   "language": "python",
   "name": "python3"
  },
  "language_info": {
   "codemirror_mode": {
    "name": "ipython",
    "version": 3
   },
   "file_extension": ".py",
   "mimetype": "text/x-python",
   "name": "python",
   "nbconvert_exporter": "python",
   "pygments_lexer": "ipython3",
   "version": "3.13.3"
  }
 },
 "nbformat": 4,
 "nbformat_minor": 5
}
