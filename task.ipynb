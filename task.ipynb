{
 "cells": [
  {
   "cell_type": "code",
   "execution_count": 21,
   "id": "d6e8f259-4197-4583-a087-532451a2f7d5",
   "metadata": {},
   "outputs": [
    {
     "name": "stdout",
     "output_type": "stream",
     "text": [
      "even number is [0, 4, 6, 8, 34, 6, 66, 86]\n",
      "odd number is [5, 7, 9, 5, 45, 45]\n"
     ]
    }
   ],
   "source": [
    "a=[0,4,5,6,7,8,9,34,5,6,45,66,86,45,]\n",
    "even=[]\n",
    "odd=[]\n",
    "for x in range(len(a)):\n",
    "    if(a[x]%2==0):\n",
    "        even.append(a[x])\n",
    "    else:\n",
    "        odd.append(a[x])\n",
    "print(f\"even number is {even}\")\n",
    "print(f\"odd number is {odd}\")"
   ]
  },
  {
   "cell_type": "code",
   "execution_count": null,
   "id": "8d821b66-2e8a-4ddb-9c4f-271a3e611b63",
   "metadata": {},
   "outputs": [],
   "source": []
  }
 ],
 "metadata": {
  "kernelspec": {
   "display_name": "Python 3 (ipykernel)",
   "language": "python",
   "name": "python3"
  },
  "language_info": {
   "codemirror_mode": {
    "name": "ipython",
    "version": 3
   },
   "file_extension": ".py",
   "mimetype": "text/x-python",
   "name": "python",
   "nbconvert_exporter": "python",
   "pygments_lexer": "ipython3",
   "version": "3.13.3"
  }
 },
 "nbformat": 4,
 "nbformat_minor": 5
}
