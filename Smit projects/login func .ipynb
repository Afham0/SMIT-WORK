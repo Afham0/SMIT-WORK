{
 "cells": [
  {
   "cell_type": "code",
   "execution_count": null,
   "id": "01d94b78-380e-4a00-a8df-6091c9f6aa6b",
   "metadata": {},
   "outputs": [],
   "source": []
  },
  {
   "cell_type": "code",
   "execution_count": 3,
   "id": "12f6bb57-e757-4492-b65b-9949bb821961",
   "metadata": {},
   "outputs": [
    {
     "name": "stdout",
     "output_type": "stream",
     "text": [
      "1:Signup\n",
      "2:login\n",
      "3:exit\n"
     ]
    },
    {
     "name": "stdin",
     "output_type": "stream",
     "text": [
      "enter your choice 1\n",
      "enter your Name afham\n",
      "enter your Father name shaikh\n",
      "enter your password mahfa5690\n"
     ]
    },
    {
     "name": "stdout",
     "output_type": "stream",
     "text": [
      "email is :afhamshaikh@smit.com\n",
      "1:Signup\n",
      "2:login\n",
      "3:exit\n"
     ]
    },
    {
     "name": "stdin",
     "output_type": "stream",
     "text": [
      "enter your choice 2\n",
      "enter your email afhamshaikh@smit.com\n",
      "enter your password mahfa5690\n"
     ]
    },
    {
     "name": "stdout",
     "output_type": "stream",
     "text": [
      "['afham', 'shaikh', 'afhamshaikh@smit.com', 'mahfa5690']\n",
      "1:Signup\n",
      "2:login\n",
      "3:exit\n"
     ]
    },
    {
     "name": "stdin",
     "output_type": "stream",
     "text": [
      "enter your choice 3\n"
     ]
    }
   ],
   "source": [
    "class databasse_conn:\n",
    "    def __init__(self,file):\n",
    "        self.file=file\n",
    "    def signup(self):\n",
    "        Name=input(\"enter your Name\")\n",
    "        Fname=input(\"enter your Father name\")\n",
    "        password=input(\"enter your password\")\n",
    "        email= self.email_gen(Name,Fname)\n",
    "        print(f\"email is :{email}\")\n",
    "        with open (self.file,\"a\") as file:\n",
    "            user=f\"{Name},{Fname},{email},{password}\\n\"\n",
    "            file.write(user)\n",
    "        if databasse_conn.pass_validate(password):\n",
    "            pass\n",
    "        else:\n",
    "            print('Invalid Password....')\n",
    "    def login(self):\n",
    "        email=input(\"enter your email\")\n",
    "        password=input(\"enter your password\")\n",
    "        if databasse_conn.pass_validate(password):\n",
    "            pass\n",
    "            with open (self.file,'r') as file:\n",
    "                for line in file.readlines():\n",
    "                    user=line.strip().split(\",\")\n",
    "                    if user[2]==email and user[3]==password:\n",
    "                        print(user)\n",
    "                        break\n",
    "                    else:\n",
    "                        print(\"user is not find\")\n",
    "        else:\n",
    "            print(\"Invalid password\")\n",
    "    @classmethod    \n",
    "    def email_gen(cls,name,fname):\n",
    "        return f\"{name}{fname}@smit.com\"\n",
    "    @staticmethod\n",
    "    def pass_validate(password):\n",
    "        if len(password)>8:\n",
    "            return True\n",
    "        return False\n",
    "        \n",
    "o1=databasse_conn('datas.txt')   \n",
    "\n",
    "while True:\n",
    "    print(\"1:Signup\")\n",
    "    print(\"2:login\")\n",
    "    print(\"3:exit\")\n",
    "    choice=int(input(\"enter your choice\"))\n",
    "\n",
    "    if choice== 1:\n",
    "        o1.signup()\n",
    "    elif choice == 2:\n",
    "        o1.login()\n",
    "    elif choice == 3:\n",
    "        break"
   ]
  },
  {
   "cell_type": "code",
   "execution_count": 6,
   "id": "b3ef060c-27e8-4c31-8ade-b538f54742ee",
   "metadata": {},
   "outputs": [
    {
     "name": "stdin",
     "output_type": "stream",
     "text": [
      "enter your first_name afham\n",
      "enter your last name zareef\n",
      "enter your password mahfa56\n"
     ]
    },
    {
     "name": "stdout",
     "output_type": "stream",
     "text": [
      "email is :afhamzareef@smit.com\n"
     ]
    }
   ],
   "source": [
    "o1.signup()\n"
   ]
  },
  {
   "cell_type": "code",
   "execution_count": 24,
   "id": "c919a22e-bc44-4504-956b-46724a628f86",
   "metadata": {},
   "outputs": [
    {
     "name": "stdin",
     "output_type": "stream",
     "text": [
      "enter your email afhmashaikh@smit.com\n",
      "enter your password mahfa5690\n"
     ]
    },
    {
     "name": "stdout",
     "output_type": "stream",
     "text": [
      "user is not find\n",
      "user is not find\n",
      "user is not find\n"
     ]
    }
   ],
   "source": [
    "o1.login()"
   ]
  },
  {
   "cell_type": "code",
   "execution_count": 3,
   "id": "b04d3824-bd39-47bb-a547-488e5693a88f",
   "metadata": {},
   "outputs": [
    {
     "name": "stdout",
     "output_type": "stream",
     "text": [
      "1. Login\n",
      "2. Signup\n",
      "3. Exit\n"
     ]
    },
    {
     "name": "stdin",
     "output_type": "stream",
     "text": [
      "Enter your choice:  2\n",
      "Enter your Name:  afham\n",
      "Enter your Father Name:  zarff\n",
      "Enter Your Pass:  78fghyk\n"
     ]
    },
    {
     "name": "stdout",
     "output_type": "stream",
     "text": [
      "Invalid Password....\n",
      "1. Login\n",
      "2. Signup\n",
      "3. Exit\n"
     ]
    },
    {
     "name": "stdin",
     "output_type": "stream",
     "text": [
      "Enter your choice:  2\n",
      "Enter your Name:  afgham\n",
      "Enter your Father Name:  zareef\n",
      "Enter Your Pass:  mahfa56879\n"
     ]
    },
    {
     "ename": "TypeError",
     "evalue": "DataBase_Conn.EmailGen() missing 2 required positional arguments: 'name' and 'fname'",
     "output_type": "error",
     "traceback": [
      "\u001b[31m---------------------------------------------------------------------------\u001b[39m",
      "\u001b[31mTypeError\u001b[39m                                 Traceback (most recent call last)",
      "\u001b[36mCell\u001b[39m\u001b[36m \u001b[39m\u001b[32mIn[3]\u001b[39m\u001b[32m, line 52\u001b[39m\n\u001b[32m     50\u001b[39m \u001b[38;5;28;01mif\u001b[39;00m DataBase_Conn.Pass_validate(Pass):\n\u001b[32m     51\u001b[39m     db.Signup(Name, Fname, Pass)\n\u001b[32m---> \u001b[39m\u001b[32m52\u001b[39m     \u001b[38;5;28mprint\u001b[39m(\u001b[43mdb\u001b[49m\u001b[43m.\u001b[49m\u001b[43mEmailGen\u001b[49m\u001b[43m(\u001b[49m\u001b[43m)\u001b[49m)\n\u001b[32m     53\u001b[39m \u001b[38;5;28;01melse\u001b[39;00m:\n\u001b[32m     54\u001b[39m     \u001b[38;5;28mprint\u001b[39m(\u001b[33m'\u001b[39m\u001b[33mInvalid Password....\u001b[39m\u001b[33m'\u001b[39m)\n",
      "\u001b[31mTypeError\u001b[39m: DataBase_Conn.EmailGen() missing 2 required positional arguments: 'name' and 'fname'"
     ]
    }
   ],
   "source": [
    "class DataBase_Conn:\n",
    "    def __init__(self, File):\n",
    "        self.file = File\n",
    "    def Login(self, Email, Pass):\n",
    "        with open(self.file, 'r') as file:\n",
    "            for line in file.readlines():\n",
    "                user = line.strip().split(',')\n",
    "                if user[2] == Email and user[3] == Pass:\n",
    "                    print(user)\n",
    "                    break\n",
    "            else:\n",
    "                print(\"User Not Found......\")\n",
    "    def Signup(self, Name, Fname, Pass):\n",
    "        email = self.EmailGen(Name,Fname)\n",
    "        with open(self.file, 'a') as file:\n",
    "            user = f\"{Name},{Fname},{email},{Pass}\\n\"\n",
    "            file.write(user)\n",
    "\n",
    "    @classmethod\n",
    "    def EmailGen(cls, name, fname):\n",
    "        return f\"{name}{fname}@SMIT.com\"\n",
    "\n",
    "    @staticmethod\n",
    "    def Pass_validate(Pass):\n",
    "        if len(Pass) >= 8:\n",
    "            return True\n",
    "        return False\n",
    "\n",
    "\n",
    "db = DataBase_Conn('data.txt')\n",
    "\n",
    "\n",
    "\n",
    "while True:\n",
    "    print(\"1. Login\")\n",
    "    print(\"2. Signup\")\n",
    "    print(\"3. Exit\")\n",
    "    choice = int(input(\"Enter your choice: \"))\n",
    "    if choice == 1:\n",
    "        Email = input(\"Enter your email: \")\n",
    "        Pass = input(\"Enter Your Pass: \")\n",
    "        if DataBase_Conn.Pass_validate(Pass):\n",
    "            db.Login(Email,Pass)\n",
    "        else:\n",
    "            print('Invalid Password....')\n",
    "    elif choice == 2:\n",
    "        Name = input(\"Enter your Name: \")\n",
    "        Fname = input(\"Enter your Father Name: \")\n",
    "        Pass = input(\"Enter Your Pass: \")\n",
    "        if DataBase_Conn.Pass_validate(Pass):\n",
    "            db.Signup(Name, Fname, Pass)\n",
    "        else:\n",
    "            print('Invalid Password....')\n",
    "    elif choice == 3:\n",
    "        break"
   ]
  },
  {
   "cell_type": "code",
   "execution_count": null,
   "id": "94a3dd8d-149e-4d16-a57e-dbb57484ba31",
   "metadata": {},
   "outputs": [],
   "source": []
  }
 ],
 "metadata": {
  "kernelspec": {
   "display_name": "Python 3 (ipykernel)",
   "language": "python",
   "name": "python3"
  },
  "language_info": {
   "codemirror_mode": {
    "name": "ipython",
    "version": 3
   },
   "file_extension": ".py",
   "mimetype": "text/x-python",
   "name": "python",
   "nbconvert_exporter": "python",
   "pygments_lexer": "ipython3",
   "version": "3.13.3"
  }
 },
 "nbformat": 4,
 "nbformat_minor": 5
}
