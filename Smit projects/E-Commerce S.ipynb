{
 "cells": [
  {
   "cell_type": "markdown",
   "id": "334e38f5-8e69-48e3-bb26-19773cb6f670",
   "metadata": {},
   "source": [
    "### SMIT PROJECT TASK\n"
   ]
  },
  {
   "cell_type": "raw",
   "id": "05f0e899-a7c2-4a10-92bb-65d2f40d3820",
   "metadata": {},
   "source": [
    "#Realistic E-Commerce Order System with CSV, Logging, and Time\n",
    "#You will build a mini E-commerce order management system in Python. This project will help you practice:\n",
    "\n",
    "#OOP concepts: Instance Methods, Class Methods, Static Methods, Decorators\n",
    "#File handling: CSV (for products) + TXT (for logs)\n",
    "#Timestamps in logs using Python’s datetime module\n",
    "#1. Prepare a Product CSV File\n",
    "#Create a file named products.csv in the same folder as your Python script.\n",
    "#Add some products like this:\n",
    "\n",
    "#Example product.csv, \n",
    "\n",
    "#id,name,price\n",
    "\n",
    "#1,Laptop,1200\n",
    "\n",
    "#2,Phone,800\n",
    "\n",
    "#3,Headphones,150\n",
    "\n",
    "#4,Mouse,40\n",
    "\n",
    "#5,Keyboard,60\n",
    "\n",
    "\n",
    "\n",
    "2. Define the Order Class\n",
    "Inside your Python program, create an Order class.\n",
    "\n",
    "\n",
    "\n",
    "a. Instance Methods\n",
    "add_item_by_id(product_id, quantity)\n",
    "Reads from products.csv.\n",
    "Finds the product with the given id.\n",
    "Adds the product (with its price × quantity) to the order.\n",
    "Logs the action into log.txt with the current time.\n",
    "Example log:\n",
    "\t\t\t\t\t[2025-08-19 14:30:12] Added item: Laptop (x2) - Total: 2400\n",
    "\n",
    "calculate_total()\n",
    "Calculates the order’s total cost.\n",
    "Applies any global discount (if set).\n",
    "Logs the calculation with time into log.txt.\n",
    "Example log:\n",
    "\t\t\t\t\t[2025-08-19 14:32:05] Calculated total with discount: 2700\n",
    "\n",
    "b. Class Method\n",
    "set_discount(cls, discount_rate)\n",
    "Sets a global discount percentage for all orders.\n",
    "Logs with time:\n",
    "\t\t\t\t\t[2025-08-19 14:35:10] Discount set to 10%\n",
    "\n",
    "\n",
    "\n",
    "c. Static Method\n",
    "is_valid_product_id(product_id)\n",
    "Checks if the given product ID exists in products.csv.\n",
    "If invalid, logs with time:\n",
    "\t\t\t\t\t[2025-08-19 14:36:20] Invalid product ID attempt: 99\n",
    "\n",
    "d. Decorator (inside class)\n",
    "@log_action\n",
    "A decorator that automatically logs \"Executed <method_name>\" with timestamp into log.txt whenever the method is called.\n",
    "Example:\n",
    "\t\t\t\t\t[2025-08-19 14:40:45] Executed add_item_by_id\n",
    "\n",
    "\n",
    "\n",
    "3. Testing the System\n",
    "Do the following in your main code:\n",
    "\n",
    "Create an Order object.\n",
    "Add items using their ID and a quantity (example: Laptop × 2, Mouse × 3).\n",
    "Try adding an invalid product ID.\n",
    "Apply a discount (e.g., 10%) using the class method.\n",
    "Calculate the total.\n",
    "Open log.txt → confirm that every action has a timestamp."
   ]
  },
  {
   "cell_type": "code",
   "execution_count": 16,
   "id": "1c81b4b0-4449-4863-b3b7-f6bd25dc8910",
   "metadata": {},
   "outputs": [
    {
     "name": "stdout",
     "output_type": "stream",
     "text": [
      "1: Add product\n",
      "2: Order\n",
      "3: Display products\n",
      "4: Set discount\n",
      "5: Calculate total with discount\n",
      "6: Exit\n"
     ]
    },
    {
     "name": "stdin",
     "output_type": "stream",
     "text": [
      "Enter your choice:  1\n",
      "Enter product name:  laptop\n",
      "Enter quantity:  3\n",
      "Enter price:  3000\n",
      "Enter product name:  bag\n",
      "Enter quantity:  20\n",
      "Enter price:  1000\n"
     ]
    },
    {
     "name": "stdout",
     "output_type": "stream",
     "text": [
      "product Data add successfully \n",
      "1: Add product\n",
      "2: Order\n",
      "3: Display products\n",
      "4: Set discount\n",
      "5: Calculate total with discount\n",
      "6: Exit\n"
     ]
    },
    {
     "name": "stdin",
     "output_type": "stream",
     "text": [
      "Enter your choice:  2\n",
      "enter your product id bag\n",
      "enter your quntity 2\n"
     ]
    },
    {
     "name": "stdout",
     "output_type": "stream",
     "text": [
      "Your product is added\n",
      "1: Add product\n",
      "2: Order\n",
      "3: Display products\n",
      "4: Set discount\n",
      "5: Calculate total with discount\n",
      "6: Exit\n"
     ]
    },
    {
     "name": "stdin",
     "output_type": "stream",
     "text": [
      "Enter your choice:  4\n"
     ]
    },
    {
     "name": "stdout",
     "output_type": "stream",
     "text": [
      "Discount is set 10% \n",
      "1: Add product\n",
      "2: Order\n",
      "3: Display products\n",
      "4: Set discount\n",
      "5: Calculate total with discount\n",
      "6: Exit\n"
     ]
    },
    {
     "name": "stdin",
     "output_type": "stream",
     "text": [
      "Enter your choice:  5\n"
     ]
    },
    {
     "name": "stdout",
     "output_type": "stream",
     "text": [
      "Total: 2000.0, Discount: 10%, Final: 1800.0\n",
      "1: Add product\n",
      "2: Order\n",
      "3: Display products\n",
      "4: Set discount\n",
      "5: Calculate total with discount\n",
      "6: Exit\n"
     ]
    },
    {
     "name": "stdin",
     "output_type": "stream",
     "text": [
      "Enter your choice:  3\n"
     ]
    },
    {
     "name": "stdout",
     "output_type": "stream",
     "text": [
      "Product,Quantity,Price\n",
      "laptop,3,3000.0\n",
      "bag,20,1000.0\n",
      "\n",
      "1: Add product\n",
      "2: Order\n",
      "3: Display products\n",
      "4: Set discount\n",
      "5: Calculate total with discount\n",
      "6: Exit\n"
     ]
    },
    {
     "name": "stdin",
     "output_type": "stream",
     "text": [
      "Enter your choice:  6\n"
     ]
    }
   ],
   "source": [
    "from datetime import datetime as dt\n",
    "class Order:\n",
    "    discount_rate=0\n",
    "    def __init__(self):\n",
    "        self.orders=[]\n",
    "    def logger(func):\n",
    "        def wrapper(*args,**kwargs):\n",
    "            with open (\"logs.txt\",\"a\") as logsfile:\n",
    "                result= func(*args,**kwargs)\n",
    "                run_log=f\"{dt.now()},{func.__name__}, {result}\\n\"\n",
    "                logsfile.write(run_log)\n",
    "            return result\n",
    "        return wrapper\n",
    "    @logger\n",
    "    def add_product(self):\n",
    "        import csv\n",
    "        with open(\"products.csv\", \"w\", newline=\"\") as file:\n",
    "            writer = csv.writer(file)\n",
    "            writer.writerow([\"Product\", \"Quantity\", \"Price\"])\n",
    "            for i in range(2):\n",
    "                product = input(\"Enter product name: \")\n",
    "                quantity = int(input(\"Enter quantity: \"))\n",
    "                price = float(input(\"Enter price: \"))\n",
    "                writer.writerow([product, quantity, price])\n",
    "        return f\"product Data add successfully \"\n",
    "    @logger\n",
    "    def add_item_by_id(self,product_id, quantity):\n",
    "        products = []\n",
    "        with open('products.csv', 'r') as file:\n",
    "            products = [line.strip().split(',') for line in file.readlines()]\n",
    "            products.pop(0)\n",
    "        for product in products:\n",
    "            if product[0] == product_id:\n",
    "                self.orders.append({\n",
    "                \"product_id\": product_id,\n",
    "                \"quantity\": quantity,\n",
    "                \"total\": float(product[2]) * quantity\n",
    "                })\n",
    "                return \"Your product is added\"\n",
    "        return \"Product not found\"\n",
    "    def display_product(self):\n",
    "        with open (\"products.csv\",\"r\") as file:\n",
    "            return file.read()\n",
    "    @logger\n",
    "    def calculate(self):\n",
    "        total = sum(item[\"total\"] for item in self.orders)\n",
    "        discount = total * (self.discount_rate / 100)\n",
    "        final = total - discount\n",
    "        return f\"Total: {total}, Discount: {self.discount_rate}%, Final: {final}\"\n",
    "    @classmethod\n",
    "    @logger\n",
    "    def set_discount(cls, discount_rate):\n",
    "        cls.discount_rate = discount_rate\n",
    "        return f\"Discount is set {discount_rate}% \"\n",
    "o1=Order()\n",
    "while True:\n",
    "    print(\"1: Add product\")\n",
    "    print(\"2: Order\")\n",
    "    print(\"3: Display products\")\n",
    "    print(\"4: Set discount\")\n",
    "    print(\"5: Calculate total with discount\")\n",
    "    print(\"6: Exit\")\n",
    "\n",
    "    choice = int(input(\"Enter your choice: \"))\n",
    "\n",
    "    if choice == 1:\n",
    "        print(o1.add_product())\n",
    "    elif choice == 2:\n",
    "        product_id=input(\"enter your product id\")\n",
    "        quantity=int(input(\"enter your quntity\"))\n",
    "        print(o1.add_item_by_id(product_id,quantity))\n",
    "    elif choice == 3:\n",
    "        print(o1.display_product())\n",
    "    elif choice == 4:\n",
    "        print(o1.set_discount(10))\n",
    "    elif choice == 5:\n",
    "        print(o1.calculate())\n",
    "    elif choice == 6:\n",
    "        break"
   ]
  },
  {
   "cell_type": "code",
   "execution_count": null,
   "id": "aefb2d30-10fa-436d-b656-277672606287",
   "metadata": {},
   "outputs": [],
   "source": []
  },
  {
   "cell_type": "code",
   "execution_count": null,
   "id": "bd5f0141-59c6-4a48-886d-9ee16375a105",
   "metadata": {},
   "outputs": [],
   "source": []
  },
  {
   "cell_type": "code",
   "execution_count": null,
   "id": "bcc902ad-bb66-4655-8c05-98da6b474135",
   "metadata": {},
   "outputs": [],
   "source": []
  },
  {
   "cell_type": "code",
   "execution_count": null,
   "id": "3b9522ef-df22-4c1d-a5df-330e81fc9cda",
   "metadata": {},
   "outputs": [],
   "source": []
  }
 ],
 "metadata": {
  "kernelspec": {
   "display_name": "Python 3 (ipykernel)",
   "language": "python",
   "name": "python3"
  },
  "language_info": {
   "codemirror_mode": {
    "name": "ipython",
    "version": 3
   },
   "file_extension": ".py",
   "mimetype": "text/x-python",
   "name": "python",
   "nbconvert_exporter": "python",
   "pygments_lexer": "ipython3",
   "version": "3.13.3"
  }
 },
 "nbformat": 4,
 "nbformat_minor": 5
}
