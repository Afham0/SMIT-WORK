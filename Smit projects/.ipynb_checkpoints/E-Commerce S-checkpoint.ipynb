{
 "cells": [
  {
   "cell_type": "markdown",
   "id": "334e38f5-8e69-48e3-bb26-19773cb6f670",
   "metadata": {},
   "source": [
    "## *SMIT class*\n",
    "***\n",
    "[my accsess](https://www.youtube.com/)\n",
    "- smit\n",
    "    - ai"
   ]
  },
  {
   "cell_type": "code",
   "execution_count": 5,
   "id": "1c81b4b0-4449-4863-b3b7-f6bd25dc8910",
   "metadata": {},
   "outputs": [
    {
     "name": "stdout",
     "output_type": "stream",
     "text": [
      "1: Add product\n",
      "2: Order\n",
      "3: Display products\n",
      "4: Set discount\n",
      "5: Calculate total with discount\n",
      "6: Exit\n"
     ]
    },
    {
     "name": "stdin",
     "output_type": "stream",
     "text": [
      "Enter your choice:  2\n"
     ]
    },
    {
     "name": "stdout",
     "output_type": "stream",
     "text": [
      "hi\n"
     ]
    },
    {
     "name": "stdin",
     "output_type": "stream",
     "text": [
      "enter your product id laptop\n",
      "enter your quntity 1\n"
     ]
    },
    {
     "ename": "FileNotFoundError",
     "evalue": "[Errno 2] No such file or directory: 'product.csv'",
     "output_type": "error",
     "traceback": [
      "\u001b[31m---------------------------------------------------------------------------\u001b[39m",
      "\u001b[31mFileNotFoundError\u001b[39m                         Traceback (most recent call last)",
      "\u001b[36mCell\u001b[39m\u001b[36m \u001b[39m\u001b[32mIn[5]\u001b[39m\u001b[32m, line 63\u001b[39m\n\u001b[32m     61\u001b[39m     product_id=\u001b[38;5;28minput\u001b[39m(\u001b[33m\"\u001b[39m\u001b[33menter your product id\u001b[39m\u001b[33m\"\u001b[39m)\n\u001b[32m     62\u001b[39m     quantity=\u001b[38;5;28minput\u001b[39m(\u001b[33m\"\u001b[39m\u001b[33menter your quntity\u001b[39m\u001b[33m\"\u001b[39m)\n\u001b[32m---> \u001b[39m\u001b[32m63\u001b[39m     \u001b[43mo1\u001b[49m\u001b[43m.\u001b[49m\u001b[43madd_item_by_id\u001b[49m\u001b[43m(\u001b[49m\u001b[43mproduct_id\u001b[49m\u001b[43m,\u001b[49m\u001b[43mquantity\u001b[49m\u001b[43m)\u001b[49m\n\u001b[32m     64\u001b[39m \u001b[38;5;28;01melif\u001b[39;00m choice == \u001b[32m3\u001b[39m:\n\u001b[32m     65\u001b[39m     \u001b[38;5;28mprint\u001b[39m(o1.display())\n",
      "\u001b[36mCell\u001b[39m\u001b[36m \u001b[39m\u001b[32mIn[5]\u001b[39m\u001b[32m, line 7\u001b[39m, in \u001b[36mE_commerce.logger.<locals>.wrapper\u001b[39m\u001b[34m(*args, **kwargs)\u001b[39m\n\u001b[32m      5\u001b[39m \u001b[38;5;28;01mdef\u001b[39;00m\u001b[38;5;250m \u001b[39m\u001b[34mwrapper\u001b[39m(*args,**kwargs):\n\u001b[32m      6\u001b[39m     \u001b[38;5;28;01mwith\u001b[39;00m \u001b[38;5;28mopen\u001b[39m (\u001b[33m\"\u001b[39m\u001b[33mlogs.txt\u001b[39m\u001b[33m\"\u001b[39m,\u001b[33m\"\u001b[39m\u001b[33ma\u001b[39m\u001b[33m\"\u001b[39m) \u001b[38;5;28;01mas\u001b[39;00m logsfile:\n\u001b[32m----> \u001b[39m\u001b[32m7\u001b[39m         result= \u001b[43mfunc\u001b[49m\u001b[43m(\u001b[49m\u001b[43m*\u001b[49m\u001b[43margs\u001b[49m\u001b[43m,\u001b[49m\u001b[43m*\u001b[49m\u001b[43m*\u001b[49m\u001b[43mkwargs\u001b[49m\u001b[43m)\u001b[49m\n\u001b[32m      8\u001b[39m         run_log=\u001b[33mf\u001b[39m\u001b[33m\"\u001b[39m\u001b[38;5;132;01m{\u001b[39;00mdt.now()\u001b[38;5;132;01m}\u001b[39;00m\u001b[33m,\u001b[39m\u001b[38;5;132;01m{\u001b[39;00mfunc.\u001b[34m__name__\u001b[39m\u001b[38;5;132;01m}\u001b[39;00m\u001b[38;5;130;01m\\n\u001b[39;00m\u001b[33m\"\u001b[39m\n\u001b[32m      9\u001b[39m         logsfile.write(run_log)\n",
      "\u001b[36mCell\u001b[39m\u001b[36m \u001b[39m\u001b[32mIn[5]\u001b[39m\u001b[32m, line 26\u001b[39m, in \u001b[36mE_commerce.add_item_by_id\u001b[39m\u001b[34m(self, product_id, quantity)\u001b[39m\n\u001b[32m     23\u001b[39m \u001b[38;5;129m@logger\u001b[39m\n\u001b[32m     24\u001b[39m \u001b[38;5;28;01mdef\u001b[39;00m\u001b[38;5;250m \u001b[39m\u001b[34madd_item_by_id\u001b[39m(\u001b[38;5;28mself\u001b[39m,product_id, quantity):\n\u001b[32m     25\u001b[39m     products = []\n\u001b[32m---> \u001b[39m\u001b[32m26\u001b[39m     \u001b[38;5;28;01mwith\u001b[39;00m \u001b[38;5;28;43mopen\u001b[39;49m\u001b[43m(\u001b[49m\u001b[33;43m'\u001b[39;49m\u001b[33;43mproduct.csv\u001b[39;49m\u001b[33;43m'\u001b[39;49m\u001b[43m,\u001b[49m\u001b[43m \u001b[49m\u001b[33;43m'\u001b[39;49m\u001b[33;43mr\u001b[39;49m\u001b[33;43m'\u001b[39;49m\u001b[43m)\u001b[49m \u001b[38;5;28;01mas\u001b[39;00m file:\n\u001b[32m     27\u001b[39m         products = [line.strip().split(\u001b[33m'\u001b[39m\u001b[33m,\u001b[39m\u001b[33m'\u001b[39m) \u001b[38;5;28;01mfor\u001b[39;00m line \u001b[38;5;129;01min\u001b[39;00m file.readlines()]\n\u001b[32m     28\u001b[39m         products.pop(\u001b[32m0\u001b[39m)\n",
      "\u001b[36mFile \u001b[39m\u001b[32m~\\AppData\\Local\\Programs\\Python\\Python313\\Lib\\site-packages\\IPython\\core\\interactiveshell.py:326\u001b[39m, in \u001b[36m_modified_open\u001b[39m\u001b[34m(file, *args, **kwargs)\u001b[39m\n\u001b[32m    319\u001b[39m \u001b[38;5;28;01mif\u001b[39;00m file \u001b[38;5;129;01min\u001b[39;00m {\u001b[32m0\u001b[39m, \u001b[32m1\u001b[39m, \u001b[32m2\u001b[39m}:\n\u001b[32m    320\u001b[39m     \u001b[38;5;28;01mraise\u001b[39;00m \u001b[38;5;167;01mValueError\u001b[39;00m(\n\u001b[32m    321\u001b[39m         \u001b[33mf\u001b[39m\u001b[33m\"\u001b[39m\u001b[33mIPython won\u001b[39m\u001b[33m'\u001b[39m\u001b[33mt let you open fd=\u001b[39m\u001b[38;5;132;01m{\u001b[39;00mfile\u001b[38;5;132;01m}\u001b[39;00m\u001b[33m by default \u001b[39m\u001b[33m\"\u001b[39m\n\u001b[32m    322\u001b[39m         \u001b[33m\"\u001b[39m\u001b[33mas it is likely to crash IPython. If you know what you are doing, \u001b[39m\u001b[33m\"\u001b[39m\n\u001b[32m    323\u001b[39m         \u001b[33m\"\u001b[39m\u001b[33myou can use builtins\u001b[39m\u001b[33m'\u001b[39m\u001b[33m open.\u001b[39m\u001b[33m\"\u001b[39m\n\u001b[32m    324\u001b[39m     )\n\u001b[32m--> \u001b[39m\u001b[32m326\u001b[39m \u001b[38;5;28;01mreturn\u001b[39;00m \u001b[43mio_open\u001b[49m\u001b[43m(\u001b[49m\u001b[43mfile\u001b[49m\u001b[43m,\u001b[49m\u001b[43m \u001b[49m\u001b[43m*\u001b[49m\u001b[43margs\u001b[49m\u001b[43m,\u001b[49m\u001b[43m \u001b[49m\u001b[43m*\u001b[49m\u001b[43m*\u001b[49m\u001b[43mkwargs\u001b[49m\u001b[43m)\u001b[49m\n",
      "\u001b[31mFileNotFoundError\u001b[39m: [Errno 2] No such file or directory: 'product.csv'"
     ]
    }
   ],
   "source": [
    "from datetime import datetime as dt\n",
    "class E_commerce:\n",
    "    discount_rate=0\n",
    "    def logger(func):\n",
    "        def wrapper(*args,**kwargs):\n",
    "            with open (\"logs.txt\",\"a\") as logsfile:\n",
    "                result= func(*args,**kwargs)\n",
    "                run_log=f\"{dt.now()},{func.__name__}\\n\"\n",
    "                logsfile.write(run_log)\n",
    "        return wrapper\n",
    "    @logger\n",
    "    def add_product(self):\n",
    "        import csv\n",
    "        with open(\"products.csv\", \"w\", newline=\"\") as file:\n",
    "            writer = csv.writer(file)\n",
    "            writer.writerow([\"Product\", \"Quantity\", \"Price\"])\n",
    "            for i in range(2):\n",
    "                product = input(\"Enter product name: \")\n",
    "                quantity = int(input(\"Enter quantity: \"))\n",
    "                price = float(input(\"Enter price: \"))\n",
    "                writer.writerow([product, quantity, price])\n",
    "        print(\"product Data add successfully \")\n",
    "    @logger\n",
    "    def add_item_by_id(self,product_id, quantity):\n",
    "        products = []\n",
    "        with open('product.csv', 'r') as file:\n",
    "            products = [line.strip().split(',') for line in file.readlines()]\n",
    "            products.pop(0)\n",
    "        for product in products:\n",
    "            if product[0] == product_id:\n",
    "                self.orders.append({\"product_id\": product_id,'quantity': quantity,\"total\": product[2]*quantity})\n",
    "    @logger\n",
    "    def display_product():\n",
    "        with open (\"products.csv\",\"r\") as file:\n",
    "            return file.read()\n",
    "    @logger\n",
    "    def calculate():\n",
    "        totalprice=price*quantity\n",
    "        percentage=totalprice*(discount_rate/100)\n",
    "        return f\"Total price with discount {totalprice-percentage}\"\n",
    "    @classmethod\n",
    "    @logger\n",
    "    def set_discount(cls, discount_rate):\n",
    "        cls.discount_rate = discount_rate\n",
    "        return f\"Discount is set {discount_rate}% \"\n",
    "o1=E_commerce()\n",
    "while True:\n",
    "    print(\"1: Add product\")\n",
    "    print(\"2: Order\")\n",
    "    print(\"3: Display products\")\n",
    "    print(\"4: Set discount\")\n",
    "    print(\"5: Calculate total with discount\")\n",
    "    print(\"6: Exit\")\n",
    "\n",
    "    choice = int(input(\"Enter your choice: \"))\n",
    "\n",
    "    if choice == 1:\n",
    "        print(o1.add_product())\n",
    "    elif choice == 2:\n",
    "        print(\"hi\")\n",
    "        product_id=input(\"enter your product id\")\n",
    "        quantity=input(\"enter your quntity\")\n",
    "        o1.add_item_by_id(product_id,quantity)\n",
    "    elif choice == 3:\n",
    "        print(o1.display())\n",
    "    elif choice == 4:\n",
    "        print(o1.set_discount(10))\n",
    "    elif choice == 5:\n",
    "        print(o1.calculate())\n",
    "    elif choice == 6:\n",
    "        break"
   ]
  },
  {
   "cell_type": "code",
   "execution_count": 2,
   "id": "69e55fab-637e-48fe-bc65-b2e1dc147409",
   "metadata": {},
   "outputs": [
    {
     "name": "stdin",
     "output_type": "stream",
     "text": [
      "enter your product name laptop\n",
      "Enter your quantity 2\n"
     ]
    },
    {
     "ename": "TypeError",
     "evalue": "can't multiply sequence by non-int of type 'str'",
     "output_type": "error",
     "traceback": [
      "\u001b[31m---------------------------------------------------------------------------\u001b[39m",
      "\u001b[31mTypeError\u001b[39m                                 Traceback (most recent call last)",
      "\u001b[36mCell\u001b[39m\u001b[36m \u001b[39m\u001b[32mIn[2]\u001b[39m\u001b[32m, line 1\u001b[39m\n\u001b[32m----> \u001b[39m\u001b[32m1\u001b[39m \u001b[43mo1\u001b[49m\u001b[43m.\u001b[49m\u001b[43morder\u001b[49m\u001b[43m(\u001b[49m\u001b[43m)\u001b[49m\n",
      "\u001b[36mCell\u001b[39m\u001b[36m \u001b[39m\u001b[32mIn[1]\u001b[39m\u001b[32m, line 7\u001b[39m, in \u001b[36mE_commerce.logger.<locals>.wrapper\u001b[39m\u001b[34m(*args, **kwargs)\u001b[39m\n\u001b[32m      5\u001b[39m \u001b[38;5;28;01mdef\u001b[39;00m\u001b[38;5;250m \u001b[39m\u001b[34mwrapper\u001b[39m(*args,**kwargs):\n\u001b[32m      6\u001b[39m     \u001b[38;5;28;01mwith\u001b[39;00m \u001b[38;5;28mopen\u001b[39m (\u001b[33m\"\u001b[39m\u001b[33mlogs.txt\u001b[39m\u001b[33m\"\u001b[39m,\u001b[33m\"\u001b[39m\u001b[33ma\u001b[39m\u001b[33m\"\u001b[39m) \u001b[38;5;28;01mas\u001b[39;00m logsfile:\n\u001b[32m----> \u001b[39m\u001b[32m7\u001b[39m         result= \u001b[43mfunc\u001b[49m\u001b[43m(\u001b[49m\u001b[43m*\u001b[49m\u001b[43margs\u001b[49m\u001b[43m,\u001b[49m\u001b[43m*\u001b[49m\u001b[43m*\u001b[49m\u001b[43mkwargs\u001b[49m\u001b[43m)\u001b[49m\n\u001b[32m      8\u001b[39m         run_log=\u001b[33mf\u001b[39m\u001b[33m\"\u001b[39m\u001b[38;5;132;01m{\u001b[39;00mdt.now()\u001b[38;5;132;01m}\u001b[39;00m\u001b[33m,\u001b[39m\u001b[38;5;132;01m{\u001b[39;00mresult\u001b[38;5;132;01m}\u001b[39;00m\u001b[38;5;130;01m\\n\u001b[39;00m\u001b[33m\"\u001b[39m\n\u001b[32m      9\u001b[39m         logsfile.write(run_log)\n",
      "\u001b[36mCell\u001b[39m\u001b[36m \u001b[39m\u001b[32mIn[1]\u001b[39m\u001b[32m, line 34\u001b[39m, in \u001b[36mE_commerce.order\u001b[39m\u001b[34m(self)\u001b[39m\n\u001b[32m     32\u001b[39m \u001b[38;5;28;01mfor\u001b[39;00m row \u001b[38;5;129;01min\u001b[39;00m lines:\n\u001b[32m     33\u001b[39m     product,quantity,price = row.strip().split(\u001b[33m\"\u001b[39m\u001b[33m,\u001b[39m\u001b[33m\"\u001b[39m)\n\u001b[32m---> \u001b[39m\u001b[32m34\u001b[39m     total_price = \u001b[43mquantity\u001b[49m\u001b[43m \u001b[49m\u001b[43m*\u001b[49m\u001b[43m \u001b[49m\u001b[43mprice\u001b[49m\n\u001b[32m     35\u001b[39m     \u001b[38;5;28mprint\u001b[39m(\u001b[33m\"\u001b[39m\u001b[33mYour order is done \u001b[39m\u001b[33m\"\u001b[39m)\n\u001b[32m     36\u001b[39m     \u001b[38;5;28mprint\u001b[39m(\u001b[33mf\u001b[39m\u001b[33m\"\u001b[39m\u001b[33mTotal Price: \u001b[39m\u001b[38;5;132;01m{\u001b[39;00mtotal_price\u001b[38;5;132;01m}\u001b[39;00m\u001b[33m\"\u001b[39m)\n",
      "\u001b[31mTypeError\u001b[39m: can't multiply sequence by non-int of type 'str'"
     ]
    }
   ],
   "source": [
    "o1.order()"
   ]
  },
  {
   "cell_type": "code",
   "execution_count": 14,
   "id": "bd0af89c-2549-4100-81b2-584fec60a17f",
   "metadata": {},
   "outputs": [],
   "source": [
    "o1=E_commerce()"
   ]
  },
  {
   "cell_type": "code",
   "execution_count": 64,
   "id": "93ca3121-1569-46c4-b831-8bfef8482762",
   "metadata": {},
   "outputs": [
    {
     "data": {
      "text/plain": [
       "'Discount is set 1% '"
      ]
     },
     "execution_count": 64,
     "metadata": {},
     "output_type": "execute_result"
    }
   ],
   "source": [
    "o1.set_discount(1)"
   ]
  },
  {
   "cell_type": "code",
   "execution_count": 115,
   "id": "757a0d59-b494-4218-b128-b1a467c72fa2",
   "metadata": {},
   "outputs": [
    {
     "data": {
      "text/plain": [
       "'Total price with discount 4500.0'"
      ]
     },
     "execution_count": 115,
     "metadata": {},
     "output_type": "execute_result"
    }
   ],
   "source": [
    "o1.calculate(10)"
   ]
  },
  {
   "cell_type": "code",
   "execution_count": 7,
   "id": "49052ba9-24dc-40c5-8244-3028fbb3aee4",
   "metadata": {},
   "outputs": [
    {
     "data": {
      "text/plain": [
       "'Product,Quantity,Price\\n\\nlaptop,2,1000.0\\n\\nbag,3,900.0\\n\\n'"
      ]
     },
     "execution_count": 7,
     "metadata": {},
     "output_type": "execute_result"
    }
   ],
   "source": [
    "o1.display()"
   ]
  },
  {
   "cell_type": "raw",
   "id": "05f0e899-a7c2-4a10-92bb-65d2f40d3820",
   "metadata": {},
   "source": [
    "#Realistic E-Commerce Order System with CSV, Logging, and Time\n",
    "#You will build a mini E-commerce order management system in Python. This project will help you practice:\n",
    "\n",
    "#OOP concepts: Instance Methods, Class Methods, Static Methods, Decorators\n",
    "#File handling: CSV (for products) + TXT (for logs)\n",
    "#Timestamps in logs using Python’s datetime module\n",
    "#1. Prepare a Product CSV File\n",
    "#Create a file named products.csv in the same folder as your Python script.\n",
    "#Add some products like this:\n",
    "\n",
    "#Example product.csv, \n",
    "\n",
    "#id,name,price\n",
    "\n",
    "#1,Laptop,1200\n",
    "\n",
    "#2,Phone,800\n",
    "\n",
    "#3,Headphones,150\n",
    "\n",
    "#4,Mouse,40\n",
    "\n",
    "#5,Keyboard,60\n",
    "\n",
    "\n",
    "\n",
    "2. Define the Order Class\n",
    "Inside your Python program, create an Order class.\n",
    "\n",
    "\n",
    "\n",
    "a. Instance Methods\n",
    "add_item_by_id(product_id, quantity)\n",
    "Reads from products.csv.\n",
    "Finds the product with the given id.\n",
    "Adds the product (with its price × quantity) to the order.\n",
    "Logs the action into log.txt with the current time.\n",
    "Example log:\n",
    "\t\t\t\t\t[2025-08-19 14:30:12] Added item: Laptop (x2) - Total: 2400\n",
    "\n",
    "calculate_total()\n",
    "Calculates the order’s total cost.\n",
    "Applies any global discount (if set).\n",
    "Logs the calculation with time into log.txt.\n",
    "Example log:\n",
    "\t\t\t\t\t[2025-08-19 14:32:05] Calculated total with discount: 2700\n",
    "\n",
    "b. Class Method\n",
    "set_discount(cls, discount_rate)\n",
    "Sets a global discount percentage for all orders.\n",
    "Logs with time:\n",
    "\t\t\t\t\t[2025-08-19 14:35:10] Discount set to 10%\n",
    "\n",
    "\n",
    "\n",
    "c. Static Method\n",
    "is_valid_product_id(product_id)\n",
    "Checks if the given product ID exists in products.csv.\n",
    "If invalid, logs with time:\n",
    "\t\t\t\t\t[2025-08-19 14:36:20] Invalid product ID attempt: 99\n",
    "\n",
    "d. Decorator (inside class)\n",
    "@log_action\n",
    "A decorator that automatically logs \"Executed <method_name>\" with timestamp into log.txt whenever the method is called.\n",
    "Example:\n",
    "\t\t\t\t\t[2025-08-19 14:40:45] Executed add_item_by_id\n",
    "\n",
    "\n",
    "\n",
    "3. Testing the System\n",
    "Do the following in your main code:\n",
    "\n",
    "Create an Order object.\n",
    "Add items using their ID and a quantity (example: Laptop × 2, Mouse × 3).\n",
    "Try adding an invalid product ID.\n",
    "Apply a discount (e.g., 10%) using the class method.\n",
    "Calculate the total.\n",
    "Open log.txt → confirm that every action has a timestamp."
   ]
  },
  {
   "cell_type": "code",
   "execution_count": 4,
   "id": "b302690a-0f84-423e-bb65-db06cb197c09",
   "metadata": {},
   "outputs": [],
   "source": [
    "def add_product():\n",
    "    import csv\n",
    "    with open(\"products.csv\", \"w\") as file:\n",
    "        writer = csv.writer(file)\n",
    "        writer.writerow([\"Product\", \"Quantity\", \"Price\"])\n",
    "        for i in range(2):\n",
    "            product = input(\"Enter product name: \")\n",
    "            quantity = int(input(\"Enter quantity: \"))\n",
    "            price = float(input(\"Enter price: \"))\n",
    "            writer.writerow([product, quantity, price])\n",
    "    print(\"product Data add successfully \")\n",
    "def order():\n",
    "    product_id=input(\"enter your product name\")\n",
    "    quantitys=int(input(\"Enter your quantity\"))\n",
    "    with open (\"products.csv\",\"r\") as file:\n",
    "        lines= file.readlines() \n",
    "        for row in lines[1:]:\n",
    "            product,quantity,price = row.strip().split(\",\")\n",
    "            price=float(price)\n",
    "            total_price = quantity * price\n",
    "            print(\"Your order is done ✅\")\n",
    "            print(f\"Total Price: {total_price}\")\n",
    "            #if user[0]==product_id or user[1]==quantity:\n",
    "                #print(\"your order is Done\")\n",
    "                #print(f\"Price {user[3]}\")\n",
    "            #else:\n",
    "                #print(\"product not avalaible\")\n",
    "        else:\n",
    "            print(\"product not avail\")"
   ]
  },
  {
   "cell_type": "code",
   "execution_count": 5,
   "id": "82c9a4e0-fffd-4a7d-994b-5d3fa7f2667d",
   "metadata": {},
   "outputs": [
    {
     "name": "stdin",
     "output_type": "stream",
     "text": [
      "Enter product name:  laptop\n",
      "Enter quantity:  2\n",
      "Enter price:  1000\n",
      "Enter product name:  bag\n",
      "Enter quantity:  3\n",
      "Enter price:  900\n"
     ]
    },
    {
     "name": "stdout",
     "output_type": "stream",
     "text": [
      "product Data add successfully \n"
     ]
    }
   ],
   "source": [
    "add_product()"
   ]
  },
  {
   "cell_type": "code",
   "execution_count": 54,
   "id": "875612d6-e775-4cae-b77b-5ce650faa2f4",
   "metadata": {},
   "outputs": [
    {
     "name": "stdin",
     "output_type": "stream",
     "text": [
      "enter your product name laptop\n",
      "Enter your quantity 2\n"
     ]
    },
    {
     "ename": "TypeError",
     "evalue": "can't multiply sequence by non-int of type 'float'",
     "output_type": "error",
     "traceback": [
      "\u001b[31m---------------------------------------------------------------------------\u001b[39m",
      "\u001b[31mTypeError\u001b[39m                                 Traceback (most recent call last)",
      "\u001b[36mCell\u001b[39m\u001b[36m \u001b[39m\u001b[32mIn[54]\u001b[39m\u001b[32m, line 1\u001b[39m\n\u001b[32m----> \u001b[39m\u001b[32m1\u001b[39m \u001b[43morder\u001b[49m\u001b[43m(\u001b[49m\u001b[43m)\u001b[49m\n",
      "\u001b[36mCell\u001b[39m\u001b[36m \u001b[39m\u001b[32mIn[53]\u001b[39m\u001b[32m, line 27\u001b[39m, in \u001b[36morder\u001b[39m\u001b[34m()\u001b[39m\n\u001b[32m     25\u001b[39m product,quantity,price = row.strip().split(\u001b[33m\"\u001b[39m\u001b[33m,\u001b[39m\u001b[33m\"\u001b[39m)\n\u001b[32m     26\u001b[39m price=\u001b[38;5;28mfloat\u001b[39m(price)\n\u001b[32m---> \u001b[39m\u001b[32m27\u001b[39m total_price = \u001b[43mquantity\u001b[49m\u001b[43m \u001b[49m\u001b[43m*\u001b[49m\u001b[43m \u001b[49m\u001b[43mprice\u001b[49m\n\u001b[32m     28\u001b[39m \u001b[38;5;28mprint\u001b[39m(\u001b[33m\"\u001b[39m\u001b[33mYour order is done ✅\u001b[39m\u001b[33m\"\u001b[39m)\n\u001b[32m     29\u001b[39m \u001b[38;5;28mprint\u001b[39m(\u001b[33mf\u001b[39m\u001b[33m\"\u001b[39m\u001b[33mTotal Price: \u001b[39m\u001b[38;5;132;01m{\u001b[39;00mtotal_price\u001b[38;5;132;01m}\u001b[39;00m\u001b[33m\"\u001b[39m)\n",
      "\u001b[31mTypeError\u001b[39m: can't multiply sequence by non-int of type 'float'"
     ]
    }
   ],
   "source": [
    "order()"
   ]
  },
  {
   "cell_type": "code",
   "execution_count": null,
   "id": "aefb2d30-10fa-436d-b656-277672606287",
   "metadata": {},
   "outputs": [],
   "source": []
  },
  {
   "cell_type": "code",
   "execution_count": null,
   "id": "bd5f0141-59c6-4a48-886d-9ee16375a105",
   "metadata": {},
   "outputs": [],
   "source": []
  },
  {
   "cell_type": "code",
   "execution_count": null,
   "id": "bcc902ad-bb66-4655-8c05-98da6b474135",
   "metadata": {},
   "outputs": [],
   "source": []
  },
  {
   "cell_type": "code",
   "execution_count": null,
   "id": "3b9522ef-df22-4c1d-a5df-330e81fc9cda",
   "metadata": {},
   "outputs": [],
   "source": []
  }
 ],
 "metadata": {
  "kernelspec": {
   "display_name": "Python 3 (ipykernel)",
   "language": "python",
   "name": "python3"
  },
  "language_info": {
   "codemirror_mode": {
    "name": "ipython",
    "version": 3
   },
   "file_extension": ".py",
   "mimetype": "text/x-python",
   "name": "python",
   "nbconvert_exporter": "python",
   "pygments_lexer": "ipython3",
   "version": "3.13.3"
  }
 },
 "nbformat": 4,
 "nbformat_minor": 5
}
