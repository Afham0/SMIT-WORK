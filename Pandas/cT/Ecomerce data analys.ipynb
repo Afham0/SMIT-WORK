{
 "cells": [
  {
   "cell_type": "code",
   "execution_count": 1,
   "id": "d37b1a7f-2201-4269-9f9e-5e8a31585b20",
   "metadata": {},
   "outputs": [],
   "source": [
    "import pandas as pd"
   ]
  },
  {
   "cell_type": "code",
   "execution_count": 2,
   "id": "271786ca-fc21-4549-ba56-a1e1568b3ceb",
   "metadata": {},
   "outputs": [],
   "source": [
    "orders = pd.read_csv(\"orders.csv\")\n",
    "products = pd.read_csv(\"products.csv\")\n",
    "customers = pd.read_csv(\"customers.csv\")"
   ]
  },
  {
   "cell_type": "code",
   "execution_count": 3,
   "id": "40128f75-1fb7-424b-a4d8-3203ae896903",
   "metadata": {},
   "outputs": [],
   "source": [
    "orders.order_date = pd.to_datetime(orders.order_date)"
   ]
  },
  {
   "cell_type": "code",
   "execution_count": 4,
   "id": "8c4658d3-2ece-41ae-adce-87991ff18770",
   "metadata": {},
   "outputs": [],
   "source": [
    "merged_orders = orders.merge(products[['product_id','price']], on = 'product_id', how = 'left')"
   ]
  },
  {
   "cell_type": "code",
   "execution_count": 32,
   "id": "d0996365-e2c6-46e9-8b47-d4be850cd22d",
   "metadata": {},
   "outputs": [],
   "source": []
  },
  {
   "cell_type": "code",
   "execution_count": 5,
   "id": "88844cc1-6dcb-4597-ad1d-1b8d2c1225f0",
   "metadata": {},
   "outputs": [],
   "source": [
    "top_products_22 = merged_orders[merged_orders['order_date'].dt.year == 2022]"
   ]
  },
  {
   "cell_type": "code",
   "execution_count": 6,
   "id": "cfc2a162-d7db-44a3-916c-f1d8e3ae937b",
   "metadata": {},
   "outputs": [
    {
     "data": {
      "text/html": [
       "<div>\n",
       "<style scoped>\n",
       "    .dataframe tbody tr th:only-of-type {\n",
       "        vertical-align: middle;\n",
       "    }\n",
       "\n",
       "    .dataframe tbody tr th {\n",
       "        vertical-align: top;\n",
       "    }\n",
       "\n",
       "    .dataframe thead th {\n",
       "        text-align: right;\n",
       "    }\n",
       "</style>\n",
       "<table border=\"1\" class=\"dataframe\">\n",
       "  <thead>\n",
       "    <tr style=\"text-align: right;\">\n",
       "      <th></th>\n",
       "      <th>order_id</th>\n",
       "      <th>customer_id</th>\n",
       "      <th>product_id</th>\n",
       "      <th>quantity</th>\n",
       "      <th>order_date</th>\n",
       "      <th>price</th>\n",
       "    </tr>\n",
       "  </thead>\n",
       "  <tbody>\n",
       "    <tr>\n",
       "      <th>0</th>\n",
       "      <td>O00001</td>\n",
       "      <td>C0333</td>\n",
       "      <td>P022</td>\n",
       "      <td>1</td>\n",
       "      <td>2022-01-09</td>\n",
       "      <td>185.33</td>\n",
       "    </tr>\n",
       "    <tr>\n",
       "      <th>1</th>\n",
       "      <td>O00002</td>\n",
       "      <td>C0068</td>\n",
       "      <td>P090</td>\n",
       "      <td>1</td>\n",
       "      <td>2022-01-27</td>\n",
       "      <td>947.55</td>\n",
       "    </tr>\n",
       "    <tr>\n",
       "      <th>2</th>\n",
       "      <td>O00003</td>\n",
       "      <td>C0483</td>\n",
       "      <td>P021</td>\n",
       "      <td>1</td>\n",
       "      <td>2022-01-17</td>\n",
       "      <td>938.65</td>\n",
       "    </tr>\n",
       "    <tr>\n",
       "      <th>3</th>\n",
       "      <td>O00004</td>\n",
       "      <td>C0214</td>\n",
       "      <td>P076</td>\n",
       "      <td>4</td>\n",
       "      <td>2022-01-07</td>\n",
       "      <td>154.17</td>\n",
       "    </tr>\n",
       "    <tr>\n",
       "      <th>4</th>\n",
       "      <td>O00005</td>\n",
       "      <td>C0411</td>\n",
       "      <td>P073</td>\n",
       "      <td>4</td>\n",
       "      <td>2022-01-12</td>\n",
       "      <td>131.85</td>\n",
       "    </tr>\n",
       "    <tr>\n",
       "      <th>...</th>\n",
       "      <td>...</td>\n",
       "      <td>...</td>\n",
       "      <td>...</td>\n",
       "      <td>...</td>\n",
       "      <td>...</td>\n",
       "      <td>...</td>\n",
       "    </tr>\n",
       "    <tr>\n",
       "      <th>823</th>\n",
       "      <td>O00824</td>\n",
       "      <td>C0013</td>\n",
       "      <td>P080</td>\n",
       "      <td>1</td>\n",
       "      <td>2022-12-10</td>\n",
       "      <td>642.94</td>\n",
       "    </tr>\n",
       "    <tr>\n",
       "      <th>824</th>\n",
       "      <td>O00825</td>\n",
       "      <td>C0030</td>\n",
       "      <td>P077</td>\n",
       "      <td>2</td>\n",
       "      <td>2022-12-20</td>\n",
       "      <td>233.11</td>\n",
       "    </tr>\n",
       "    <tr>\n",
       "      <th>825</th>\n",
       "      <td>O00826</td>\n",
       "      <td>C0487</td>\n",
       "      <td>P077</td>\n",
       "      <td>1</td>\n",
       "      <td>2022-12-02</td>\n",
       "      <td>233.11</td>\n",
       "    </tr>\n",
       "    <tr>\n",
       "      <th>826</th>\n",
       "      <td>O00827</td>\n",
       "      <td>C0363</td>\n",
       "      <td>P016</td>\n",
       "      <td>1</td>\n",
       "      <td>2022-12-29</td>\n",
       "      <td>929.88</td>\n",
       "    </tr>\n",
       "    <tr>\n",
       "      <th>827</th>\n",
       "      <td>O00828</td>\n",
       "      <td>C0439</td>\n",
       "      <td>P078</td>\n",
       "      <td>2</td>\n",
       "      <td>2022-12-11</td>\n",
       "      <td>723.64</td>\n",
       "    </tr>\n",
       "  </tbody>\n",
       "</table>\n",
       "<p>828 rows × 6 columns</p>\n",
       "</div>"
      ],
      "text/plain": [
       "    order_id customer_id product_id  quantity order_date   price\n",
       "0     O00001       C0333       P022         1 2022-01-09  185.33\n",
       "1     O00002       C0068       P090         1 2022-01-27  947.55\n",
       "2     O00003       C0483       P021         1 2022-01-17  938.65\n",
       "3     O00004       C0214       P076         4 2022-01-07  154.17\n",
       "4     O00005       C0411       P073         4 2022-01-12  131.85\n",
       "..       ...         ...        ...       ...        ...     ...\n",
       "823   O00824       C0013       P080         1 2022-12-10  642.94\n",
       "824   O00825       C0030       P077         2 2022-12-20  233.11\n",
       "825   O00826       C0487       P077         1 2022-12-02  233.11\n",
       "826   O00827       C0363       P016         1 2022-12-29  929.88\n",
       "827   O00828       C0439       P078         2 2022-12-11  723.64\n",
       "\n",
       "[828 rows x 6 columns]"
      ]
     },
     "execution_count": 6,
     "metadata": {},
     "output_type": "execute_result"
    }
   ],
   "source": [
    "top_products_22"
   ]
  },
  {
   "cell_type": "code",
   "execution_count": 7,
   "id": "a994d8f5-e808-4cc9-ba87-7233512d97b8",
   "metadata": {},
   "outputs": [
    {
     "name": "stderr",
     "output_type": "stream",
     "text": [
      "C:\\Users\\afham\\AppData\\Local\\Temp\\ipykernel_12660\\4104991604.py:1: SettingWithCopyWarning: \n",
      "A value is trying to be set on a copy of a slice from a DataFrame.\n",
      "Try using .loc[row_indexer,col_indexer] = value instead\n",
      "\n",
      "See the caveats in the documentation: https://pandas.pydata.org/pandas-docs/stable/user_guide/indexing.html#returning-a-view-versus-a-copy\n",
      "  top_products_22['year'] = merged_orders['order_date'].dt.year\n",
      "C:\\Users\\afham\\AppData\\Local\\Temp\\ipykernel_12660\\4104991604.py:2: SettingWithCopyWarning: \n",
      "A value is trying to be set on a copy of a slice from a DataFrame.\n",
      "Try using .loc[row_indexer,col_indexer] = value instead\n",
      "\n",
      "See the caveats in the documentation: https://pandas.pydata.org/pandas-docs/stable/user_guide/indexing.html#returning-a-view-versus-a-copy\n",
      "  top_products_22['month'] = merged_orders['order_date'].dt.month\n"
     ]
    }
   ],
   "source": [
    "top_products_22['year'] = merged_orders['order_date'].dt.year\n",
    "top_products_22['month'] = merged_orders['order_date'].dt.month"
   ]
  },
  {
   "cell_type": "code",
   "execution_count": 8,
   "id": "37a10131-afbe-41b9-ae30-4183f1427da3",
   "metadata": {},
   "outputs": [
    {
     "data": {
      "text/html": [
       "<div>\n",
       "<style scoped>\n",
       "    .dataframe tbody tr th:only-of-type {\n",
       "        vertical-align: middle;\n",
       "    }\n",
       "\n",
       "    .dataframe tbody tr th {\n",
       "        vertical-align: top;\n",
       "    }\n",
       "\n",
       "    .dataframe thead th {\n",
       "        text-align: right;\n",
       "    }\n",
       "</style>\n",
       "<table border=\"1\" class=\"dataframe\">\n",
       "  <thead>\n",
       "    <tr style=\"text-align: right;\">\n",
       "      <th></th>\n",
       "      <th>order_id</th>\n",
       "      <th>customer_id</th>\n",
       "      <th>product_id</th>\n",
       "      <th>quantity</th>\n",
       "      <th>order_date</th>\n",
       "      <th>price</th>\n",
       "      <th>year</th>\n",
       "      <th>month</th>\n",
       "    </tr>\n",
       "  </thead>\n",
       "  <tbody>\n",
       "    <tr>\n",
       "      <th>0</th>\n",
       "      <td>O00001</td>\n",
       "      <td>C0333</td>\n",
       "      <td>P022</td>\n",
       "      <td>1</td>\n",
       "      <td>2022-01-09</td>\n",
       "      <td>185.33</td>\n",
       "      <td>2022</td>\n",
       "      <td>1</td>\n",
       "    </tr>\n",
       "    <tr>\n",
       "      <th>1</th>\n",
       "      <td>O00002</td>\n",
       "      <td>C0068</td>\n",
       "      <td>P090</td>\n",
       "      <td>1</td>\n",
       "      <td>2022-01-27</td>\n",
       "      <td>947.55</td>\n",
       "      <td>2022</td>\n",
       "      <td>1</td>\n",
       "    </tr>\n",
       "    <tr>\n",
       "      <th>2</th>\n",
       "      <td>O00003</td>\n",
       "      <td>C0483</td>\n",
       "      <td>P021</td>\n",
       "      <td>1</td>\n",
       "      <td>2022-01-17</td>\n",
       "      <td>938.65</td>\n",
       "      <td>2022</td>\n",
       "      <td>1</td>\n",
       "    </tr>\n",
       "    <tr>\n",
       "      <th>3</th>\n",
       "      <td>O00004</td>\n",
       "      <td>C0214</td>\n",
       "      <td>P076</td>\n",
       "      <td>4</td>\n",
       "      <td>2022-01-07</td>\n",
       "      <td>154.17</td>\n",
       "      <td>2022</td>\n",
       "      <td>1</td>\n",
       "    </tr>\n",
       "    <tr>\n",
       "      <th>4</th>\n",
       "      <td>O00005</td>\n",
       "      <td>C0411</td>\n",
       "      <td>P073</td>\n",
       "      <td>4</td>\n",
       "      <td>2022-01-12</td>\n",
       "      <td>131.85</td>\n",
       "      <td>2022</td>\n",
       "      <td>1</td>\n",
       "    </tr>\n",
       "    <tr>\n",
       "      <th>...</th>\n",
       "      <td>...</td>\n",
       "      <td>...</td>\n",
       "      <td>...</td>\n",
       "      <td>...</td>\n",
       "      <td>...</td>\n",
       "      <td>...</td>\n",
       "      <td>...</td>\n",
       "      <td>...</td>\n",
       "    </tr>\n",
       "    <tr>\n",
       "      <th>823</th>\n",
       "      <td>O00824</td>\n",
       "      <td>C0013</td>\n",
       "      <td>P080</td>\n",
       "      <td>1</td>\n",
       "      <td>2022-12-10</td>\n",
       "      <td>642.94</td>\n",
       "      <td>2022</td>\n",
       "      <td>12</td>\n",
       "    </tr>\n",
       "    <tr>\n",
       "      <th>824</th>\n",
       "      <td>O00825</td>\n",
       "      <td>C0030</td>\n",
       "      <td>P077</td>\n",
       "      <td>2</td>\n",
       "      <td>2022-12-20</td>\n",
       "      <td>233.11</td>\n",
       "      <td>2022</td>\n",
       "      <td>12</td>\n",
       "    </tr>\n",
       "    <tr>\n",
       "      <th>825</th>\n",
       "      <td>O00826</td>\n",
       "      <td>C0487</td>\n",
       "      <td>P077</td>\n",
       "      <td>1</td>\n",
       "      <td>2022-12-02</td>\n",
       "      <td>233.11</td>\n",
       "      <td>2022</td>\n",
       "      <td>12</td>\n",
       "    </tr>\n",
       "    <tr>\n",
       "      <th>826</th>\n",
       "      <td>O00827</td>\n",
       "      <td>C0363</td>\n",
       "      <td>P016</td>\n",
       "      <td>1</td>\n",
       "      <td>2022-12-29</td>\n",
       "      <td>929.88</td>\n",
       "      <td>2022</td>\n",
       "      <td>12</td>\n",
       "    </tr>\n",
       "    <tr>\n",
       "      <th>827</th>\n",
       "      <td>O00828</td>\n",
       "      <td>C0439</td>\n",
       "      <td>P078</td>\n",
       "      <td>2</td>\n",
       "      <td>2022-12-11</td>\n",
       "      <td>723.64</td>\n",
       "      <td>2022</td>\n",
       "      <td>12</td>\n",
       "    </tr>\n",
       "  </tbody>\n",
       "</table>\n",
       "<p>828 rows × 8 columns</p>\n",
       "</div>"
      ],
      "text/plain": [
       "    order_id customer_id product_id  quantity order_date   price  year  month\n",
       "0     O00001       C0333       P022         1 2022-01-09  185.33  2022      1\n",
       "1     O00002       C0068       P090         1 2022-01-27  947.55  2022      1\n",
       "2     O00003       C0483       P021         1 2022-01-17  938.65  2022      1\n",
       "3     O00004       C0214       P076         4 2022-01-07  154.17  2022      1\n",
       "4     O00005       C0411       P073         4 2022-01-12  131.85  2022      1\n",
       "..       ...         ...        ...       ...        ...     ...   ...    ...\n",
       "823   O00824       C0013       P080         1 2022-12-10  642.94  2022     12\n",
       "824   O00825       C0030       P077         2 2022-12-20  233.11  2022     12\n",
       "825   O00826       C0487       P077         1 2022-12-02  233.11  2022     12\n",
       "826   O00827       C0363       P016         1 2022-12-29  929.88  2022     12\n",
       "827   O00828       C0439       P078         2 2022-12-11  723.64  2022     12\n",
       "\n",
       "[828 rows x 8 columns]"
      ]
     },
     "execution_count": 8,
     "metadata": {},
     "output_type": "execute_result"
    }
   ],
   "source": [
    "top_products_22"
   ]
  },
  {
   "cell_type": "code",
   "execution_count": 13,
   "id": "0d737ad3-32d5-4650-8e5f-a69e352030e9",
   "metadata": {},
   "outputs": [
    {
     "name": "stdout",
     "output_type": "stream",
     "text": [
      "Total Revenue of year 2022: 442073.72\n"
     ]
    }
   ],
   "source": [
    "revenue = top_products_22['price'].sum()\n",
    "print(f\"Total Revenue of year 2022: {revenue}\")"
   ]
  },
  {
   "cell_type": "code",
   "execution_count": 24,
   "id": "ec512853-52da-4c92-9af4-fd7d96b14785",
   "metadata": {},
   "outputs": [
    {
     "ename": "TypeError",
     "evalue": "DataFrame.merge() got multiple values for argument 'how'",
     "output_type": "error",
     "traceback": [
      "\u001b[31m---------------------------------------------------------------------------\u001b[39m",
      "\u001b[31mTypeError\u001b[39m                                 Traceback (most recent call last)",
      "\u001b[36mCell\u001b[39m\u001b[36m \u001b[39m\u001b[32mIn[24]\u001b[39m\u001b[32m, line 2\u001b[39m\n\u001b[32m      1\u001b[39m \u001b[38;5;66;03m#merged_orders_22 = orders.merge(customers[['customer_id','age',\"gender\"]], on = 'coustomer_id', how = 'left')\u001b[39;00m\n\u001b[32m----> \u001b[39m\u001b[32m2\u001b[39m merged_data_22 = \u001b[43morders\u001b[49m\u001b[43m.\u001b[49m\u001b[43mmerge\u001b[49m\u001b[43m(\u001b[49m\u001b[43mproducts\u001b[49m\u001b[43m,\u001b[49m\u001b[43m \u001b[49m\u001b[43mcustomers\u001b[49m\u001b[43m[\u001b[49m\u001b[43m[\u001b[49m\u001b[33;43m'\u001b[39;49m\u001b[33;43mcustomer_id\u001b[39;49m\u001b[33;43m'\u001b[39;49m\u001b[43m,\u001b[49m\u001b[43m \u001b[49m\u001b[33;43m'\u001b[39;49m\u001b[33;43mgender\u001b[39;49m\u001b[33;43m'\u001b[39;49m\u001b[43m,\u001b[49m\u001b[43m \u001b[49m\u001b[33;43m'\u001b[39;49m\u001b[33;43mage\u001b[39;49m\u001b[33;43m'\u001b[39;49m\u001b[43m]\u001b[49m\u001b[43m]\u001b[49m\u001b[43m,\u001b[49m\u001b[43m \u001b[49m\u001b[43mon\u001b[49m\u001b[43m \u001b[49m\u001b[43m=\u001b[49m\u001b[33;43m'\u001b[39;49m\u001b[33;43mcustomer_id\u001b[39;49m\u001b[33;43m'\u001b[39;49m\u001b[43m,\u001b[49m\u001b[43m \u001b[49m\u001b[43mhow\u001b[49m\u001b[43m \u001b[49m\u001b[43m=\u001b[49m\u001b[33;43m'\u001b[39;49m\u001b[33;43mleft\u001b[39;49m\u001b[33;43m'\u001b[39;49m\u001b[43m)\u001b[49m\n",
      "\u001b[31mTypeError\u001b[39m: DataFrame.merge() got multiple values for argument 'how'"
     ]
    }
   ],
   "source": [
    "#merged_orders_22 = orders.merge(customers[['customer_id','age',\"gender\"]], on = 'coustomer_id', how = 'left')\n",
    "merged_data_22 = orders.merge(products, customers[['customer_id', 'gender', 'age']], on ='customer_id', how ='left')\n"
   ]
  },
  {
   "cell_type": "code",
   "execution_count": 31,
   "id": "1d93a9ff-cbe3-418e-a5a7-26570fc39b2f",
   "metadata": {},
   "outputs": [
    {
     "data": {
      "text/plain": [
       "Index(['C0267', 'C0080', 'C0129', 'C0028', 'C0364', 'C0047', 'C0497', 'C0083',\n",
       "       'C0471', 'C0336',\n",
       "       ...\n",
       "       'C0398', 'C0142', 'C0174', 'C0265', 'C0011', 'C0017', 'C0226', 'C0279',\n",
       "       'C0137', 'C0363'],\n",
       "      dtype='object', name='customer_id', length=417)"
      ]
     },
     "execution_count": 31,
     "metadata": {},
     "output_type": "execute_result"
    }
   ],
   "source": [
    " top_products_22.customer_id.value_counts().index"
   ]
  },
  {
   "cell_type": "code",
   "execution_count": 30,
   "id": "61d292a9-5ab0-4636-95ae-741af5370673",
   "metadata": {},
   "outputs": [
    {
     "data": {
      "text/html": [
       "<div>\n",
       "<style scoped>\n",
       "    .dataframe tbody tr th:only-of-type {\n",
       "        vertical-align: middle;\n",
       "    }\n",
       "\n",
       "    .dataframe tbody tr th {\n",
       "        vertical-align: top;\n",
       "    }\n",
       "\n",
       "    .dataframe thead th {\n",
       "        text-align: right;\n",
       "    }\n",
       "</style>\n",
       "<table border=\"1\" class=\"dataframe\">\n",
       "  <thead>\n",
       "    <tr style=\"text-align: right;\">\n",
       "      <th></th>\n",
       "      <th>customer_id</th>\n",
       "      <th>name</th>\n",
       "      <th>age</th>\n",
       "      <th>gender</th>\n",
       "      <th>city</th>\n",
       "    </tr>\n",
       "  </thead>\n",
       "  <tbody>\n",
       "    <tr>\n",
       "      <th>266</th>\n",
       "      <td>C0267</td>\n",
       "      <td>Steven</td>\n",
       "      <td>29</td>\n",
       "      <td>Female</td>\n",
       "      <td>Heatherborough</td>\n",
       "    </tr>\n",
       "  </tbody>\n",
       "</table>\n",
       "</div>"
      ],
      "text/plain": [
       "    customer_id    name  age  gender            city\n",
       "266       C0267  Steven   29  Female  Heatherborough"
      ]
     },
     "execution_count": 30,
     "metadata": {},
     "output_type": "execute_result"
    }
   ],
   "source": [
    "customers[customers['customer_id'] == top_products_22.customer_id.value_counts().index[0]]"
   ]
  },
  {
   "cell_type": "code",
   "execution_count": null,
   "id": "5db9137b-8231-4035-b55d-523b1bd86272",
   "metadata": {},
   "outputs": [],
   "source": []
  }
 ],
 "metadata": {
  "kernelspec": {
   "display_name": "Python 3 (ipykernel)",
   "language": "python",
   "name": "python3"
  },
  "language_info": {
   "codemirror_mode": {
    "name": "ipython",
    "version": 3
   },
   "file_extension": ".py",
   "mimetype": "text/x-python",
   "name": "python",
   "nbconvert_exporter": "python",
   "pygments_lexer": "ipython3",
   "version": "3.13.3"
  }
 },
 "nbformat": 4,
 "nbformat_minor": 5
}
