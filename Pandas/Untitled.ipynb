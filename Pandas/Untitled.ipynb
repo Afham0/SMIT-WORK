{
 "cells": [
  {
   "cell_type": "code",
   "execution_count": 1,
   "id": "f3087ddb-9c1f-4310-9eb7-156cb0cdd447",
   "metadata": {},
   "outputs": [
    {
     "name": "stdout",
     "output_type": "stream",
     "text": [
      "Requirement already satisfied: pandas in c:\\users\\afham\\appdata\\local\\programs\\python\\python313\\lib\\site-packages (2.3.2)\n",
      "Requirement already satisfied: numpy>=1.26.0 in c:\\users\\afham\\appdata\\local\\programs\\python\\python313\\lib\\site-packages (from pandas) (2.3.2)\n",
      "Requirement already satisfied: python-dateutil>=2.8.2 in c:\\users\\afham\\appdata\\local\\programs\\python\\python313\\lib\\site-packages (from pandas) (2.9.0.post0)\n",
      "Requirement already satisfied: pytz>=2020.1 in c:\\users\\afham\\appdata\\local\\programs\\python\\python313\\lib\\site-packages (from pandas) (2025.2)\n",
      "Requirement already satisfied: tzdata>=2022.7 in c:\\users\\afham\\appdata\\local\\programs\\python\\python313\\lib\\site-packages (from pandas) (2025.2)\n",
      "Requirement already satisfied: six>=1.5 in c:\\users\\afham\\appdata\\local\\programs\\python\\python313\\lib\\site-packages (from python-dateutil>=2.8.2->pandas) (1.17.0)\n",
      "Note: you may need to restart the kernel to use updated packages.\n"
     ]
    }
   ],
   "source": [
    "pip install pandas"
   ]
  },
  {
   "cell_type": "code",
   "execution_count": 2,
   "id": "834c3491-3c26-4ad6-9f72-1fad15aa4f1a",
   "metadata": {},
   "outputs": [],
   "source": [
    "import pandas as pd"
   ]
  },
  {
   "cell_type": "code",
   "execution_count": 35,
   "id": "8eb2d307-5516-4847-b29b-6b562aee66bb",
   "metadata": {},
   "outputs": [],
   "source": [
    "data =[[\"afham\",40,80,50,60,70],\n",
    "       [\"ali\",40,80,50,None,70],\n",
    "       [\"ahmed\",40,80,50,60,70]]\n",
    "df = pd.DataFrame(data,columns=[\"Name\",\"science\",\"math\",\"english\",\"urdu\",\"chemistry\"],index=[\"std1\",\"std2\",\"std3\"])"
   ]
  },
  {
   "cell_type": "code",
   "execution_count": 36,
   "id": "92e0d9b6-ada3-4659-92c4-4c3086a383c3",
   "metadata": {},
   "outputs": [
    {
     "data": {
      "text/html": [
       "<div>\n",
       "<style scoped>\n",
       "    .dataframe tbody tr th:only-of-type {\n",
       "        vertical-align: middle;\n",
       "    }\n",
       "\n",
       "    .dataframe tbody tr th {\n",
       "        vertical-align: top;\n",
       "    }\n",
       "\n",
       "    .dataframe thead th {\n",
       "        text-align: right;\n",
       "    }\n",
       "</style>\n",
       "<table border=\"1\" class=\"dataframe\">\n",
       "  <thead>\n",
       "    <tr style=\"text-align: right;\">\n",
       "      <th></th>\n",
       "      <th>Name</th>\n",
       "      <th>science</th>\n",
       "      <th>math</th>\n",
       "      <th>english</th>\n",
       "      <th>urdu</th>\n",
       "      <th>chemistry</th>\n",
       "    </tr>\n",
       "  </thead>\n",
       "  <tbody>\n",
       "    <tr>\n",
       "      <th>std1</th>\n",
       "      <td>afham</td>\n",
       "      <td>40</td>\n",
       "      <td>80</td>\n",
       "      <td>50</td>\n",
       "      <td>60.0</td>\n",
       "      <td>70</td>\n",
       "    </tr>\n",
       "    <tr>\n",
       "      <th>std2</th>\n",
       "      <td>ali</td>\n",
       "      <td>40</td>\n",
       "      <td>80</td>\n",
       "      <td>50</td>\n",
       "      <td>NaN</td>\n",
       "      <td>70</td>\n",
       "    </tr>\n",
       "    <tr>\n",
       "      <th>std3</th>\n",
       "      <td>ahmed</td>\n",
       "      <td>40</td>\n",
       "      <td>80</td>\n",
       "      <td>50</td>\n",
       "      <td>60.0</td>\n",
       "      <td>70</td>\n",
       "    </tr>\n",
       "  </tbody>\n",
       "</table>\n",
       "</div>"
      ],
      "text/plain": [
       "       Name  science  math  english  urdu  chemistry\n",
       "std1  afham       40    80       50  60.0         70\n",
       "std2    ali       40    80       50   NaN         70\n",
       "std3  ahmed       40    80       50  60.0         70"
      ]
     },
     "execution_count": 36,
     "metadata": {},
     "output_type": "execute_result"
    }
   ],
   "source": [
    "df"
   ]
  },
  {
   "cell_type": "code",
   "execution_count": 32,
   "id": "bb04178b-1c42-4a47-a20e-fd7462f306a9",
   "metadata": {},
   "outputs": [
    {
     "data": {
      "text/plain": [
       "Name         ali\n",
       "science       40\n",
       "math          80\n",
       "english       50\n",
       "urdu            \n",
       "chemistry     70\n",
       "Name: std2, dtype: object"
      ]
     },
     "execution_count": 32,
     "metadata": {},
     "output_type": "execute_result"
    }
   ],
   "source": [
    "df.loc[\"std2\"]"
   ]
  },
  {
   "cell_type": "code",
   "execution_count": 33,
   "id": "861c4f61-d495-49f8-9adb-22390d91f39f",
   "metadata": {},
   "outputs": [
    {
     "data": {
      "text/plain": [
       "Name         afham\n",
       "science         40\n",
       "math            80\n",
       "english         50\n",
       "urdu            60\n",
       "chemistry       70\n",
       "Name: std1, dtype: object"
      ]
     },
     "execution_count": 33,
     "metadata": {},
     "output_type": "execute_result"
    }
   ],
   "source": [
    "df.iloc[0]"
   ]
  },
  {
   "cell_type": "code",
   "execution_count": 28,
   "id": "7f4f80f3-280f-41e3-9e04-37c95d89cac9",
   "metadata": {},
   "outputs": [],
   "source": [
    "df.drop('math',axis=1, inplace=True)"
   ]
  },
  {
   "cell_type": "code",
   "execution_count": 37,
   "id": "a51d38f3-2873-4961-89a0-fe121fd9b5cb",
   "metadata": {},
   "outputs": [
    {
     "data": {
      "text/plain": [
       "Name          object\n",
       "science        int64\n",
       "math           int64\n",
       "english        int64\n",
       "urdu         float64\n",
       "chemistry      int64\n",
       "dtype: object"
      ]
     },
     "execution_count": 37,
     "metadata": {},
     "output_type": "execute_result"
    }
   ],
   "source": [
    "df.dtypes"
   ]
  },
  {
   "cell_type": "code",
   "execution_count": 39,
   "id": "85625c3d-68fd-46cc-a95f-85f39b05eb24",
   "metadata": {},
   "outputs": [
    {
     "data": {
      "text/html": [
       "<div>\n",
       "<style scoped>\n",
       "    .dataframe tbody tr th:only-of-type {\n",
       "        vertical-align: middle;\n",
       "    }\n",
       "\n",
       "    .dataframe tbody tr th {\n",
       "        vertical-align: top;\n",
       "    }\n",
       "\n",
       "    .dataframe thead th {\n",
       "        text-align: right;\n",
       "    }\n",
       "</style>\n",
       "<table border=\"1\" class=\"dataframe\">\n",
       "  <thead>\n",
       "    <tr style=\"text-align: right;\">\n",
       "      <th></th>\n",
       "      <th>Name</th>\n",
       "      <th>science</th>\n",
       "      <th>math</th>\n",
       "      <th>english</th>\n",
       "      <th>chemistry</th>\n",
       "    </tr>\n",
       "  </thead>\n",
       "  <tbody>\n",
       "    <tr>\n",
       "      <th>std1</th>\n",
       "      <td>afham</td>\n",
       "      <td>40</td>\n",
       "      <td>80</td>\n",
       "      <td>50</td>\n",
       "      <td>70</td>\n",
       "    </tr>\n",
       "    <tr>\n",
       "      <th>std2</th>\n",
       "      <td>ali</td>\n",
       "      <td>40</td>\n",
       "      <td>80</td>\n",
       "      <td>50</td>\n",
       "      <td>70</td>\n",
       "    </tr>\n",
       "    <tr>\n",
       "      <th>std3</th>\n",
       "      <td>ahmed</td>\n",
       "      <td>40</td>\n",
       "      <td>80</td>\n",
       "      <td>50</td>\n",
       "      <td>70</td>\n",
       "    </tr>\n",
       "  </tbody>\n",
       "</table>\n",
       "</div>"
      ],
      "text/plain": [
       "       Name  science  math  english  chemistry\n",
       "std1  afham       40    80       50         70\n",
       "std2    ali       40    80       50         70\n",
       "std3  ahmed       40    80       50         70"
      ]
     },
     "execution_count": 39,
     "metadata": {},
     "output_type": "execute_result"
    }
   ],
   "source": [
    "df.dropna(axis=1)"
   ]
  },
  {
   "cell_type": "code",
   "execution_count": 40,
   "id": "ae40e2c8-d4b2-4a4a-9e1a-fc08b66a98a2",
   "metadata": {},
   "outputs": [
    {
     "data": {
      "text/html": [
       "<div>\n",
       "<style scoped>\n",
       "    .dataframe tbody tr th:only-of-type {\n",
       "        vertical-align: middle;\n",
       "    }\n",
       "\n",
       "    .dataframe tbody tr th {\n",
       "        vertical-align: top;\n",
       "    }\n",
       "\n",
       "    .dataframe thead th {\n",
       "        text-align: right;\n",
       "    }\n",
       "</style>\n",
       "<table border=\"1\" class=\"dataframe\">\n",
       "  <thead>\n",
       "    <tr style=\"text-align: right;\">\n",
       "      <th></th>\n",
       "      <th>science</th>\n",
       "      <th>math</th>\n",
       "      <th>english</th>\n",
       "      <th>urdu</th>\n",
       "      <th>chemistry</th>\n",
       "    </tr>\n",
       "  </thead>\n",
       "  <tbody>\n",
       "    <tr>\n",
       "      <th>count</th>\n",
       "      <td>3.0</td>\n",
       "      <td>3.0</td>\n",
       "      <td>3.0</td>\n",
       "      <td>2.0</td>\n",
       "      <td>3.0</td>\n",
       "    </tr>\n",
       "    <tr>\n",
       "      <th>mean</th>\n",
       "      <td>40.0</td>\n",
       "      <td>80.0</td>\n",
       "      <td>50.0</td>\n",
       "      <td>60.0</td>\n",
       "      <td>70.0</td>\n",
       "    </tr>\n",
       "    <tr>\n",
       "      <th>std</th>\n",
       "      <td>0.0</td>\n",
       "      <td>0.0</td>\n",
       "      <td>0.0</td>\n",
       "      <td>0.0</td>\n",
       "      <td>0.0</td>\n",
       "    </tr>\n",
       "    <tr>\n",
       "      <th>min</th>\n",
       "      <td>40.0</td>\n",
       "      <td>80.0</td>\n",
       "      <td>50.0</td>\n",
       "      <td>60.0</td>\n",
       "      <td>70.0</td>\n",
       "    </tr>\n",
       "    <tr>\n",
       "      <th>25%</th>\n",
       "      <td>40.0</td>\n",
       "      <td>80.0</td>\n",
       "      <td>50.0</td>\n",
       "      <td>60.0</td>\n",
       "      <td>70.0</td>\n",
       "    </tr>\n",
       "    <tr>\n",
       "      <th>50%</th>\n",
       "      <td>40.0</td>\n",
       "      <td>80.0</td>\n",
       "      <td>50.0</td>\n",
       "      <td>60.0</td>\n",
       "      <td>70.0</td>\n",
       "    </tr>\n",
       "    <tr>\n",
       "      <th>75%</th>\n",
       "      <td>40.0</td>\n",
       "      <td>80.0</td>\n",
       "      <td>50.0</td>\n",
       "      <td>60.0</td>\n",
       "      <td>70.0</td>\n",
       "    </tr>\n",
       "    <tr>\n",
       "      <th>max</th>\n",
       "      <td>40.0</td>\n",
       "      <td>80.0</td>\n",
       "      <td>50.0</td>\n",
       "      <td>60.0</td>\n",
       "      <td>70.0</td>\n",
       "    </tr>\n",
       "  </tbody>\n",
       "</table>\n",
       "</div>"
      ],
      "text/plain": [
       "       science  math  english  urdu  chemistry\n",
       "count      3.0   3.0      3.0   2.0        3.0\n",
       "mean      40.0  80.0     50.0  60.0       70.0\n",
       "std        0.0   0.0      0.0   0.0        0.0\n",
       "min       40.0  80.0     50.0  60.0       70.0\n",
       "25%       40.0  80.0     50.0  60.0       70.0\n",
       "50%       40.0  80.0     50.0  60.0       70.0\n",
       "75%       40.0  80.0     50.0  60.0       70.0\n",
       "max       40.0  80.0     50.0  60.0       70.0"
      ]
     },
     "execution_count": 40,
     "metadata": {},
     "output_type": "execute_result"
    }
   ],
   "source": [
    "df.describe()"
   ]
  },
  {
   "cell_type": "code",
   "execution_count": 41,
   "id": "01b33b3b-82f1-49a0-a592-22d4705bd234",
   "metadata": {},
   "outputs": [
    {
     "data": {
      "text/plain": [
       "count     2.0\n",
       "mean     60.0\n",
       "std       0.0\n",
       "min      60.0\n",
       "25%      60.0\n",
       "50%      60.0\n",
       "75%      60.0\n",
       "max      60.0\n",
       "Name: urdu, dtype: float64"
      ]
     },
     "execution_count": 41,
     "metadata": {},
     "output_type": "execute_result"
    }
   ],
   "source": [
    "df.describe().urdu"
   ]
  },
  {
   "cell_type": "code",
   "execution_count": null,
   "id": "8711696f-8b36-4479-98e6-0c181e9239f4",
   "metadata": {},
   "outputs": [],
   "source": []
  },
  {
   "cell_type": "code",
   "execution_count": 21,
   "id": "a4aa3f4d-c6d6-45bd-aba6-467b68ec411a",
   "metadata": {},
   "outputs": [
    {
     "data": {
      "text/plain": [
       "std1    120\n",
       "std2    120\n",
       "std3    120\n",
       "dtype: int64"
      ]
     },
     "execution_count": 21,
     "metadata": {},
     "output_type": "execute_result"
    }
   ],
   "source": [
    "df['science']+df['math']"
   ]
  },
  {
   "cell_type": "code",
   "execution_count": 22,
   "id": "eff96dde-4158-4001-91a9-47c08a2f6294",
   "metadata": {},
   "outputs": [
    {
     "data": {
      "text/plain": [
       "std1    100\n",
       "std2    100\n",
       "std3    100\n",
       "dtype: int64"
      ]
     },
     "execution_count": 22,
     "metadata": {},
     "output_type": "execute_result"
    }
   ],
   "source": [
    "df.science + df.urdu"
   ]
  },
  {
   "cell_type": "code",
   "execution_count": 25,
   "id": "c96aa787-b87f-43cb-bff7-98f3818a3247",
   "metadata": {},
   "outputs": [],
   "source": [
    "gg=pd.Series([2,6,8,9,6,5,3],index=[\"1\",\"2\",\"3\",'4','5','6','7'])"
   ]
  },
  {
   "cell_type": "code",
   "execution_count": 26,
   "id": "cd2b6d09-6c39-4334-8e89-590ae60a7b22",
   "metadata": {},
   "outputs": [
    {
     "data": {
      "text/plain": [
       "np.int64(9)"
      ]
     },
     "execution_count": 26,
     "metadata": {},
     "output_type": "execute_result"
    }
   ],
   "source": [
    "gg.pop(\"4\")"
   ]
  },
  {
   "cell_type": "code",
   "execution_count": 43,
   "id": "5cd4dbb2-0ca5-4294-9b82-aa36fb967dd1",
   "metadata": {},
   "outputs": [],
   "source": [
    "dataset = pd.read_csv(\"invest.csv\")"
   ]
  },
  {
   "cell_type": "code",
   "execution_count": 45,
   "id": "0f2e0664-5d57-4c85-8f10-5b832faafb97",
   "metadata": {},
   "outputs": [
    {
     "data": {
      "text/html": [
       "<div>\n",
       "<style scoped>\n",
       "    .dataframe tbody tr th:only-of-type {\n",
       "        vertical-align: middle;\n",
       "    }\n",
       "\n",
       "    .dataframe tbody tr th {\n",
       "        vertical-align: top;\n",
       "    }\n",
       "\n",
       "    .dataframe thead th {\n",
       "        text-align: right;\n",
       "    }\n",
       "</style>\n",
       "<table border=\"1\" class=\"dataframe\">\n",
       "  <thead>\n",
       "    <tr style=\"text-align: right;\">\n",
       "      <th></th>\n",
       "      <th>Year</th>\n",
       "      <th>Profit Percentage</th>\n",
       "      <th>Additional Investment</th>\n",
       "      <th>Total Amount</th>\n",
       "    </tr>\n",
       "  </thead>\n",
       "  <tbody>\n",
       "    <tr>\n",
       "      <th>0</th>\n",
       "      <td>1</td>\n",
       "      <td>25%</td>\n",
       "      <td>0</td>\n",
       "      <td>6250.00</td>\n",
       "    </tr>\n",
       "    <tr>\n",
       "      <th>1</th>\n",
       "      <td>2</td>\n",
       "      <td>-30%</td>\n",
       "      <td>0</td>\n",
       "      <td>4375.00</td>\n",
       "    </tr>\n",
       "    <tr>\n",
       "      <th>2</th>\n",
       "      <td>3</td>\n",
       "      <td>22%</td>\n",
       "      <td>0</td>\n",
       "      <td>5337.50</td>\n",
       "    </tr>\n",
       "    <tr>\n",
       "      <th>3</th>\n",
       "      <td>4</td>\n",
       "      <td>28%</td>\n",
       "      <td>0</td>\n",
       "      <td>6832.00</td>\n",
       "    </tr>\n",
       "    <tr>\n",
       "      <th>4</th>\n",
       "      <td>5</td>\n",
       "      <td>25%</td>\n",
       "      <td>2000</td>\n",
       "      <td>10840.00</td>\n",
       "    </tr>\n",
       "    <tr>\n",
       "      <th>5</th>\n",
       "      <td>6</td>\n",
       "      <td>5%</td>\n",
       "      <td>0</td>\n",
       "      <td>11382.00</td>\n",
       "    </tr>\n",
       "    <tr>\n",
       "      <th>6</th>\n",
       "      <td>7</td>\n",
       "      <td>-25%</td>\n",
       "      <td>0</td>\n",
       "      <td>8536.50</td>\n",
       "    </tr>\n",
       "    <tr>\n",
       "      <th>7</th>\n",
       "      <td>8</td>\n",
       "      <td>30%</td>\n",
       "      <td>0</td>\n",
       "      <td>11097.45</td>\n",
       "    </tr>\n",
       "    <tr>\n",
       "      <th>8</th>\n",
       "      <td>9</td>\n",
       "      <td>-22%</td>\n",
       "      <td>0</td>\n",
       "      <td>8656.01</td>\n",
       "    </tr>\n",
       "    <tr>\n",
       "      <th>9</th>\n",
       "      <td>10</td>\n",
       "      <td>28%</td>\n",
       "      <td>0</td>\n",
       "      <td>11079.69</td>\n",
       "    </tr>\n",
       "  </tbody>\n",
       "</table>\n",
       "</div>"
      ],
      "text/plain": [
       "   Year Profit Percentage  Additional Investment  Total Amount\n",
       "0     1               25%                      0       6250.00\n",
       "1     2              -30%                      0       4375.00\n",
       "2     3               22%                      0       5337.50\n",
       "3     4               28%                      0       6832.00\n",
       "4     5               25%                   2000      10840.00\n",
       "5     6                5%                      0      11382.00\n",
       "6     7              -25%                      0       8536.50\n",
       "7     8               30%                      0      11097.45\n",
       "8     9              -22%                      0       8656.01\n",
       "9    10               28%                      0      11079.69"
      ]
     },
     "execution_count": 45,
     "metadata": {},
     "output_type": "execute_result"
    }
   ],
   "source": [
    "dataset"
   ]
  },
  {
   "cell_type": "code",
   "execution_count": 46,
   "id": "fac07ecc-49ac-4378-b84b-a7a4b8d12791",
   "metadata": {},
   "outputs": [
    {
     "data": {
      "text/html": [
       "<div>\n",
       "<style scoped>\n",
       "    .dataframe tbody tr th:only-of-type {\n",
       "        vertical-align: middle;\n",
       "    }\n",
       "\n",
       "    .dataframe tbody tr th {\n",
       "        vertical-align: top;\n",
       "    }\n",
       "\n",
       "    .dataframe thead th {\n",
       "        text-align: right;\n",
       "    }\n",
       "</style>\n",
       "<table border=\"1\" class=\"dataframe\">\n",
       "  <thead>\n",
       "    <tr style=\"text-align: right;\">\n",
       "      <th></th>\n",
       "      <th>Year</th>\n",
       "      <th>Profit Percentage</th>\n",
       "      <th>Additional Investment</th>\n",
       "      <th>Total Amount</th>\n",
       "    </tr>\n",
       "  </thead>\n",
       "  <tbody>\n",
       "    <tr>\n",
       "      <th>0</th>\n",
       "      <td>1</td>\n",
       "      <td>25%</td>\n",
       "      <td>0</td>\n",
       "      <td>6250.0</td>\n",
       "    </tr>\n",
       "    <tr>\n",
       "      <th>1</th>\n",
       "      <td>2</td>\n",
       "      <td>-30%</td>\n",
       "      <td>0</td>\n",
       "      <td>4375.0</td>\n",
       "    </tr>\n",
       "    <tr>\n",
       "      <th>2</th>\n",
       "      <td>3</td>\n",
       "      <td>22%</td>\n",
       "      <td>0</td>\n",
       "      <td>5337.5</td>\n",
       "    </tr>\n",
       "    <tr>\n",
       "      <th>3</th>\n",
       "      <td>4</td>\n",
       "      <td>28%</td>\n",
       "      <td>0</td>\n",
       "      <td>6832.0</td>\n",
       "    </tr>\n",
       "    <tr>\n",
       "      <th>4</th>\n",
       "      <td>5</td>\n",
       "      <td>25%</td>\n",
       "      <td>2000</td>\n",
       "      <td>10840.0</td>\n",
       "    </tr>\n",
       "  </tbody>\n",
       "</table>\n",
       "</div>"
      ],
      "text/plain": [
       "   Year Profit Percentage  Additional Investment  Total Amount\n",
       "0     1               25%                      0        6250.0\n",
       "1     2              -30%                      0        4375.0\n",
       "2     3               22%                      0        5337.5\n",
       "3     4               28%                      0        6832.0\n",
       "4     5               25%                   2000       10840.0"
      ]
     },
     "execution_count": 46,
     "metadata": {},
     "output_type": "execute_result"
    }
   ],
   "source": [
    "dataset.head()"
   ]
  },
  {
   "cell_type": "code",
   "execution_count": 44,
   "id": "220759f3-ad3d-4cfa-a489-3188f9b2e3b8",
   "metadata": {},
   "outputs": [
    {
     "data": {
      "text/plain": [
       "Year                       int64\n",
       "Profit Percentage         object\n",
       "Additional Investment      int64\n",
       "Total Amount             float64\n",
       "dtype: object"
      ]
     },
     "execution_count": 44,
     "metadata": {},
     "output_type": "execute_result"
    }
   ],
   "source": [
    "dataset.dtypes"
   ]
  },
  {
   "cell_type": "code",
   "execution_count": null,
   "id": "aec0853a-0918-4557-9544-4066fefe3e5f",
   "metadata": {},
   "outputs": [],
   "source": []
  }
 ],
 "metadata": {
  "kernelspec": {
   "display_name": "Python 3 (ipykernel)",
   "language": "python",
   "name": "python3"
  },
  "language_info": {
   "codemirror_mode": {
    "name": "ipython",
    "version": 3
   },
   "file_extension": ".py",
   "mimetype": "text/x-python",
   "name": "python",
   "nbconvert_exporter": "python",
   "pygments_lexer": "ipython3",
   "version": "3.13.3"
  }
 },
 "nbformat": 4,
 "nbformat_minor": 5
}
