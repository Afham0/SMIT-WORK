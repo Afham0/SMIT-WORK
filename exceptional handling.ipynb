{
 "cells": [
  {
   "cell_type": "code",
   "execution_count": 10,
   "id": "a367bf09-6a56-46ba-b051-cd8b6d117c1a",
   "metadata": {},
   "outputs": [
    {
     "name": "stdin",
     "output_type": "stream",
     "text": [
      "your age 18\n"
     ]
    },
    {
     "name": "stdout",
     "output_type": "stream",
     "text": [
      "your age in hours 157680\n"
     ]
    }
   ],
   "source": [
    "try:\n",
    "    user=int(input(\"your age\"))\n",
    "    print(\"your age in hours\",user*365*24)\n",
    "except:\n",
    "    print(\"inalid type\")"
   ]
  },
  {
   "cell_type": "code",
   "execution_count": 37,
   "id": "03953868-3e7d-4878-9431-1ee5490b157d",
   "metadata": {
    "scrolled": true
   },
   "outputs": [
    {
     "name": "stdin",
     "output_type": "stream",
     "text": [
      "enter your value 5\n"
     ]
    },
    {
     "name": "stdout",
     "output_type": "stream",
     "text": [
      "[90, 56, 89, 5]\n",
      "240\n"
     ]
    },
    {
     "name": "stdin",
     "output_type": "stream",
     "text": [
      "enter youre index number 1\n"
     ]
    },
    {
     "name": "stdout",
     "output_type": "stream",
     "text": [
      "56\n"
     ]
    }
   ],
   "source": [
    "a=[90,56,89]\n",
    "try:\n",
    "    user=int(input(\"enter your value\"))\n",
    "    a.append(user)\n",
    "    print(a)\n",
    "    print(sum(a))\n",
    "except:\n",
    "    print(\"invalid value\")\n",
    "try:\n",
    "    user1=int(input(\"enter youre index number\"))\n",
    "    print(a[user1])\n",
    "except IndexError:\n",
    "    print(\"invalid index\")"
   ]
  },
  {
   "cell_type": "code",
   "execution_count": 43,
   "id": "ef49b718-1db7-4812-9e6e-3ee26c706806",
   "metadata": {},
   "outputs": [
    {
     "name": "stdin",
     "output_type": "stream",
     "text": [
      "enter your CGPA 5.9\n"
     ]
    },
    {
     "name": "stdout",
     "output_type": "stream",
     "text": [
      "CGPA is not above 4\n"
     ]
    }
   ],
   "source": [
    "class CGPA(Exception):\n",
    "    pass\n",
    "try:\n",
    "    user=float(input(\"enter your CGPA\"))\n",
    "    if user>4:\n",
    "        raise CGPA(\"CGPA is not above 4\")\n",
    "    print(f\"your CGPA is {user}\")\n",
    "except CGPA as e:\n",
    "    print(e)"
   ]
  },
  {
   "cell_type": "code",
   "execution_count": 67,
   "id": "0d2b94c5-d7a9-4d7b-9a17-7d6aa08395be",
   "metadata": {
    "scrolled": true
   },
   "outputs": [
    {
     "name": "stdin",
     "output_type": "stream",
     "text": [
      "enter your number 5\n"
     ]
    },
    {
     "name": "stdout",
     "output_type": "stream",
     "text": [
      "your number is 5\n"
     ]
    }
   ],
   "source": [
    "class Num(Exception):\n",
    "    pass\n",
    "try:\n",
    "    user=int(input(\"enter your number\"))\n",
    "    if user<1 or user>10:\n",
    "        raise Num(\"number is not range\")\n",
    "    print(f\"your number is {user}\")\n",
    "except Num as e:\n",
    "    print(e)"
   ]
  },
  {
   "cell_type": "code",
   "execution_count": null,
   "id": "5abe7036-99b8-4cee-88ae-cb5723b63b88",
   "metadata": {},
   "outputs": [],
   "source": []
  }
 ],
 "metadata": {
  "kernelspec": {
   "display_name": "Python 3 (ipykernel)",
   "language": "python",
   "name": "python3"
  },
  "language_info": {
   "codemirror_mode": {
    "name": "ipython",
    "version": 3
   },
   "file_extension": ".py",
   "mimetype": "text/x-python",
   "name": "python",
   "nbconvert_exporter": "python",
   "pygments_lexer": "ipython3",
   "version": "3.13.3"
  }
 },
 "nbformat": 4,
 "nbformat_minor": 5
}
