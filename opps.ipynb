{
 "cells": [
  {
   "cell_type": "code",
   "execution_count": 1,
   "id": "251ca92d-8bf5-4f77-a4a7-5b414b933e64",
   "metadata": {},
   "outputs": [],
   "source": [
    "#class SMIT:\n",
    "    #properties\n",
    "    #chears = None\n",
    "    #batchs = None\n",
    "\n",
    "    #def __init__(self):\n",
    "class calculater:\n",
    "    A=1\n",
    "    B=3\n",
    "    def add(self):\n",
    "        print(self.A+self.B)\n",
    "c1 = calculater()"
   ]
  },
  {
   "cell_type": "code",
   "execution_count": 5,
   "id": "a2134085-9246-4c18-bcd9-2289d78e5edb",
   "metadata": {},
   "outputs": [
    {
     "name": "stdout",
     "output_type": "stream",
     "text": [
      "4\n"
     ]
    }
   ],
   "source": [
    "c1.add()"
   ]
  },
  {
   "cell_type": "code",
   "execution_count": 2,
   "id": "8b74a795-958a-43ee-9182-b58a9194e5d1",
   "metadata": {},
   "outputs": [
    {
     "name": "stdout",
     "output_type": "stream",
     "text": [
      "6\n"
     ]
    }
   ],
   "source": [
    "class calculater:\n",
    "    def add(self,x,y):\n",
    "        return x+y\n",
    "    def mul(self,x,y):\n",
    "        return x-y\n",
    "    def mul(self,x,y):\n",
    "        return x*y\n",
    "obj1 = calculater()\n",
    "print(obj1.add(3,3))"
   ]
  },
  {
   "cell_type": "code",
   "execution_count": 3,
   "id": "7141aee8-a095-4069-a08b-a967f9c5ca01",
   "metadata": {},
   "outputs": [
    {
     "name": "stdout",
     "output_type": "stream",
     "text": [
      "9\n"
     ]
    }
   ],
   "source": [
    "print(obj1.mul(3,3))"
   ]
  },
  {
   "cell_type": "code",
   "execution_count": 1,
   "id": "b7a39741-d383-441c-ad33-911a2f852335",
   "metadata": {},
   "outputs": [
    {
     "name": "stdout",
     "output_type": "stream",
     "text": [
      "adding student name\n",
      "afham 88 2122\n",
      "adding student name\n",
      "ali 56 2123\n",
      "wellcome student afham\n",
      "wellcome student ali\n"
     ]
    }
   ],
   "source": [
    "class Student:\n",
    "\n",
    "    def __init__(self,fullname,masks,rollnumber):\n",
    "        self.name=fullname\n",
    "        self.mask=masks\n",
    "        self.roll_no=rollnumber\n",
    "        print(\"adding student name\")\n",
    "\n",
    "    def Wellcome(self):\n",
    "        print(\"wellcome student\",self.name)\n",
    "\n",
    "obj1=Student(\"afham\",88,2122)\n",
    "print(obj1.name,obj1.mask,obj1.roll_no)\n",
    "\n",
    "obj2=Student(\"ali\",56,2123)\n",
    "print(obj2.name,obj2.mask,obj2.roll_no)\n",
    "obj1.Wellcome()\n",
    "obj2.Wellcome()"
   ]
  },
  {
   "cell_type": "code",
   "execution_count": 12,
   "id": "17ec02b8-1e99-44b5-9fc6-9f4e3648318a",
   "metadata": {},
   "outputs": [],
   "source": [
    "class human:\n",
    "    def __init__(self,legs,hands,eyes,hair_color,voice,fingers):\n",
    "        self.legs = legs\n",
    "        self.hands = hands\n",
    "        self.eyes = eyes\n",
    "        self.hair_color = hair_color\n",
    "        self.voice = voice\n",
    "        self.fingers = fingers\n",
    "    \n",
    "    def get_legs(self):\n",
    "            return self.legs\n",
    "    def get_hand(self):\n",
    "            return self.hand\n",
    "    def get_eyes(self):\n",
    "        return self.eyes\n",
    "    def get_hair_color(self):\n",
    "        return self.hair_color\n",
    "    def get_voice(self):\n",
    "        return self.voice\n",
    "    def get_fingers(self):\n",
    "        return self.fingers\n",
    "    def set_legs(self):\n",
    "        self.legs = legs\n",
    "    def set_hand(self):\n",
    "        self.hand = hand\n",
    "    def set_eyes(self):\n",
    "        self.eyes = eyes\n",
    "    def set_hair_color(self):\n",
    "        self.hair_color = hair_color\n",
    "    def set_voice(self):\n",
    "        self.voice = voice\n",
    "    def set_fingers(self):\n",
    "        self.fingers = fingers\n",
    "\n",
    "class Man(human):\n",
    "    pass\n",
    "    \n",
    "        \n",
    "\n",
    "\n",
    "obj1 = Man(2, 2, 2, \"Black\", \"Deep\", 10)\n"
   ]
  },
  {
   "cell_type": "code",
   "execution_count": 13,
   "id": "88cc31e8-a41d-4712-a9e9-6559f7f3a75e",
   "metadata": {},
   "outputs": [
    {
     "name": "stdout",
     "output_type": "stream",
     "text": [
      "Legs: 2\n",
      "Hair Color: Black\n"
     ]
    }
   ],
   "source": [
    "\n",
    "print(\"Legs:\", obj1.get_legs())\n",
    "print(\"Hair Color:\", obj1.get_hair_color())"
   ]
  },
  {
   "cell_type": "code",
   "execution_count": 8,
   "id": "5cfc5fbd-be1a-4dff-88fa-bd010a50e0ab",
   "metadata": {},
   "outputs": [
    {
     "name": "stdout",
     "output_type": "stream",
     "text": [
      "Legs: 2\n",
      "Hair Color: Black\n",
      "woman hair colour is : brown\n"
     ]
    }
   ],
   "source": [
    "class Human:\n",
    "    def __init__(self, legs, hands, eyes, hair_color, voice, fingers):\n",
    "        self.legs = legs\n",
    "        self.hands = hands\n",
    "        self.eyes = eyes\n",
    "        self.hair_color = hair_color\n",
    "        self.voice = voice\n",
    "        self.fingers = fingers\n",
    "\n",
    "    def get_legs(self):\n",
    "        return self.legs\n",
    "    def get_hands(self):\n",
    "        return self.hands\n",
    "    def get_eyes(self):\n",
    "        return self.eyes\n",
    "    def get_hair_color(self):\n",
    "        return self.hair_color\n",
    "    def get_voice(self):\n",
    "        return self.voice\n",
    "    def get_fingers(self):\n",
    "        return self.fingers\n",
    "\n",
    "    def set_legs(self, legs):\n",
    "        self.legs = legs\n",
    "    def set_hands(self, hands):\n",
    "        self.hands = hands\n",
    "    def set_eyes(self, eyes):\n",
    "        self.eyes = eyes\n",
    "    def set_hair_color(self, hair_color):\n",
    "        self.hair_color = hair_color\n",
    "    def set_voice(self, voice):\n",
    "        self.voice = voice\n",
    "    def set_fingers(self, fingers):\n",
    "        self.fingers = fingers\n",
    "\n",
    "class Man(Human):\n",
    "    pass\n",
    "class Woman(Human):\n",
    "    pass\n",
    "    \n",
    "# Create object of Man with attributes\n",
    "obj1 = Man(2, 2, 2, \"Black\", \"Deep\", 10)\n",
    "obj2= Woman(2,2,2,\"brown\",\"light\",10)\n",
    "# Example usage\n",
    "print(\"Legs:\", obj1.get_legs())\n",
    "print(\"Hair Color:\", obj1.get_hair_color())\n",
    "print(\"woman hair colour is :\",obj2.get_hair_color())"
   ]
  },
  {
   "cell_type": "code",
   "execution_count": 12,
   "id": "a6507ac5-8ee1-4feb-aea2-b5c1aab08424",
   "metadata": {},
   "outputs": [
    {
     "name": "stdout",
     "output_type": "stream",
     "text": [
      "afham\n",
      "[66, 56, 74]\n"
     ]
    }
   ],
   "source": [
    "class Student:\n",
    "    def __init__(self,name,marks):\n",
    "        self.name=name\n",
    "        self.marks=marks\n",
    "obj1=Student(\"afham\",[66,56,74])\n",
    "print(obj1.name)\n",
    "print(obj1.marks)"
   ]
  },
  {
   "cell_type": "code",
   "execution_count": 3,
   "id": "5a4be691-e91d-486c-853a-f62f4a75cdd2",
   "metadata": {},
   "outputs": [
    {
     "name": "stdout",
     "output_type": "stream",
     "text": [
      "Car is started.....\n"
     ]
    }
   ],
   "source": [
    "##abstraction\n",
    "class Car:\n",
    "    def __init__(self):\n",
    "        self.clutch=False\n",
    "        self.brk=False\n",
    "        self.acce=False\n",
    "    def Start(self):\n",
    "        self.clutch=True\n",
    "        self.acce=True\n",
    "        print(\"Car is started.....\")\n",
    "\n",
    "car1=Car()\n",
    "car1.Start()      ##hide unnessary details"
   ]
  },
  {
   "cell_type": "code",
   "execution_count": 7,
   "id": "ff7c5483-bcbc-4da8-8642-5c1bd397ce71",
   "metadata": {},
   "outputs": [],
   "source": [
    "class Account:\n",
    "    def __init__(self,acc,bal):\n",
    "        self.acount_no=acc\n",
    "        self.balance=bal\n",
    "    def withdraw(self,amount):\n",
    "        self.balance-=amount\n",
    "        print(f\"Rs {amount} is withdraw\")\n",
    "        print(f\"Total balance is {self.balance}\")\n",
    "    def add(self,amount):\n",
    "        self.balance+=amount\n",
    "        print(f\"Rs {amount} is add in account\")\n",
    "        print(f\"Total balance is {self.balance}\")\n",
    "acc1=Account(5690,1000)\n"
   ]
  },
  {
   "cell_type": "code",
   "execution_count": 16,
   "id": "f2ff445c-1961-48db-a70a-581d54854be7",
   "metadata": {},
   "outputs": [
    {
     "name": "stdout",
     "output_type": "stream",
     "text": [
      "Rs 100 is withdraw\n",
      "Total balance is 900\n",
      "Rs 100 is add in account\n",
      "Total balance is 1000\n"
     ]
    }
   ],
   "source": [
    "acc1.withdraw(100)\n",
    "acc1.add(100)\n"
   ]
  },
  {
   "cell_type": "code",
   "execution_count": 14,
   "id": "dbaa7c17-993a-4c11-98e0-02f983d5c8ea",
   "metadata": {},
   "outputs": [
    {
     "name": "stdout",
     "output_type": "stream",
     "text": [
      "Rs 100 is add in account\n",
      "Total balance is 1100\n"
     ]
    }
   ],
   "source": [
    "acc1.add(100)"
   ]
  },
  {
   "cell_type": "code",
   "execution_count": 7,
   "id": "f0f5b2d5-6bc6-48cc-8b78-1367c53ed13a",
   "metadata": {},
   "outputs": [
    {
     "data": {
      "text/plain": [
       "'afham'"
      ]
     },
     "execution_count": 7,
     "metadata": {},
     "output_type": "execute_result"
    }
   ],
   "source": [
    "class Student:\n",
    "    def __init__(self,name):\n",
    "        self.name= name\n",
    "obj=Student('afham')\n",
    "obj.name"
   ]
  },
  {
   "cell_type": "code",
   "execution_count": 9,
   "id": "ff244191-c557-4e93-add8-f3d764705c7e",
   "metadata": {},
   "outputs": [],
   "source": [
    "del obj.name     ##del for dellete\n",
    "print(obj.name)"
   ]
  },
  {
   "cell_type": "code",
   "execution_count": 3,
   "id": "30226a14-323e-4c6f-95d0-b79ceca3540e",
   "metadata": {},
   "outputs": [],
   "source": [
    "class Car:           ##examp0le of inheritance\n",
    "    def start(self):\n",
    "        print(\"Car is started\")\n",
    "    def stop(self):\n",
    "        print(\"car is stopped\")\n",
    "class toyota(Car):\n",
    "    def __init__(self,name):\n",
    "        self.name=name\n",
    "obj1=toyota(\"carolla\")"
   ]
  },
  {
   "cell_type": "code",
   "execution_count": 4,
   "id": "d0455e1b-eaff-43d8-bb24-a7b6c097338f",
   "metadata": {},
   "outputs": [
    {
     "data": {
      "text/plain": [
       "'carolla'"
      ]
     },
     "execution_count": 4,
     "metadata": {},
     "output_type": "execute_result"
    }
   ],
   "source": [
    "obj1.name"
   ]
  },
  {
   "cell_type": "code",
   "execution_count": 7,
   "id": "d5164c13-2302-42e7-b6fe-d5ca22fd1124",
   "metadata": {},
   "outputs": [
    {
     "name": "stdout",
     "output_type": "stream",
     "text": [
      "Car is started\n",
      "car is stopped\n"
     ]
    }
   ],
   "source": [
    "obj1.start()\n",
    "obj1.stop()"
   ]
  },
  {
   "cell_type": "code",
   "execution_count": null,
   "id": "43a10307-3e0d-4edf-9386-710141e55435",
   "metadata": {},
   "outputs": [],
   "source": []
  }
 ],
 "metadata": {
  "kernelspec": {
   "display_name": "Python 3 (ipykernel)",
   "language": "python",
   "name": "python3"
  },
  "language_info": {
   "codemirror_mode": {
    "name": "ipython",
    "version": 3
   },
   "file_extension": ".py",
   "mimetype": "text/x-python",
   "name": "python",
   "nbconvert_exporter": "python",
   "pygments_lexer": "ipython3",
   "version": "3.13.3"
  }
 },
 "nbformat": 4,
 "nbformat_minor": 5
}
