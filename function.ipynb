{
 "cells": [
  {
   "cell_type": "code",
   "execution_count": 12,
   "id": "70e89afc-005a-492b-b7c6-aae1c9d14788",
   "metadata": {},
   "outputs": [],
   "source": [
    "def table():\n",
    "    for x in range(1,6,):\n",
    "        for x in range(x):\n",
    "            print(\"*\" ,end=\" \")\n",
    "        print() "
   ]
  },
  {
   "cell_type": "code",
   "execution_count": 13,
   "id": "bac606a0-4cd2-48a4-9dcc-e732daca2cd4",
   "metadata": {},
   "outputs": [
    {
     "name": "stdout",
     "output_type": "stream",
     "text": [
      "* \n",
      "* * \n",
      "* * * \n",
      "* * * * \n",
      "* * * * * \n"
     ]
    }
   ],
   "source": [
    "table()"
   ]
  },
  {
   "cell_type": "code",
   "execution_count": 16,
   "id": "8704cca2-7314-48a3-9e0c-cdcbe9bc5011",
   "metadata": {},
   "outputs": [],
   "source": [
    "def table(num):\n",
    "    for x in range(10,0,-1):\n",
    "        print(num*x)"
   ]
  },
  {
   "cell_type": "code",
   "execution_count": 17,
   "id": "9b336ced-3a29-41d5-b9a1-baa209149a76",
   "metadata": {},
   "outputs": [
    {
     "name": "stdout",
     "output_type": "stream",
     "text": [
      "40\n",
      "36\n",
      "32\n",
      "28\n",
      "24\n",
      "20\n",
      "16\n",
      "12\n",
      "8\n",
      "4\n"
     ]
    }
   ],
   "source": [
    "table(4)\n"
   ]
  },
  {
   "cell_type": "code",
   "execution_count": 18,
   "id": "9ce1549d-ce80-4890-ac5f-2bcb5c3b6221",
   "metadata": {},
   "outputs": [],
   "source": [
    "def calculater(num1,num2):\n",
    "    user=int(input(\"enter your value\"))\n",
    "    \n",
    "    print(num1-num2)\n",
    "    print(num1-num2)\n",
    "    print(num1-num2)\n",
    "    print(num1/num2)"
   ]
  },
  {
   "cell_type": "code",
   "execution_count": 6,
   "id": "a77644ae-2ebd-45a3-b63b-4ee5a3ebf52f",
   "metadata": {},
   "outputs": [],
   "source": [
    "balance=30000\n",
    "def authenticator():\n",
    "    pin=5690\n",
    "    user=int(input(\"enter your pin\"))\n",
    "    if(user==pin):\n",
    "        print(\"1.current\")\n",
    "        print(\"2.Saving\")\n",
    "        user1=int(input(\"choose option\"))\n",
    "        if(user1==1):\n",
    "            current()\n",
    "        elif(user1==2):\n",
    "            saving()\n",
    "    else:\n",
    "        print(\"envalid pin\")\n",
    "        \n",
    "def current():\n",
    "         print(\"1.cash_withdraw\")\n",
    "         print(\"2.balance_inqurie\")\n",
    "         print(\"3.Deposit\")\n",
    "         user1=int(input(\"choose option\"))\n",
    "         if(user1==1):\n",
    "             cash_withdraw()\n",
    "         elif(user1==2):\n",
    "             balance_inqurie()\n",
    "         else:\n",
    "             deposite()\n",
    "\n",
    "def saving():\n",
    "        global balance\n",
    "        print(\"your saving balance is\",balance)\n",
    "         \n",
    "             \n",
    "def cash_withdraw():\n",
    "         global balance\n",
    "         user=int(input(\"enter your amount you withdraed\"))\n",
    "         if(user<balance):\n",
    "             print(\"cash withdraw\")\n",
    "             balance=balance-user\n",
    "             print(\"remaining balance\",balance)\n",
    "         else:\n",
    "             print(\"insuficant balance\")\n",
    "             print(\"your balance is\",balance)\n",
    "             user=input(\"yes/no\")\n",
    "             if(user==\"yes\"):\n",
    "                 cash_withdraw()\n",
    "             else:\n",
    "                 exit()\n",
    "\n",
    "def deposite():\n",
    "         global balance\n",
    "         user=int(input(\"enter your amount you deposite\"))\n",
    "         if(user>0):\n",
    "             print(\"cash deposite\")\n",
    "             balance=balance+user\n",
    "             print(\"Total balance\",balance)\n",
    "\n",
    "\n",
    "def balance_inqurie():\n",
    "            global balance\n",
    "            print(\"your balance is\",balance)\n",
    "         \n"
   ]
  },
  {
   "cell_type": "code",
   "execution_count": 8,
   "id": "c0ff578a-23aa-46bf-8e3e-3839f38c578f",
   "metadata": {},
   "outputs": [
    {
     "name": "stdin",
     "output_type": "stream",
     "text": [
      "enter your pin 5690\n"
     ]
    },
    {
     "name": "stdout",
     "output_type": "stream",
     "text": [
      "1.current\n",
      "2.Saving\n"
     ]
    },
    {
     "name": "stdin",
     "output_type": "stream",
     "text": [
      "choose option 2\n"
     ]
    },
    {
     "name": "stdout",
     "output_type": "stream",
     "text": [
      "your saving balance is 34000\n"
     ]
    }
   ],
   "source": [
    "authenticator()"
   ]
  },
  {
   "cell_type": "code",
   "execution_count": 14,
   "id": "e63608d2-589c-4ea7-a215-12d0eed93d97",
   "metadata": {},
   "outputs": [],
   "source": [
    "def todo_list(para1,para2):\n",
    "    task=[\"I will learn python today\",\"I will play Cricket Today\",\"I will compelete my homework\"]\n",
    "    if para1 in task:\n",
    "        if(para2==\"delete\"):\n",
    "            task.remove(para1)\n",
    "        else:\n",
    "            print(para1)\n",
    "    else:\n",
    "        task.append(para1)\n",
    "    print(task)\n",
    "        \n",
    "    \n",
    "\n",
    "\n",
    "\n",
    "\n",
    "\n"
   ]
  },
  {
   "cell_type": "code",
   "execution_count": 19,
   "id": "bbeb3ed7-49ac-420c-8668-500766e95614",
   "metadata": {},
   "outputs": [
    {
     "name": "stdout",
     "output_type": "stream",
     "text": [
      "['I will learn python today', 'I will play Cricket Today', 'I will compelete my homework', 'I will sleep today']\n"
     ]
    }
   ],
   "source": [
    "\n",
    "todo_list(\"I will sleep today\",\"append\")\n",
    "elif(user1==\"\" and user2==\"scissor\"):\n",
    "        print(\"rock is win\")"
   ]
  },
  {
   "cell_type": "code",
   "execution_count": 55,
   "id": "3b0036d1-5f46-42a4-b605-7dda4699644a",
   "metadata": {},
   "outputs": [],
   "source": [
    "def rock_paper_scissor():\n",
    "    name1=input(\"enter user1 name\")\n",
    "    name2=input(\"enter user2 name\")\n",
    "    user1=input(\"enter your choice\")\n",
    "    user2=input(\"enter your choice\")\n",
    "    if(user1==\"rock\" and user2==\"scissor\"):\n",
    "        print(\"user1 is win\")\n",
    "    elif(user1==\"scissorr\" and user2==\"rock\"):\n",
    "        print(\"user2 is win\")\n",
    "    elif(user1==\"paper\" and user2==\"rock\"):\n",
    "        print(\"user1 is win\")\n",
    "    elif(user1==\"rock\" and user2==\"paper\"):\n",
    "        print(\"user2 is win\")\n",
    "    elif(user1==\"paper\" and user2==\"scissor\"):\n",
    "        print(\"user2 is win\")\n",
    "    elif(user1==\"scissor\" and user2==\"paper\"):\n",
    "        print(\"user1 is win\")\n",
    "    elif(user1==user2):\n",
    "        print(\"draw a match\")\n",
    "    else:\n",
    "        print(\"user2 win\")\n",
    "               \n",
    "     "
   ]
  },
  {
   "cell_type": "code",
   "execution_count": 56,
   "id": "dce9f960-679f-46e7-9d48-b3de7f3bae34",
   "metadata": {},
   "outputs": [
    {
     "name": "stdin",
     "output_type": "stream",
     "text": [
      "enter user1 name ali\n",
      "enter user2 name afham\n",
      "enter your choice paper\n",
      "enter your choice paper\n"
     ]
    },
    {
     "name": "stdout",
     "output_type": "stream",
     "text": [
      "draw a match\n"
     ]
    }
   ],
   "source": [
    "rock_paper_scissor()"
   ]
  },
  {
   "cell_type": "code",
   "execution_count": 1,
   "id": "730b7814-b3c0-4a21-9cbb-28230e6f4ea8",
   "metadata": {},
   "outputs": [],
   "source": [
    "def game():\n",
    "    count1=0\n",
    "    count2=0\n",
    "    name1=input(\"enter user1 name\")\n",
    "    name2=input(\"enter user2 name\")\n",
    "    while True:\n",
    "        if(count1==3 or count2==3):\n",
    "            break\n",
    "        user1=input(\"enter your choice\")\n",
    "        user2=input(\"enter your choice\")\n",
    "        if(user1==\"rock\" and user2==\"scissor\"):\n",
    "            count1+=1\n",
    "        elif(user1==\"scissor\" and user2==\"rock\"):\n",
    "             count2+=1\n",
    "        elif(user1==\"paper\" and user2==\"rock\"):\n",
    "             count1+=1\n",
    "        elif(user1==\"rock\" and user2==\"paper\"):\n",
    "             count2+=1\n",
    "        elif(user1==\"paper\" and user2==\"scissor\"):\n",
    "             count2+=1\n",
    "        elif(user1==\"scissor\" and user2==\"paper\"):\n",
    "             count1+=1\n",
    "        elif(user1==user2):\n",
    "            pass\n",
    "    if(count1>count2):\n",
    "        print(name1, \"is winner\",\"point is\",count1)\n",
    "        \n",
    "    else:\n",
    "        print(name2, \"is winner\",\"point is\",count2)\n",
    "        "
   ]
  },
  {
   "cell_type": "code",
   "execution_count": 2,
   "id": "7d3c557f-48bb-47e5-8569-05fdaf441cba",
   "metadata": {},
   "outputs": [
    {
     "name": "stdin",
     "output_type": "stream",
     "text": [
      "enter user1 name ahmed\n",
      "enter user2 name afham\n",
      "enter your choice rock\n",
      "enter your choice paper\n",
      "enter your choice rock\n",
      "enter your choice rock\n",
      "enter your choice paper\n",
      "enter your choice rock\n",
      "enter your choice paper\n",
      "enter your choice rock\n",
      "enter your choice paper\n",
      "enter your choice rock\n"
     ]
    },
    {
     "name": "stdout",
     "output_type": "stream",
     "text": [
      "ahmed is winner point is 3\n"
     ]
    }
   ],
   "source": [
    "game()\n"
   ]
  },
  {
   "cell_type": "code",
   "execution_count": 21,
   "id": "710b638d-0806-46f8-ab23-a35a8c3e3e67",
   "metadata": {},
   "outputs": [],
   "source": [
    "def quiz_program():\n",
    "    score=0\n",
    "    while True:\n",
    "        \n",
    "        print(\"what is the capital of pakistan\")\n",
    "        user=input(\"enter your answer\")\n",
    "        if(user==\"islamabad\"):\n",
    "            score+=1\n",
    "        else:\n",
    "            print(\"wrong answer\")\n",
    "        print(\"currency of pakistan\")\n",
    "        user=input(\"enter your answer\")\n",
    "        if(user==\"PKR\"):\n",
    "            score+=1\n",
    "        else:\n",
    "            print(\"wrong answer\")\n",
    "        print(\"national game of pakistan\")\n",
    "        user=input(\"enter your answer\")\n",
    "        if(user==\"hockey\"):\n",
    "            score+=1\n",
    "        else:\n",
    "            print(\"wrong answer\")\n",
    "        if(score==3):\n",
    "            print(\"you win your score is\",score,)\n",
    "            break\n",
    "        else:\n",
    "            print(\"your score is\",score,)\n",
    "            break\n",
    "        "
   ]
  },
  {
   "cell_type": "code",
   "execution_count": 22,
   "id": "0e06468b-15fd-41a1-b872-8d7e51b75d6a",
   "metadata": {},
   "outputs": [
    {
     "name": "stdout",
     "output_type": "stream",
     "text": [
      "what is the capital of pakistan\n"
     ]
    },
    {
     "name": "stdin",
     "output_type": "stream",
     "text": [
      "enter your answer islam\n"
     ]
    },
    {
     "name": "stdout",
     "output_type": "stream",
     "text": [
      "wrong answer\n",
      "currency of pakistan\n"
     ]
    },
    {
     "name": "stdin",
     "output_type": "stream",
     "text": [
      "enter your answer pkr\n"
     ]
    },
    {
     "name": "stdout",
     "output_type": "stream",
     "text": [
      "wrong answer\n",
      "national game of pakistan\n"
     ]
    },
    {
     "name": "stdin",
     "output_type": "stream",
     "text": [
      "enter your answer hockey\n"
     ]
    },
    {
     "name": "stdout",
     "output_type": "stream",
     "text": [
      "your score is 1\n"
     ]
    }
   ],
   "source": [
    "quiz_program()"
   ]
  },
  {
   "cell_type": "code",
   "execution_count": 37,
   "id": "83427376-3980-4586-b312-82658a270886",
   "metadata": {},
   "outputs": [
    {
     "ename": "SyntaxError",
     "evalue": "invalid syntax. Perhaps you forgot a comma? (2802443341.py, line 5)",
     "output_type": "error",
     "traceback": [
      "  \u001b[36mCell\u001b[39m\u001b[36m \u001b[39m\u001b[32mIn[37]\u001b[39m\u001b[32m, line 5\u001b[39m\n\u001b[31m    \u001b[39m\u001b[31mprint(\"math\"marks)\u001b[39m\n          ^\n\u001b[31mSyntaxError\u001b[39m\u001b[31m:\u001b[39m invalid syntax. Perhaps you forgot a comma?\n"
     ]
    }
   ],
   "source": [
    "def student_grade():\n",
    "    a=[]\n",
    "    subject=[\"physics\",\"chemistry\",\"english\"]\n",
    "    studentname=input(\"enter your nmae\")\n",
    "    for marks in range(1,4):\n",
    "        marks=int(input(f\"enter your grade\"))\n",
    "        a.append\n",
    "        "
   ]
  },
  {
   "cell_type": "code",
   "execution_count": 35,
   "id": "6f973a2f-eb2b-4719-b50a-0502a29af6c8",
   "metadata": {},
   "outputs": [
    {
     "name": "stdin",
     "output_type": "stream",
     "text": [
      "enter your nmae affu\n",
      "enter your grade 55\n"
     ]
    },
    {
     "name": "stdout",
     "output_type": "stream",
     "text": [
      "55\n",
      "your grade is\n"
     ]
    },
    {
     "name": "stdin",
     "output_type": "stream",
     "text": [
      "enter your grade 66\n"
     ]
    },
    {
     "name": "stdout",
     "output_type": "stream",
     "text": [
      "66\n",
      "your grade is\n"
     ]
    },
    {
     "name": "stdin",
     "output_type": "stream",
     "text": [
      "enter your grade 66\n"
     ]
    },
    {
     "name": "stdout",
     "output_type": "stream",
     "text": [
      "66\n",
      "your grade is\n"
     ]
    }
   ],
   "source": [
    "student_grade()"
   ]
  },
  {
   "cell_type": "code",
   "execution_count": null,
   "id": "70dfe013-ff6c-4f60-b36a-4b481f77e490",
   "metadata": {},
   "outputs": [],
   "source": [
    "def inventry_management():\n",
    "    summary={\n",
    "        tablate=[]\n",
    "        laptop=[]\n",
    "        mobile=[]\n",
    "    }\n",
    "for x in range(1,4):\n",
    "    user=input(f\"enter your \")"
   ]
  },
  {
   "cell_type": "code",
   "execution_count": null,
   "id": "52714713-0302-436e-bd81-9f3f954f775b",
   "metadata": {},
   "outputs": [],
   "source": []
  }
 ],
 "metadata": {
  "kernelspec": {
   "display_name": "Python 3 (ipykernel)",
   "language": "python",
   "name": "python3"
  },
  "language_info": {
   "codemirror_mode": {
    "name": "ipython",
    "version": 3
   },
   "file_extension": ".py",
   "mimetype": "text/x-python",
   "name": "python",
   "nbconvert_exporter": "python",
   "pygments_lexer": "ipython3",
   "version": "3.13.3"
  }
 },
 "nbformat": 4,
 "nbformat_minor": 5
}
