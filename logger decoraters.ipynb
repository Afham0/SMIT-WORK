{
 "cells": [
  {
   "cell_type": "code",
   "execution_count": 3,
   "id": "cf24a822-49d2-48af-9dfb-89015476cc20",
   "metadata": {},
   "outputs": [],
   "source": [
    "from datetime import datetime as dt\n",
    "def logger (func):\n",
    "    def wrapper (*args,**kwargs):\n",
    "        with open (\"logger.txt\",\"a\") as file:\n",
    "        run_log=(f\"{dt.now()} running '{func.__name__}'...... \")\n",
    "        result = func(*args,**kwargs)\n",
    "        finsh_log=(f\"{dt.now()} Finished '{func.__name__}'......\")\n",
    "        return result\n",
    "    return wrapper\n",
    "def add(a,b):\n",
    "    print( a+b)"
   ]
  },
  {
   "cell_type": "code",
   "execution_count": 3,
   "id": "eb9754ed-35e3-4b3c-8562-a8f635874b25",
   "metadata": {},
   "outputs": [
    {
     "name": "stdout",
     "output_type": "stream",
     "text": [
      "Function: add is called: 1 \n",
      "5\n",
      "Function: sub is called: 1 \n"
     ]
    },
    {
     "data": {
      "text/plain": [
       "5"
      ]
     },
     "execution_count": 3,
     "metadata": {},
     "output_type": "execute_result"
    }
   ],
   "source": [
    "from datetime import datetime as dt\n",
    "import  functools\n",
    "today = dt.now()\n",
    "\n",
    "\n",
    "\n",
    "class callcount:\n",
    "    def __init__(self, func):\n",
    "        functools.update_wrapper(self,func)\n",
    "        self.func = func\n",
    "        self.count = 0\n",
    "    def __call__(self, *args, **kwargs):\n",
    "        self.count +=1\n",
    "        print(f\"Function: {self.func.__name__} is called: {self.count} \")\n",
    "        return self.func(*args,**kwargs)\n",
    "    # def __str__(self):\n",
    "    #     return f\"Result is: {self.func}\"\n",
    "\n",
    "\n",
    "def logger(func):\n",
    "    def wrapper(*args,**kwargs):\n",
    "        with open(\"log.txt\", 'a') as log_file:\n",
    "            running_log = f\"{dt.now()} Running '{func.__name__}'.....\\n\"\n",
    "            log_file.write(running_log)\n",
    "            result = func(*args,**kwargs)\n",
    "            finished_log = f\"{dt.now()} Finished '{func.__name__}'.....\\n\"\n",
    "            log_file.write(finished_log)\n",
    "        return result\n",
    "    return wrapper\n",
    "\n",
    "\n",
    "\n",
    "def repeat(n):\n",
    "    def decorator(func):\n",
    "        def wrapper(*args, **kwargs):\n",
    "            for i in range(n):\n",
    "                result = func(*args,*kwargs)\n",
    "                if result == 5:\n",
    "                    return result\n",
    "                    break\n",
    "\n",
    "            else:\n",
    "                with open(\"log.txt\", 'a') as log_file:\n",
    "                    log_file.write(f\"{func.__name__} is called 3 times and the function is now blocked....\")\n",
    "        return wrapper\n",
    "    return decorator\n",
    "\n",
    "\n",
    "@repeat(2)\n",
    "@logger\n",
    "@callcount\n",
    "def add(a, b):\n",
    "    # input()\n",
    "    return a+b\n",
    "\n",
    "@logger\n",
    "@repeat(1)\n",
    "@callcount\n",
    "def sub(a,b):\n",
    "    return a-b\n",
    "\n",
    "print(add(1,4))\n",
    "sub(6,1)"
   ]
  },
  {
   "cell_type": "code",
   "execution_count": null,
   "id": "ead57dee-4b3b-4c63-8130-de9479d663f3",
   "metadata": {},
   "outputs": [],
   "source": []
  }
 ],
 "metadata": {
  "kernelspec": {
   "display_name": "Python 3 (ipykernel)",
   "language": "python",
   "name": "python3"
  },
  "language_info": {
   "codemirror_mode": {
    "name": "ipython",
    "version": 3
   },
   "file_extension": ".py",
   "mimetype": "text/x-python",
   "name": "python",
   "nbconvert_exporter": "python",
   "pygments_lexer": "ipython3",
   "version": "3.13.3"
  }
 },
 "nbformat": 4,
 "nbformat_minor": 5
}
