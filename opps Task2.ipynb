{
 "cells": [
  {
   "cell_type": "code",
   "execution_count": 13,
   "id": "cecdb69c-c70a-4e76-885d-ee8d2f8cd2f1",
   "metadata": {},
   "outputs": [],
   "source": [
    "##Create a Book class with title, author, and pages.\n",
    "#Implement:\n",
    "#_str_() → returns \"Title by Author\".\n",
    "#_repr_() → returns a dev-friendly string with all details.\n",
    "  # Task 1  \n",
    "class book:\n",
    "    def __init__(self,title,auther,pages):\n",
    "        self.title=title\n",
    "        self.auther=auther\n",
    "        self.pages=pages\n",
    "    def __str__(self):\n",
    "        return f\" title: {self.title}\"\n",
    "    def __repr__(self):\n",
    "        return f\"Tittle: {self.title}| Auther: {self.auther}| Pages: {self.pages}\"\n",
    "o1=book(\"Never up\",\"Shaikh\",120)"
   ]
  },
  {
   "cell_type": "code",
   "execution_count": 14,
   "id": "b43b8a28-0eb8-453f-9425-5335a38d4790",
   "metadata": {},
   "outputs": [
    {
     "name": "stdout",
     "output_type": "stream",
     "text": [
      " title: Never up\n",
      "Tittle: Never up| Auther: Shaikh| Pages: 120\n"
     ]
    }
   ],
   "source": [
    "print(str(o1))\n",
    "print(repr(o1))"
   ]
  },
  {
   "cell_type": "code",
   "execution_count": 11,
   "id": "a2ee1a03-8dbd-4017-9b97-cc9487a17517",
   "metadata": {},
   "outputs": [],
   "source": [
    "#2. Custom Addition\n",
    "#Create a Vector class with x and y coordinates.\n",
    "#Implement _add_() so two vectors can be added using +.\n",
    "#Length Override\n",
    "class vector:\n",
    "    def __init__(self,x,y):\n",
    "        self.xcoordinate= x\n",
    "        self.ycoordinate= y\n",
    "    def __add__(self,other):\n",
    "        self.ycoordinate += other\n",
    "        return f\"length is override {self.ycoordinate}\"\n",
    "o1=vector(2,1)       "
   ]
  },
  {
   "cell_type": "code",
   "execution_count": 12,
   "id": "55d6220b-b818-41af-b61a-da355b26ab8f",
   "metadata": {},
   "outputs": [
    {
     "name": "stdout",
     "output_type": "stream",
     "text": [
      "length is override 11\n"
     ]
    }
   ],
   "source": [
    "print(o1+10)"
   ]
  },
  {
   "cell_type": "code",
   "execution_count": 23,
   "id": "51d14ea9-c5f3-493c-b30b-fbf7c7bd555c",
   "metadata": {},
   "outputs": [],
   "source": [
    "# create a playlist class with a list of songs.\n",
    "#implement _len_() so\n",
    "#len(playlist) return number of songs\n",
    "class palylist:\n",
    "    a=['song1','song2','song3','song4','song5']\n",
    "    def __len__(self):\n",
    "        return len(self.a)"
   ]
  },
  {
   "cell_type": "code",
   "execution_count": 24,
   "id": "3439761f-b6f9-446d-a5a3-39024dcd8f86",
   "metadata": {},
   "outputs": [
    {
     "data": {
      "text/plain": [
       "5"
      ]
     },
     "execution_count": 24,
     "metadata": {},
     "output_type": "execute_result"
    }
   ],
   "source": [
    "p1=palylist()\n",
    "len(p1)"
   ]
  },
  {
   "cell_type": "code",
   "execution_count": 2,
   "id": "9a691445-c6ef-4e11-aca1-7d6c7cd60890",
   "metadata": {},
   "outputs": [],
   "source": [
    "#4. Comparison Operators\n",
    "#Create a Student class with name and marks.\n",
    "#Implement _gt() and __lt_() to compare based on marks.\n",
    "#Index Access\n",
    "class student:\n",
    "    def __init__(self,name,mask):\n",
    "        self.name=name\n",
    "        self.mask=mask\n",
    "    def __gt__(self,other):\n",
    "        return self.mask > other\n",
    "    def __lt__(self,other):\n",
    "        return self.mask < other\n",
    "\n",
    "o1=student(\"ali\",78)\n",
    "o2=student(\"afham\",82)"
   ]
  },
  {
   "cell_type": "code",
   "execution_count": 7,
   "id": "277fea40-f40d-4a2d-8e6c-29e00864033e",
   "metadata": {},
   "outputs": [
    {
     "name": "stdout",
     "output_type": "stream",
     "text": [
      "False\n",
      "True\n",
      "ali\n"
     ]
    },
    {
     "data": {
      "text/plain": [
       "78"
      ]
     },
     "execution_count": 7,
     "metadata": {},
     "output_type": "execute_result"
    }
   ],
   "source": [
    "print(o1>o2)\n",
    "print(o1<o2)\n",
    "print(o1.name)\n",
    "o1.mask\n"
   ]
  },
  {
   "cell_type": "code",
   "execution_count": 2,
   "id": "6510645c-7034-44ea-9d15-909ff15510da",
   "metadata": {},
   "outputs": [],
   "source": [
    "#5. Create a Team class that stores player names.\n",
    "#Implement _getitem() and __setitem_() to get/set players like a list."
   ]
  },
  {
   "cell_type": "code",
   "execution_count": 29,
   "id": "e536e811-5c25-4cdf-bb3f-48721f123a4c",
   "metadata": {},
   "outputs": [],
   "source": [
    "class team:\n",
    "    def __init__(self,players):\n",
    "        self.player=players\n",
    "    def __getitem__(self,index):\n",
    "        return self.player[index]\n",
    "    def __setitem_(self,index,value):\n",
    "        self.player[index] = value"
   ]
  },
  {
   "cell_type": "code",
   "execution_count": 30,
   "id": "7e00ec1f-9c60-49bc-9b07-a12d84cb06e4",
   "metadata": {},
   "outputs": [],
   "source": [
    "o1=team([\"ali\",\"ahmed\",\"afham\",\"shah\",\"khan\"])"
   ]
  },
  {
   "cell_type": "code",
   "execution_count": 31,
   "id": "f0409162-94cd-4df0-bf75-84312f4cd864",
   "metadata": {},
   "outputs": [
    {
     "data": {
      "text/plain": [
       "'afham'"
      ]
     },
     "execution_count": 31,
     "metadata": {},
     "output_type": "execute_result"
    }
   ],
   "source": [
    "o1[2]"
   ]
  },
  {
   "cell_type": "code",
   "execution_count": 38,
   "id": "4cf5383e-ae43-43ac-91ac-ca61ebf5ad18",
   "metadata": {},
   "outputs": [
    {
     "data": {
      "text/plain": [
       "False"
      ]
     },
     "execution_count": 38,
     "metadata": {},
     "output_type": "execute_result"
    }
   ],
   "source": [
    "o1[1] = \"shaikh\""
   ]
  },
  {
   "cell_type": "code",
   "execution_count": null,
   "id": "c6c5b5e3-1c22-4e16-a9d4-b4e543838f02",
   "metadata": {},
   "outputs": [],
   "source": []
  }
 ],
 "metadata": {
  "kernelspec": {
   "display_name": "Python 3 (ipykernel)",
   "language": "python",
   "name": "python3"
  },
  "language_info": {
   "codemirror_mode": {
    "name": "ipython",
    "version": 3
   },
   "file_extension": ".py",
   "mimetype": "text/x-python",
   "name": "python",
   "nbconvert_exporter": "python",
   "pygments_lexer": "ipython3",
   "version": "3.13.3"
  }
 },
 "nbformat": 4,
 "nbformat_minor": 5
}
