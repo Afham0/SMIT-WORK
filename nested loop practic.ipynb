{
 "cells": [
  {
   "cell_type": "code",
   "execution_count": 2,
   "id": "d486b6b5-4667-4b2a-8175-ca6cd5812b96",
   "metadata": {},
   "outputs": [
    {
     "ename": "IndentationError",
     "evalue": "unexpected indent (915055075.py, line 5)",
     "output_type": "error",
     "traceback": [
      "  \u001b[36mCell\u001b[39m\u001b[36m \u001b[39m\u001b[32mIn[2]\u001b[39m\u001b[32m, line 5\u001b[39m\n\u001b[31m    \u001b[39m\u001b[31mif(user==toyota):\u001b[39m\n    ^\n\u001b[31mIndentationError\u001b[39m\u001b[31m:\u001b[39m unexpected indent\n"
     ]
    }
   ],
   "source": [
    "\n",
    "toyota=[[\"corolla\",2010,\"XLI\",1400000],[\"corolla\",2015,\"XLI\",1800000],[\"corolla\",2020,\"XLI\",2000000]]\n",
    "honda=[[\"civic\",2010,\"rebbon\",1400000],[\"civic\",2018,\"rebbon\",2000000],[\"civic\",2023,\"RS Turbo\",6500000]]\n",
    "suzuki=[[\"alto\",2022,\"VXR\",2600000],[\"swift\",2015,\"VXR\",3500000],[\"fortuner\",2024,\"turbo\",15000000]]\n",
    "user=(input(\"enter the company name\"))\n",
    "    if(user==toyota):\n",
    "        print(toyota)"
   ]
  },
  {
   "cell_type": "code",
   "execution_count": 1,
   "id": "81e11908-b294-4836-9a37-58e0e28f5ffc",
   "metadata": {},
   "outputs": [
    {
     "name": "stdout",
     "output_type": "stream",
     "text": [
      "^ ^ ^ ^ ^ ^ ^ ^ ^ ^ \n",
      "^ ^ ^ ^ ^ ^ ^ ^ ^ \n",
      "^ ^ ^ ^ ^ ^ ^ ^ \n",
      "^ ^ ^ ^ ^ ^ ^ \n",
      "^ ^ ^ ^ ^ ^ \n",
      "^ ^ ^ ^ ^ \n",
      "^ ^ ^ ^ \n",
      "^ ^ ^ \n",
      "^ ^ \n",
      "^ \n"
     ]
    }
   ],
   "source": [
    "for x in range(10,0,-1):\n",
    "    for y in range(x):\n",
    "        \n",
    "        print(\"^\" ,end=\" \")\n",
    "    print()"
   ]
  },
  {
   "cell_type": "code",
   "execution_count": 2,
   "id": "e16707bf-5b1a-4f45-950a-e7be7620db24",
   "metadata": {},
   "outputs": [
    {
     "name": "stdout",
     "output_type": "stream",
     "text": [
      "^ \n",
      "^ ^ \n",
      "^ ^ ^ \n",
      "^ ^ ^ ^ \n",
      "^ ^ ^ ^ ^ \n",
      "^ ^ ^ ^ ^ ^ \n",
      "^ ^ ^ ^ ^ ^ ^ \n",
      "^ ^ ^ ^ ^ ^ ^ ^ \n",
      "^ ^ ^ ^ ^ ^ ^ ^ ^ \n"
     ]
    }
   ],
   "source": [
    "for x in range(1,10,):\n",
    "    for y in range(x):\n",
    "        print(\"^\" ,end=\" \")\n",
    "    print()"
   ]
  },
  {
   "cell_type": "code",
   "execution_count": 19,
   "id": "8c584838-4384-4727-a4ea-8db603a5cd9a",
   "metadata": {},
   "outputs": [
    {
     "name": "stdout",
     "output_type": "stream",
     "text": [
      "toyota\n",
      "suzuki\n"
     ]
    }
   ],
   "source": [
    "cardata={\n",
    "    \"toyota\":{\"c1\":{\"name\":\"corolla\",\"year\":2010,\"model\":\"XLI\",\"price\":1400000},\n",
    "             \"c2\":{\"name\":\"corolla\",\"year\":2014,\"model\":\"GLI\",\"price\":1700000},\n",
    "              \"c3\":{\"name\":\"corolla\",\"year\":2018,\"model\":\"XLI\",\"price\":2000000}},\n",
    "    \"suzuki\":{\"c1\":{\"name\":\"alto\",\"year\":2022,\"model\":\"VXR\",\"price\":2600000},\n",
    "              \"c2\":{\"name\":\"swift\",\"year\":2015,\"model\":\"VXR\",\"price\":3500000},\n",
    "              \"c3\":{\"name\":\"fortuner\",\"year\":2024,\"model\":\"turbo\",\"price\":15000000}}\n",
    "}\n",
    "for company in (cardata.keys()):\n",
    "    print(company)\n"
   ]
  },
  {
   "cell_type": "code",
   "execution_count": null,
   "id": "93991128-948c-4b9f-a000-c604fc1ba5a2",
   "metadata": {},
   "outputs": [],
   "source": []
  },
  {
   "cell_type": "code",
   "execution_count": null,
   "id": "bab2ca17-f091-4ade-a0df-b63d2dfd1184",
   "metadata": {},
   "outputs": [],
   "source": []
  },
  {
   "cell_type": "code",
   "execution_count": null,
   "id": "c3084e26-4d5e-4c7f-b70c-44674b74ae43",
   "metadata": {},
   "outputs": [],
   "source": []
  }
 ],
 "metadata": {
  "kernelspec": {
   "display_name": "Python 3 (ipykernel)",
   "language": "python",
   "name": "python3"
  },
  "language_info": {
   "codemirror_mode": {
    "name": "ipython",
    "version": 3
   },
   "file_extension": ".py",
   "mimetype": "text/x-python",
   "name": "python",
   "nbconvert_exporter": "python",
   "pygments_lexer": "ipython3",
   "version": "3.13.3"
  }
 },
 "nbformat": 4,
 "nbformat_minor": 5
}
