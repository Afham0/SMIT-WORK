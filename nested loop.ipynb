{
 "cells": [
  {
   "cell_type": "raw",
   "id": "36545791-56a6-482e-a57a-e971b6f431e1",
   "metadata": {},
   "source": [
    "for x in range(1,6,):\n",
    "    for x in range(x):\n",
    "        print(\"*\" ,end=\" \")\n",
    "    print() "
   ]
  },
  {
   "cell_type": "code",
   "execution_count": 14,
   "id": "1e8d708f-1671-4724-a340-4d3fdcc67976",
   "metadata": {},
   "outputs": [
    {
     "name": "stdout",
     "output_type": "stream",
     "text": [
      "* * * * * * \n",
      "* * * * * \n",
      "* * * * \n",
      "* * * \n",
      "* * \n",
      "* \n"
     ]
    }
   ],
   "source": [
    "for x in range(6,0,-1):\n",
    "    for x in range(x):\n",
    "        print(\"*\" ,end=\" \")\n",
    "    print() "
   ]
  },
  {
   "cell_type": "code",
   "execution_count": 1,
   "id": "4a8f3f50-7514-406e-a4a8-c2978a185ba0",
   "metadata": {},
   "outputs": [
    {
     "name": "stdout",
     "output_type": "stream",
     "text": [
      "* \n",
      "* * \n",
      "* * * \n",
      "* * * * \n",
      "* * * * * \n",
      "* \n",
      "* * \n",
      "* * * \n",
      "* * * * \n",
      "* * * * * \n"
     ]
    }
   ],
   "source": [
    "for x in range(1,6,):\n",
    "    for x in range(x):\n",
    "        print(\"*\" ,end=\" \")\n",
    "    print() \n",
    "for x in range(1,6,):\n",
    "    for x in range(x):\n",
    "        print(\"*\" ,end=\" \")\n",
    "    print() "
   ]
  },
  {
   "cell_type": "code",
   "execution_count": 17,
   "id": "18010266-75a9-4360-b5f6-a9b2c7d68a86",
   "metadata": {},
   "outputs": [
    {
     "name": "stdout",
     "output_type": "stream",
     "text": [
      "* \n",
      "* * \n",
      "* * * \n",
      "* * * * \n",
      "* * * * * \n",
      "* * * * * * \n",
      "* * * * * \n",
      "* * * * \n",
      "* * * \n",
      "* * \n",
      "* \n"
     ]
    }
   ],
   "source": [
    "for x in range(1,6,):\n",
    "    for x in range(x):\n",
    "        print(\"*\" ,end=\" \")\n",
    "    print() \n",
    "for x in range(6,0,-1):\n",
    "    for x in range(x):\n",
    "        print(\"*\" ,end=\" \")\n",
    "    print()     "
   ]
  },
  {
   "cell_type": "code",
   "execution_count": 18,
   "id": "2e84fc02-1aa1-4814-bcc1-c03c82874501",
   "metadata": {},
   "outputs": [
    {
     "name": "stdout",
     "output_type": "stream",
     "text": [
      "* * * * * * \n",
      "* * * * * \n",
      "* * * * \n",
      "* * * \n",
      "* * \n",
      "* \n",
      "* \n",
      "* * \n",
      "* * * \n",
      "* * * * \n",
      "* * * * * \n"
     ]
    }
   ],
   "source": [
    "for x in range(6,0,-1):\n",
    "    for x in range(x):\n",
    "        print(\"*\" ,end=\" \")\n",
    "    print() \n",
    "for x in range(1,6,):\n",
    "    for x in range(x):\n",
    "        print(\"*\" ,end=\" \")\n",
    "    print()     "
   ]
  },
  {
   "cell_type": "code",
   "execution_count": 27,
   "id": "06c5326a-df75-4ab6-a0f1-ac742fa76d16",
   "metadata": {},
   "outputs": [
    {
     "name": "stdout",
     "output_type": "stream",
     "text": [
      "1 66 77 4 78 56 16 0 88 "
     ]
    }
   ],
   "source": [
    "a=[[1,66,77],[4,78,56],[16,00,88]]\n",
    "for x in range (len(a)):\n",
    "    for y in range(len (a[x])):\n",
    "     print(a[x][y],end=\" \")        "
   ]
  },
  {
   "cell_type": "code",
   "execution_count": 10,
   "id": "b8b034c9-d106-4add-ae6a-32b107c5d2a4",
   "metadata": {},
   "outputs": [
    {
     "name": "stdout",
     "output_type": "stream",
     "text": [
      "1\n",
      "66\n",
      "77\n",
      "4\n",
      "78\n",
      "56\n",
      "16\n",
      "0\n",
      "88\n",
      "10\n",
      "660\n",
      "777\n",
      "489\n",
      "7899\n",
      "506\n",
      "176\n",
      "100\n",
      "9988\n"
     ]
    }
   ],
   "source": [
    "a=[[[1,66,77],[4,78,56],[16,00,88]],[[10,660,777],[489,7899,506],[176,100,9988]]]\n",
    "for x in range (len(a)):\n",
    "    for y in range(len (a[x])):\n",
    "        for z in range(len(a[x][y])):\n",
    "           print(a[x][y][z]) "
   ]
  },
  {
   "cell_type": "code",
   "execution_count": 12,
   "id": "8df37566-7b77-4dcf-a406-5410c25a5cfd",
   "metadata": {},
   "outputs": [
    {
     "name": "stdin",
     "output_type": "stream",
     "text": [
      "your number 45\n"
     ]
    },
    {
     "name": "stdout",
     "output_type": "stream",
     "text": [
      "try again\n"
     ]
    },
    {
     "name": "stdin",
     "output_type": "stream",
     "text": [
      "your number 19\n"
     ]
    },
    {
     "name": "stdout",
     "output_type": "stream",
     "text": [
      "you won\n"
     ]
    }
   ],
   "source": [
    "number=19\n",
    "count=0\n",
    "while True:\n",
    "    guess=int(input(\"your number\"))\n",
    "    if(guess==number):\n",
    "        print('you won')\n",
    "        break\n",
    "    else:\n",
    "        count+=1\n",
    "        if (count==3):\n",
    "            \n",
    "            print('you lost' )\n",
    "            print(\"accual value is\",number)\n",
    "            break\n",
    "        else:\n",
    "            print('try again')"
   ]
  },
  {
   "cell_type": "code",
   "execution_count": 3,
   "id": "fe5e7fcb-999e-4626-a919-41b47507857a",
   "metadata": {},
   "outputs": [
    {
     "name": "stdout",
     "output_type": "stream",
     "text": [
      "//////////login///////////\n"
     ]
    },
    {
     "name": "stdin",
     "output_type": "stream",
     "text": [
      "enter your email a\n"
     ]
    },
    {
     "name": "stdout",
     "output_type": "stream",
     "text": [
      "email verify\n"
     ]
    },
    {
     "name": "stdin",
     "output_type": "stream",
     "text": [
      "enter your password 5690\n"
     ]
    },
    {
     "name": "stdout",
     "output_type": "stream",
     "text": [
      "login sucssesfull\n"
     ]
    }
   ],
   "source": [
    "print(\"//////////login///////////\")\n",
    "a=\"a\"\n",
    "b=5690\n",
    "count=0\n",
    "email=input(\"enter your email\")\n",
    "if(email==a):\n",
    "    print(\"email verify\")\n",
    "    while True:\n",
    "        password=int(input(\"enter your password\"))\n",
    "        if(password==b):\n",
    "            print(\"login sucssesfull\")\n",
    "            break\n",
    "        else:\n",
    "            print(\"wrong password\")\n",
    "            count+=1\n",
    "            if (count==3):\n",
    "            \n",
    "                print('try next time')\n",
    "                break\n",
    "else:\n",
    "    print(\"Invalid email\")"
   ]
  },
  {
   "cell_type": "code",
   "execution_count": 2,
   "id": "b393d0ed-f17e-4659-a3a1-dda7e9ff54e1",
   "metadata": {},
   "outputs": [
    {
     "name": "stdout",
     "output_type": "stream",
     "text": [
      "0\n",
      "1\n",
      "2\n",
      "3\n",
      "4\n",
      "5\n",
      "6\n",
      "7\n",
      "8\n",
      "9\n"
     ]
    }
   ],
   "source": [
    "i=0\n",
    "while (i<10):\n",
    "    print(i)\n",
    "    i+=1"
   ]
  },
  {
   "cell_type": "code",
   "execution_count": null,
   "id": "d128f09d-7d32-44da-bf02-ddb1920f922d",
   "metadata": {},
   "outputs": [
    {
     "name": "stdin",
     "output_type": "stream",
     "text": [
      "enter value 3\n"
     ]
    },
    {
     "name": "stdout",
     "output_type": "stream",
     "text": [
      "odd number\n"
     ]
    },
    {
     "name": "stdin",
     "output_type": "stream",
     "text": [
      "enter q for exist yhttrntjnhtyjuy\n"
     ]
    }
   ],
   "source": [
    "while True:\n",
    "    \n",
    "    user=int(input (\"enter value\"))\n",
    "    if(user%2==0):\n",
    "        print(\"even number\")\n",
    "    else:\n",
    "        print(\"odd number\")\n",
    "    exist=False\n",
    "    while True:\n",
    "        userin=input(\"enter q for exist\")\n",
    "        if(userin==\"q\"):\n",
    "            break\n",
    "        elif(userin==\"n\"):\n",
    "            continue\n",
    "        else:\n",
    "            print(\"invailed\")\n",
    "        \n",
    "    \n",
    "    "
   ]
  },
  {
   "cell_type": "code",
   "execution_count": null,
   "id": "dbe5a05c-2eeb-4b4a-ad78-8dfa7aeaeaf8",
   "metadata": {},
   "outputs": [],
   "source": []
  }
 ],
 "metadata": {
  "kernelspec": {
   "display_name": "Python 3 (ipykernel)",
   "language": "python",
   "name": "python3"
  },
  "language_info": {
   "codemirror_mode": {
    "name": "ipython",
    "version": 3
   },
   "file_extension": ".py",
   "mimetype": "text/x-python",
   "name": "python",
   "nbconvert_exporter": "python",
   "pygments_lexer": "ipython3",
   "version": "3.13.3"
  }
 },
 "nbformat": 4,
 "nbformat_minor": 5
}
