{
 "cells": [
  {
   "cell_type": "code",
   "execution_count": 37,
   "id": "f6cf393f-d5bd-4e86-8616-c9df7a985e2a",
   "metadata": {},
   "outputs": [
    {
     "name": "stdout",
     "output_type": "stream",
     "text": [
      "data not existed\n"
     ]
    }
   ],
   "source": [
    "with  open (\"myname.txt\",\"r\") as file:\n",
    "    content=file.read()\n",
    "    print(content)"
   ]
  },
  {
   "cell_type": "code",
   "execution_count": 12,
   "id": "53f599b0-6de3-4d28-99d3-fdd255f6791b",
   "metadata": {},
   "outputs": [],
   "source": [
    "with open (\"myname.txt\",\"a\") as file:\n",
    "    file.write(\"\\n my age is 18 years\")\n",
    "    "
   ]
  },
  {
   "cell_type": "code",
   "execution_count": 18,
   "id": "7f598004-e740-4eaa-abda-7a52cce8fa20",
   "metadata": {},
   "outputs": [
    {
     "name": "stdout",
     "output_type": "stream",
     "text": [
      "this is my data\n"
     ]
    }
   ],
   "source": [
    "with  open (\"myname.txt\",\"r\") as file:\n",
    "    content=file.read()\n",
    "    print(content)"
   ]
  },
  {
   "cell_type": "code",
   "execution_count": 14,
   "id": "3fc6af24-c549-453a-b5c5-fe7245c82504",
   "metadata": {},
   "outputs": [
    {
     "name": "stdout",
     "output_type": "stream",
     "text": [
      "my name is Afham Shaikh.\n",
      "my age is 18 years\n",
      "my age is 18 years\n"
     ]
    }
   ],
   "source": [
    "with  open (\"myname.txt\",\"r\") as file:\n",
    "    for line in file:\n",
    "        print(line.strip())\n",
    "    "
   ]
  },
  {
   "cell_type": "code",
   "execution_count": 38,
   "id": "acfce3f9-becd-45d5-b86f-330fe479982e",
   "metadata": {},
   "outputs": [
    {
     "name": "stdout",
     "output_type": "stream",
     "text": [
      "1\n"
     ]
    }
   ],
   "source": [
    "with  open (\"myname.txt\",\"r\") as file:\n",
    "    for line in file:\n",
    "        print(line.count(line))"
   ]
  },
  {
   "cell_type": "code",
   "execution_count": 17,
   "id": "11149870-dba2-4138-a672-156845484b9d",
   "metadata": {},
   "outputs": [],
   "source": [
    "with open(\"myname.txt\",\"w\")as file:\n",
    "    file.write(\"this is my data\")"
   ]
  },
  {
   "cell_type": "code",
   "execution_count": 21,
   "id": "81e663a9-87f7-41f2-925c-57c237ca811c",
   "metadata": {},
   "outputs": [
    {
     "name": "stdout",
     "output_type": "stream",
     "text": [
      "this is my data\n",
      "2025-07-08 07:16:42.495785\n"
     ]
    }
   ],
   "source": [
    "with  open (\"myname.txt\",\"r\") as file:\n",
    "    content=file.read()\n",
    "    print(content)\n",
    "import datetime\n",
    "a=datetime.datetime.now()\n",
    "print(a)"
   ]
  },
  {
   "cell_type": "code",
   "execution_count": 20,
   "id": "d6bfc1af-7d5f-4f6a-937a-0f177719bfe8",
   "metadata": {},
   "outputs": [
    {
     "name": "stdout",
     "output_type": "stream",
     "text": [
      "2025-07-08 07:16:27.808227\n"
     ]
    }
   ],
   "source": [
    "import datetime\n",
    "a=datetime.datetime.now()\n",
    "print(a)"
   ]
  },
  {
   "cell_type": "code",
   "execution_count": 26,
   "id": "f4d712bd-1bea-4828-8567-2b753e3f49bc",
   "metadata": {},
   "outputs": [
    {
     "name": "stdout",
     "output_type": "stream",
     "text": [
      "file found\n"
     ]
    }
   ],
   "source": [
    "import os\n",
    "if os.path.exists(\"myname.txt\"):\n",
    "    print(\"file found\")\n",
    "else:\n",
    "    print(\"not found\")"
   ]
  },
  {
   "cell_type": "code",
   "execution_count": 34,
   "id": "62f63ac7-143f-418c-858f-a6d46dcf4feb",
   "metadata": {},
   "outputs": [
    {
     "name": "stdout",
     "output_type": "stream",
     "text": [
      "file deleted\n"
     ]
    }
   ],
   "source": [
    "if os.path.exists(\"myname.txt\"):\n",
    "    os.remove(\"myname.txt\")\n",
    "    print(\"file deleted\")\n",
    "else:\n",
    "    print(\"not deletad\")\n"
   ]
  },
  {
   "cell_type": "code",
   "execution_count": 36,
   "id": "cd5b6778-6676-40ec-96c5-16f23e77be24",
   "metadata": {},
   "outputs": [],
   "source": [
    "with  open (\"myname.txt\",\"a\") as file:\n",
    "    file.write(\"data not existed\")"
   ]
  },
  {
   "cell_type": "code",
   "execution_count": 1,
   "id": "5dd22e07-320b-4044-8aa3-41126c057523",
   "metadata": {},
   "outputs": [],
   "source": [
    "with open (\"myname.txt\",\"a\") as file:\n",
    "    file.write(\"my name is afham shaikh my age is 18 \")\n",
    "    "
   ]
  },
  {
   "cell_type": "code",
   "execution_count": 2,
   "id": "616ce7ef-d7d3-47cc-9aed-b38daf00d6d6",
   "metadata": {},
   "outputs": [
    {
     "name": "stdout",
     "output_type": "stream",
     "text": [
      "data not existedmy name is afham shaikh my age is 18 \n"
     ]
    }
   ],
   "source": [
    "with open (\"myname.txt\",\"r\") as file:\n",
    "    print(file.read())"
   ]
  },
  {
   "cell_type": "code",
   "execution_count": null,
   "id": "98a6edad-965a-4361-ab68-9f426b4bbd46",
   "metadata": {},
   "outputs": [],
   "source": []
  }
 ],
 "metadata": {
  "kernelspec": {
   "display_name": "Python 3 (ipykernel)",
   "language": "python",
   "name": "python3"
  },
  "language_info": {
   "codemirror_mode": {
    "name": "ipython",
    "version": 3
   },
   "file_extension": ".py",
   "mimetype": "text/x-python",
   "name": "python",
   "nbconvert_exporter": "python",
   "pygments_lexer": "ipython3",
   "version": "3.13.3"
  }
 },
 "nbformat": 4,
 "nbformat_minor": 5
}
