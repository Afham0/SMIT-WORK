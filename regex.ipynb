{
 "cells": [
  {
   "cell_type": "code",
   "execution_count": 1,
   "id": "db72fba7-1cc6-45dd-bb69-61f66f915a08",
   "metadata": {},
   "outputs": [],
   "source": [
    "import re"
   ]
  },
  {
   "cell_type": "code",
   "execution_count": 6,
   "id": "d1da9e84-5321-4fc3-826f-1591659c8884",
   "metadata": {},
   "outputs": [
    {
     "name": "stdin",
     "output_type": "stream",
     "text": [
      " ==========@gamil.com\n"
     ]
    },
    {
     "name": "stdout",
     "output_type": "stream",
     "text": [
      "note found\n"
     ]
    }
   ],
   "source": [
    "text=input()\n",
    "pattern=r\"[A-Za-z0-9._]+@[a-z]+.[a-z]+\"\n",
    "match=re.search(pattern,text)\n",
    "if match:\n",
    "    print(\"email found:\",match.group())\n",
    "else:\n",
    "    print(\"note found\")"
   ]
  },
  {
   "cell_type": "code",
   "execution_count": 10,
   "id": "6b62ba98-89f2-487d-bf8b-8695336d14c5",
   "metadata": {},
   "outputs": [
    {
     "name": "stdout",
     "output_type": "stream",
     "text": [
      "My email is afhamshaikh90@gmail.com what is your email. my email is shaikh_shab@Gmail.com\n",
      "My email is afhamshaikh90@gmail.com what is your email. my email is shaikh_shab@Gmail.com\n",
      "My email is afhamshaikh90@gmail.com what is your email. my email is shaikh_shab@Gmail.com\n",
      "vMy email is afhamshaikh90@gmail.com what is your email. my email is shaikh_shab@Gmail.com\n",
      "My email is afhamshaikh90@gmail.com what is your email. my email is shaikh_shab@Gmail.com\n",
      "My email is afhamshaikh90@gmail.com what is your email. my email is shaikh_shab@Gmail.com\n",
      "\n",
      "My email is afhamshaikh90@gmail.com what is your email. my email is shaikh_shab@Gmail.com\n",
      "My email is afhamshaikh90@gmail.com what is your email. my email is shaikh_shab@Gmail.com\n",
      "My email is afhamshaikh90@gmail.com what is your email. my email is shaikh_shab@Gmail.com\n",
      "My email is afhamshaikh90@gmail.com what is your email. my email is shaikh_shab@Gmail.com\n",
      "My email is afhamshaikh90@gmail.com what is your email. my email is shaikh_shab@Gmail.com\n",
      "My email is afhamshaikh90@gmail.com what is your email. my email is shaikh_shab@Gmail.com\n",
      "My email is afhamshaikh90@gmail.com what is your email. my email is shaikh_shab@Gmail.com\n",
      "My email is afhamshaikh90@gmail.com what is your email. my email is shaikh_shab@Gmail.com\n",
      "My email is afhamshaikh90@gmail.com what is your email. my email is shaikh_shab@Gmail.com\n",
      "My email is afhamshaikh90@gmail.com what is your email. my email is shaikh_shab@Gmail.com\n",
      "My email is afhamshaikh90@gmail.com what is your email. my email is shaikh_shab@Gmail.com\n",
      "My email is afhamshaikh90@gmail.com what is your email. my email is shaikh_shab@Gmail.com\n",
      "My email is afhamshaikh90@gmail.com what is your email. my email is shaikh_shab@Gmail.com\n",
      "My email is afhamshaikh90@gmail.com what is your email. my email is shaikh_shab@Gmail.com\n",
      "My email is afhamshaikh90@gmail.com what is your email. my email is shaikh_shab@Gmail.com\n",
      "\n",
      "My email is afhamshaikh90@gmail.com what is your email. my email is shaikh_shab@Gmail.com\n",
      "My email is afhamshaikh90@gmail.com what is your email. my email is shaikh_shab@Gmail.com\n",
      "My email is afhamshaikh90@gmail.com what is your email. my email is shaikh_shab@Gmail.com\n"
     ]
    }
   ],
   "source": [
    "with open(\"emails.txt\",\"r\") as file:\n",
    "    content=file.read()\n",
    "    print(content)"
   ]
  },
  {
   "cell_type": "code",
   "execution_count": 20,
   "id": "efe46634-6f32-4635-8f66-b0c29747b475",
   "metadata": {},
   "outputs": [
    {
     "name": "stdout",
     "output_type": "stream",
     "text": [
      "['afhamshaikh90@gmail.com', 'afhamshaikh90@gmail.com', 'afhamshaikh90@gmail.com', 'afhamshaikh90@gmail.com', 'afhamshaikh90@gmail.com', 'afhamshaikh90@gmail.com', 'afhamshaikh90@gmail.com', 'afhamshaikh90@gmail.com', 'afhamshaikh90@gmail.com', 'afhamshaikh90@gmail.com', 'afhamshaikh90@gmail.com', 'afhamshaikh90@gmail.com', 'afhamshaikh90@gmail.com', 'afhamshaikh90@gmail.com', 'afhamshaikh90@gmail.com', 'afhamshaikh90@gmail.com', 'afhamshaikh90@gmail.com', 'afhamshaikh90@gmail.com', 'afhamshaikh90@gmail.com', 'afhamshaikh90@gmail.com', 'afhamshaikh90@gmail.com', 'afhamshaikh90@gmail.com', 'afhamshaikh90@gmail.com', 'afhamshaikh90@gmail.com']\n"
     ]
    }
   ],
   "source": [
    "pattern=r\"[A-Za-z0-9._]+@[a-z]+.[a-z]+\"\n",
    "match=re.findall(pattern,content)\n",
    "print(match)"
   ]
  },
  {
   "cell_type": "code",
   "execution_count": 21,
   "id": "53d0c4cf-e631-4335-978f-993f9b3037b8",
   "metadata": {},
   "outputs": [],
   "source": [
    "with open(\"mailsby.txt\",\"w\") as file:\n",
    "    file.write(f\"{match}\")"
   ]
  },
  {
   "cell_type": "code",
   "execution_count": 25,
   "id": "50591ab8-2021-4c9e-9044-4f18a51bbfb0",
   "metadata": {},
   "outputs": [
    {
     "name": "stdin",
     "output_type": "stream",
     "text": [
      "write your number +7898-6789567\n"
     ]
    },
    {
     "name": "stdout",
     "output_type": "stream",
     "text": [
      "found: 7898-6789567\n"
     ]
    }
   ],
   "source": [
    "text=input(\"write your number\")\n",
    "pattern=r\"[\\+\\d]{4}-\\d{7}\"\n",
    "match=re.search(pattern,text)\n",
    "if match:\n",
    "    print(\"found:\",match.group())\n",
    "else:\n",
    "    print(\"note found\")"
   ]
  },
  {
   "cell_type": "code",
   "execution_count": 36,
   "id": "0b69234d-ea9a-4ed5-bb40-f497f76cc25d",
   "metadata": {},
   "outputs": [
    {
     "name": "stdin",
     "output_type": "stream",
     "text": [
      " 45678-4567345-3\n"
     ]
    },
    {
     "name": "stdout",
     "output_type": "stream",
     "text": [
      "found 45678-4567345-3\n"
     ]
    }
   ],
   "source": [
    "text=input()\n",
    "pattern=r\"\\d{5}-\\d{7}-\\d\"\n",
    "match=re.search(pattern,text)\n",
    "if match:\n",
    "    print(\"found\",match.group())\n",
    "else:\n",
    "    print(\"not found\")"
   ]
  },
  {
   "cell_type": "code",
   "execution_count": 45,
   "id": "eebb93e5-0f38-4fe8-9507-9e5528576bce",
   "metadata": {},
   "outputs": [
    {
     "name": "stdout",
     "output_type": "stream",
     "text": [
      "['my', 'n', 'ame', 'is', 'i', 'have', 'manay', 'number', 'you', 'like', 'this']\n"
     ]
    }
   ],
   "source": [
    "text=\"my n ame is afh17am 9267-5678987dfgdfdffdgg9267-5678987 i have manay number you like this 9267-56789879267-5678987 75768703447578893 \"\n",
    "pattern=r\"\\b[A-Za-z]+\\b\"\n",
    "match=re.findall(pattern,text)\n",
    "print(match)"
   ]
  },
  {
   "cell_type": "code",
   "execution_count": 36,
   "id": "44a9fff8-a739-4931-a5f6-8e839d0a62f3",
   "metadata": {},
   "outputs": [
    {
     "name": "stdout",
     "output_type": "stream",
     "text": [
      "my name is afham ,my email is afhamshaikh90@gamail.com. and Nic number is 413043-1417446-9 and my mobile number is 0349-3322180\n",
      "my name is afham ,my email is afhamshaikh90@gamail.com. and Nic number is 413043-1417446-9 and my mobile number is 0349-3322180\n",
      "my name is afham ,my email is afhamshaikh90@gamail.com. and Nic number is 413034-1417446-9 and my mobile number is +9249-3322180\n",
      "my name is afham ,my email is afhamshaikh90@gamail.com. and Nic number is 413304-1417446-9 and my mobile number is +9249-3322180\n",
      "my name is afham ,my email is afhamshaikh90@gamail.com. and Nic number is 413304-1417446-9 and my mobile number is +9249-3322180\n",
      "my name is afham ,my email is afhamshaikh90@gamail.com. and Nic number is 431304-1417446-9 and my mobile number is 0349-3322180\n",
      "my name is afham ,my email is afhamshaikh90@gamail.com. and Nic number is 413043-1417446-9 and my mobile number is 0349-3322180\n",
      "\n"
     ]
    }
   ],
   "source": [
    "with open (\"mydata.txt\",\"r\") as file:\n",
    "    content=file.read()\n",
    "    print(content)\n",
    "    "
   ]
  },
  {
   "cell_type": "code",
   "execution_count": 27,
   "id": "a5146195-c7b1-4177-b431-5d92000a00e7",
   "metadata": {},
   "outputs": [],
   "source": [
    "import re\n",
    "   "
   ]
  },
  {
   "cell_type": "code",
   "execution_count": 53,
   "id": "fd2bb6c2-e2c0-4d84-ac41-5bc75f356b49",
   "metadata": {},
   "outputs": [
    {
     "name": "stdout",
     "output_type": "stream",
     "text": [
      "['afhamshaikh90@gamail.com', 'afhamshaikh90@gamail.com', 'afhamshaikh90@gamail.com', 'afhamshaikh90@gamail.com', 'afhamshaikh90@gamail.com', 'afhamshaikh90@gamail.com', 'afhamshaikh90@gamail.com']\n",
      "['0349-3322180', '0349-3322180', '+9249-3322180', '+9249-3322180', '+9249-3322180', '0349-3322180', '0349-3322180']\n",
      "['413043-1417446-9', '413043-1417446-9', '413034-1417446-9', '413304-1417446-9', '413304-1417446-9', '431304-1417446-9', '413043-1417446-9']\n"
     ]
    }
   ],
   "source": [
    "email_rg=r\"[A-Za-z0-9._]+@[a-z]+.[a-z]+\"\n",
    "number_rg=r\"03\\d{2}[-]\\d{7}|\\+92\\d{2}[-]\\d{7}\"\n",
    "nic_rg=r\"\\d{6}[-]\\d{7}[-]\\d\"\n",
    "match1=re.findall(email_rg,content)\n",
    "match2=re.findall(number_rg,content)\n",
    "match3=re.findall(nic_rg,content)\n",
    "print(match1)\n",
    "print(match2)\n",
    "print(match3)"
   ]
  },
  {
   "cell_type": "code",
   "execution_count": null,
   "id": "5f5ad2d2-6c99-4ccf-aa0e-be4a7846172d",
   "metadata": {},
   "outputs": [],
   "source": [
    "with open(\"gmailby.txt\",\"w\") as file:\n",
    "    for x in range(len(match1)):\n",
    "        file.write(f\"{match1[x]} \\n\")\n",
    "with open(\"numberby.txt\",\"w\") as file:\n",
    "    for x in range(len(match2)):\n",
    "        file.write(f\"{match2[x]} \\n\")\n",
    "with open(\"nicby.txt\",\"w\") as file:\n",
    "    for x in range(len(match3)):\n",
    "        file.write(f\"{match3[x]} \\n\")"
   ]
  }
 ],
 "metadata": {
  "kernelspec": {
   "display_name": "Python 3 (ipykernel)",
   "language": "python",
   "name": "python3"
  },
  "language_info": {
   "codemirror_mode": {
    "name": "ipython",
    "version": 3
   },
   "file_extension": ".py",
   "mimetype": "text/x-python",
   "name": "python",
   "nbconvert_exporter": "python",
   "pygments_lexer": "ipython3",
   "version": "3.13.3"
  }
 },
 "nbformat": 4,
 "nbformat_minor": 5
}
